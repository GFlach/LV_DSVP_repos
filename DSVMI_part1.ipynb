{
 "cells": [
  {
   "cell_type": "markdown",
   "metadata": {},
   "source": [
    "[Table of Contents](table_of_contents.ipynb)"
   ]
  },
  {
   "cell_type": "markdown",
   "metadata": {},
   "source": [
    "##### Protokoll\n",
    "# Praktikum Digitale Signalverarbeitung\n",
    "## Versuch DSM4: Akustik und Tongestaltung (Sound Design)\n",
    "<table align=\"left\" width=\"600\">\n",
    "    <colgroup>\n",
    "       <col span=\"1\" style=\"width: 25%;\">\n",
    "       <col span=\"1\" style=\"width: 25%;\">\n",
    "       <col span=\"1\" style=\"width: 25%;\">\n",
    "       <col span=\"1\" style=\"width: 25%;\">\n",
    "    </colgroup>\n",
    "  <tr>\n",
    "    <th><font size=\"4\">Name</th>\n",
    "    <th><font size=\"4\">Vorname</th> \n",
    "    <th><font size=\"4\">Versuchsgruppe</th>\n",
    "    <th><font size=\"4\">Datum</th>\n",
    "  </tr>\n",
    "  <tr>\n",
    "    <td> Mustermann</td>\n",
    "    <td> Max</td>\n",
    "    <td> IM-xx</td>\n",
    "    <td> xx.xx.2019</td>\n",
    "  </tr>\n",
    "</table>\n"
   ]
  },
  {
   "cell_type": "markdown",
   "metadata": {},
   "source": [
    "In diesem Versuch werden unterschiedliche akustische Ereignisse untersucht, in ihrer zeitlichen Struktur und ihrem Frequenzgehalt verändert. Das Ziel besteht darin, grundlegende Zusammenhänge bei der Synthese und dem optimalen Mischen von Schall, z. B. für Audioproduktionen zu erkennen und umzusetzen."
   ]
  },
  {
   "cell_type": "code",
   "execution_count": 4,
   "metadata": {
    "collapsed": true
   },
   "outputs": [],
   "source": [
    "import functions.tproc_new as tp"
   ]
  },
  {
   "cell_type": "code",
   "execution_count": 7,
   "metadata": {
    "collapsed": true
   },
   "outputs": [],
   "source": [
    "nb_in = 'DSVMI_part1.ipynb'\n",
    "nb_out = 'Protokoll_part1.ipynb'\n",
    "tp.protokoll(nb_in,nb_out)"
   ]
  }
 ],
 "metadata": {
  "kernelspec": {
   "display_name": "Python 3",
   "language": "python",
   "name": "python3"
  },
  "language_info": {
   "codemirror_mode": {
    "name": "ipython",
    "version": 3
   },
   "file_extension": ".py",
   "mimetype": "text/x-python",
   "name": "python",
   "nbconvert_exporter": "python",
   "pygments_lexer": "ipython3",
   "version": "3.7.1"
  }
 },
 "nbformat": 4,
 "nbformat_minor": 1
}
