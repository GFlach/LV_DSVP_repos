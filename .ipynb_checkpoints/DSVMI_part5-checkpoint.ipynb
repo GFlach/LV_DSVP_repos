{
 "cells": [
  {
   "cell_type": "markdown",
   "metadata": {},
   "source": [
    "#### Festlegung für die Darstellung von interaktiven Graphiken innerhalb des Notebooks"
   ]
  },
  {
   "cell_type": "code",
   "execution_count": null,
   "metadata": {},
   "outputs": [],
   "source": [
    "%pylab inline"
   ]
  },
  {
   "cell_type": "markdown",
   "metadata": {},
   "source": [
    "#### Import der notwendigen Pakete und Module"
   ]
  },
  {
   "cell_type": "code",
   "execution_count": null,
   "metadata": {},
   "outputs": [],
   "source": [
    "import matplotlib.pyplot as plt\n",
    "import numpy as np\n",
    "import scipy.constants as const\n",
    "import scipy\n",
    "from scipy.io import wavfile\n",
    "from pylab import *\n",
    "from scipy.fftpack import fft, ifft\n",
    "from IPython.display import Audio\n",
    "\n",
    "import functions.dsvorg as do\n",
    "import functions.data_resample as resample\n",
    "import functions.bsfilter as bsfilter\n",
    "import functions.classes as dc\n",
    "import functions.tproc_new as tp"
   ]
  },
  {
   "cell_type": "markdown",
   "metadata": {},
   "source": [
    "[Table of Contents](table_of_contents.ipynb)"
   ]
  },
  {
   "cell_type": "markdown",
   "metadata": {},
   "source": [
    "##### Protokoll\n",
    "## Mischen von Schall - Bearbeitung von Schall im Frequenzbereich\n",
    "\n",
    "<table align=\"left\" width=\"400\">\n",
    "    <colgroup>\n",
    "       <col span=\"1\" style=\"width: 50%;\">\n",
    "       <col span=\"1\" style=\"width: 50%;\">\n",
    "    </colgroup>\n",
    "  <tr>\n",
    "    <th>Name</th>\n",
    "    <th>Vorname</th> \n",
    "  </tr>\n",
    "  <tr>\n",
    "    <td> Mustermann</td>\n",
    "    <td> Max</td>\n",
    "  </tr>\n",
    "</table>"
   ]
  },
  {
   "cell_type": "markdown",
   "metadata": {},
   "source": [
    "Schallereignisse in Hörspielen und Filmen umfassen oft eine Mischung aus Sprachsignalen und Geräuschen, die eine Umgebungsatmosphäre vermitteln sollen. Bei der Mischung sind 2 Ziele zu erreichen:\n",
    "- möglichst hohe Sprachverständlichkeit\n",
    "- möglichst authentische Geräuschumgebung.\n",
    "\n",
    "In den folgenden Aufgaben sollen Sie aus den zur Verfügung stehenden Sprach- und Umgebungsgeräuschaufnahmen Mischungen erzeugen, die diese Ziele erfüllen."
   ]
  },
  {
   "cell_type": "markdown",
   "metadata": {},
   "source": [
    "### Bearbeitung von Schall im Frequenzbereich\n",
    "Zur Bearbeitung von Schall im Frequenzbereich werden Nutz- und Umgebungsgeräuschsignale mit gleicher Abtastfrequenz und gleicher Dauer verwendet. \n",
    "Der erste Teil der Aufgabe besteht darin, das Umgebungsgeräuschsignal in seinem Frequenzgehalt so zu verändern, dass die Signalcharakteristik erhalten bleibt und die Sprache des gemischten Signals gut verständlich ist. Dazu stehen folgende Dateien zur Verfügung:\n",
    "- `frau_p5.wav` (1)\n",
    "- `kind_p5.wav`       (2)\n",
    "- `rauschen_p5.wav`   (3)\n",
    "- `wasser_p5.wav`     (4)\n",
    "\n",
    "Im zweiten Teil soll versucht werden, einen im Nutzsignal enthaltenen \"Störanteil\" zu beseitigen. Dazu stehen folgende Dateien zur Verfügung:\n",
    "- `dsv1_gs_stoer.wav` (5)\n",
    "- `dsv1_at_stoer.wav` (6)"
   ]
  },
  {
   "cell_type": "markdown",
   "metadata": {},
   "source": [
    "Der Frequenzgehalt eines Signals kann durch Filterung verändert werden. In der Signalverarbeitung werden je nach gewünschtem Effekt die folgenden Filtertypen verwendet:\n",
    "- Tiefpass (obere Grenzfrequenz) - `typ='lp'`\n",
    "- Hochpass (untere Grenzfrequenz) - `typ='hp'`\n",
    "- Bandpass (untere und obere Grenzfrequenz) - `typ='bp'`\n",
    "- Bandsperre (untere und obere Grenzfrequenz) - `typ='bs'`\n",
    "\n",
    "Weiterhin kann für ein Filter eine Ordnung vorgegeben werden, mit der die Steilheit des Filters (Trennung von Durchlass- und Sperrbereich) gesteuert werden kann."
   ]
  },
  {
   "cell_type": "markdown",
   "metadata": {},
   "source": [
    "### <font color=\"#008000\">Aufgabe 1</font>\n",
    "Ermitteln Sie für die in der Tabelle Filterentwurf angegebenen Filtertypen die maximale Steilheit (Übertragungsfunktion hat erwartetes Aussehen)."
   ]
  },
  {
   "cell_type": "markdown",
   "metadata": {},
   "source": [
    "#### <font color=\"#FF0000\">Eingabezelle 1</font>"
   ]
  },
  {
   "cell_type": "code",
   "execution_count": null,
   "metadata": {},
   "outputs": [],
   "source": [
    "fgu = 1000\n",
    "fgo = 3000\n",
    "order = 7\n",
    "typ = 'bs'"
   ]
  },
  {
   "cell_type": "code",
   "execution_count": null,
   "metadata": {},
   "outputs": [],
   "source": [
    "bsfilter.filter_fgang(fgu=fgu, fgo=fgo, order=order, typ=typ)\n",
    "plt.show()"
   ]
  },
  {
   "cell_type": "markdown",
   "metadata": {},
   "source": [
    "##### Protokoll\n",
    "#### Aufgabe 1 - Filterentwurf\n",
    "<table>\n",
    "    <colgroup>\n",
    "       <col span=\"1\" style=\"width: 20%;\">\n",
    "       <col span=\"1\" style=\"width: 20%;\">\n",
    "       <col span=\"1\" style=\"width: 20%;\">\n",
    "       <col span=\"1\" style=\"width: 20%;\">\n",
    "       <col span=\"1\" style=\"width: 20%;\">\n",
    "    </colgroup>\n",
    "  <tr>\n",
    "    <th>Nr.</th>\n",
    "    <th>Filtertyp</th>\n",
    "    <th>$f_{gu}$</th> \n",
    "    <th>$f_{go}$ in Hz</th> \n",
    "    <th>maximale Ordnung</th> \n",
    "  </tr>\n",
    "  <tr>\n",
    "    <th>1</th>\n",
    "    <th>TP</th>\n",
    "    <th> - </th> \n",
    "    <th>1000 </th> \n",
    "    <th>12 </th> \n",
    "  </tr>\n",
    "  <tr>\n",
    "    <th>2</th>\n",
    "    <th>TP</th>\n",
    "    <th> - </th> \n",
    "    <th>3000 </th> \n",
    "    <th>21 </th> \n",
    "  </tr>\n",
    "  <tr>\n",
    "    <th>3</th>\n",
    "    <th>HP</th>\n",
    "    <th> 1000 </th> \n",
    "    <th> - </th> \n",
    "    <th>11 </th> \n",
    "  </tr>\n",
    "  <tr>\n",
    "    <th>4</th>\n",
    "    <th>HP</th>\n",
    "    <th> 3000 </th> \n",
    "    <th> - </th> \n",
    "    <th>21 </th> \n",
    "  </tr>\n",
    "  <tr>\n",
    "    <th>5</th>\n",
    "    <th>BP</th>\n",
    "    <th>500 </th> \n",
    "    <th>1500</th> \n",
    "    <th>5 </th> \n",
    "  </tr>\n",
    "  <tr>\n",
    "    <th>6</th>\n",
    "    <th>BP</th>\n",
    "    <th>1000 </th> \n",
    "    <th>1500</th> \n",
    "    <th>5 </th> \n",
    "  </tr>\n",
    "  <tr>\n",
    "    <th>7</th>\n",
    "    <th>BP</th>\n",
    "    <th>1000 </th> \n",
    "    <th>3000</th> \n",
    "    <th>7 </th> \n",
    "  </tr>\n",
    "  <tr>\n",
    "    <th>8</th>\n",
    "    <th>BS</th>\n",
    "    <th>500 </th> \n",
    "    <th> 1500</th> \n",
    "    <th>5 </th> \n",
    "  <tr>\n",
    "    <th>9</th>\n",
    "    <th>BS</th>\n",
    "    <th>1000 </th> \n",
    "    <th> 1500</th> \n",
    "    <th>5 </th> \n",
    "  </tr>\n",
    "  <tr>\n",
    "    <th>10</th>\n",
    "    <th>BS</th>\n",
    "    <th>1000 </th> \n",
    "    <th> 3000</th> \n",
    "    <th>7 </th> \n",
    "  </tr>\n",
    "  </tr>\n",
    "</table>"
   ]
  },
  {
   "cell_type": "markdown",
   "metadata": {},
   "source": [
    "### Signalfilterung\n",
    "### <font color=\"#008000\">Aufgabe 2</font>\n",
    "\n",
    "Untersuchen Sie die Auswirkung der Filter 1 und 3 aus der **Tabelle Filterentwurf** auf die Signale 1, 2, 3, und 4."
   ]
  },
  {
   "cell_type": "markdown",
   "metadata": {},
   "source": [
    "#### <font color=\"#FF0000\">Eingabezelle 2</font>"
   ]
  },
  {
   "cell_type": "code",
   "execution_count": null,
   "metadata": {},
   "outputs": [],
   "source": [
    "#fnr = 1\n",
    "fnr = 3\n",
    "#file = 'frau_p5'\n",
    "#file = 'kind_p5'\n",
    "#file = 'rauschen_p5'\n",
    "file = 'wasser_p5'\n",
    "fs, data_in = do.load_data(file)\n",
    "Audio(data = data_in, rate = fs)"
   ]
  },
  {
   "cell_type": "code",
   "execution_count": null,
   "metadata": {},
   "outputs": [],
   "source": [
    "if fnr == 1:\n",
    "    fgo = 1000\n",
    "    order = 12\n",
    "    typ = 'lp'\n",
    "if fnr == 3:\n",
    "    fgu = 1000\n",
    "    order = 11\n",
    "    typ = 'hp'\n",
    "fs, data_in = do.load_data(file)\n",
    "data_out = bsfilter.filter_appl(fs, data_in, fgu=fgu, fgo=fgo, order=order, typ=typ)\n",
    "Audio(data = data_out, rate = fs)"
   ]
  },
  {
   "cell_type": "markdown",
   "metadata": {},
   "source": [
    "##### Protokoll\n",
    "#### Aufgabe 2 - Filterwirkung\n",
    "<table>\n",
    "    <colgroup>\n",
    "       <col span=\"1\" style=\"width: 10%;\">\n",
    "       <col span=\"1\" style=\"width: 10%;\">\n",
    "       <col span=\"1\" style=\"width: 80%;\">\n",
    "    </colgroup>\n",
    "  <tr>\n",
    "    <th>Filter</th>\n",
    "    <th>Signal</th>\n",
    "    <th>Beschreibung Ergebnis</th> \n",
    "  </tr>\n",
    "  <tr>\n",
    "    <th>1</th>\n",
    "    <th>1</th>\n",
    "    <th> </th> \n",
    "  </tr>\n",
    "  <tr>\n",
    "    <th>1</th>\n",
    "    <th>2</th>\n",
    "    <th> </th> \n",
    "  </tr>\n",
    "  <tr>\n",
    "    <th>1</th>\n",
    "    <th>3</th>\n",
    "    <th> </th> \n",
    "  </tr>\n",
    "  <tr>\n",
    "    <th>1</th>\n",
    "    <th>4</th>\n",
    "    <th> </th> \n",
    "  </tr>\n",
    "  <tr>\n",
    "    <th>3</th>\n",
    "    <th>1</th>\n",
    "    <th> </th> \n",
    "  </tr>\n",
    "  <tr>\n",
    "    <th>3</th>\n",
    "    <th>2</th>\n",
    "    <th> </th> \n",
    "  </tr>\n",
    "  <tr>\n",
    "    <th>3</th>\n",
    "    <th>3</th>\n",
    "    <th> </th> \n",
    "  </tr>\n",
    "  <tr>\n",
    "    <th>3</th>\n",
    "    <th>4</th>\n",
    "    <th> </th> \n",
    "  </tr>\n",
    "</table>"
   ]
  },
  {
   "cell_type": "markdown",
   "metadata": {},
   "source": [
    "Im folgenden wird die Kombination ungefilterter und gefilterter Signale betrachtet."
   ]
  },
  {
   "cell_type": "code",
   "execution_count": null,
   "metadata": {},
   "outputs": [],
   "source": [
    "file = 'wasser_p5'\n",
    "fs, data_in1 = do.load_data(file)\n",
    "file = 'frau_p5'\n",
    "fs, data_in2 = do.load_data(file)\n",
    "Audio(data = data_in1 + data_in2, rate = fs)"
   ]
  },
  {
   "cell_type": "code",
   "execution_count": null,
   "metadata": {},
   "outputs": [],
   "source": [
    "file = 'wasser_p5'\n",
    "fs, data_in1 = do.load_data(file)\n",
    "data_out1 = bsfilter.filter_appl(fs, data_in1, fgu=1000, fgo=fgo, order=5, typ='hp')\n",
    "file = 'frau_p5'\n",
    "fs, data_in2 = do.load_data(file)\n",
    "data_out2 = bsfilter.filter_appl(fs, data_in2, fgu=fgu, fgo=1000, order=5, typ='lp')\n",
    "Audio(data = 0.1 * data_out1 + data_out2, rate = fs)"
   ]
  },
  {
   "cell_type": "code",
   "execution_count": null,
   "metadata": {},
   "outputs": [],
   "source": [
    "fig = plt.figure(figsize=(16,8))\n",
    "fs, data_in =do.load_data(file1)\n",
    "fig.add_subplot(211)\n",
    "do.spektrum(fs, data_out1 + data_out2)\n",
    "fig.add_subplot(212)\n",
    "do.spektrogramm(fs, 0.1 * data_out1 + data_out2)"
   ]
  },
  {
   "cell_type": "markdown",
   "metadata": {},
   "source": [
    "#### <font color=\"#FF0000\">Eingabezelle 4</font>"
   ]
  },
  {
   "cell_type": "markdown",
   "metadata": {},
   "source": [
    "#### Entwurf eines geeigneten Filters\n",
    "Für eine Verbesserung des Höreindruckes sollen sich Nutzsignal und Umgebungsgeräusch im Spektrum möglichst wenig überlappen. Wenn eine solche Überlappung existiert (anhand der Spektren erkennbar), sollte das Umgebungsgeräusch mit geeigneten Filtern so bearbeitet werden, dass der Signalcharakter erhalten bleibt und in der Mischung das Nutzsignal besser erkennbar ist.\n",
    "Bearbeiten Sie die Umgebungsgeräuschsignale durch Anwendung geeigneter Filter."
   ]
  },
  {
   "cell_type": "markdown",
   "metadata": {},
   "source": [
    "#### Bearbeitung von Signalmischungen\n",
    "Hören Sie zunächst die zur Verfügung stehenden Signale unbearbeitet an."
   ]
  },
  {
   "cell_type": "markdown",
   "metadata": {},
   "source": [
    "#### <font color=\"#FF0000\">Eingabezelle 1</font>"
   ]
  },
  {
   "cell_type": "code",
   "execution_count": null,
   "metadata": {},
   "outputs": [],
   "source": [
    "file = 'dsv1_frau_clean_trim'"
   ]
  },
  {
   "cell_type": "code",
   "execution_count": null,
   "metadata": {},
   "outputs": [],
   "source": [
    "fs, data = do.load_data(file)\n",
    "Audio(data = data, rate = fs)"
   ]
  },
  {
   "cell_type": "markdown",
   "metadata": {},
   "source": [
    "### <font color=\"#008000\">Aufgabe 1</font>"
   ]
  },
  {
   "cell_type": "markdown",
   "metadata": {},
   "source": [
    "Untersuchen Sie zunächst den Frequenzgehalt der Signale 1 bis 5. Für das jeweils ausgewählte Signal wird das Spektrum und das Kurzzeitspektrum ermittelt. \n",
    "\n",
    "Tragen Sie in der  **Tabelle Frequenzschwerpunkte** maximal 2 Frequenzgebiete mit großer Amplitude für die angegebenen Signale ein! "
   ]
  },
  {
   "cell_type": "code",
   "execution_count": null,
   "metadata": {},
   "outputs": [],
   "source": [
    "fs, data_in = do.load_data(file)\n",
    "data_out = bsfilter.filter_appl(fs, data_in, fgu=fgu, fgo=fgo, order=order, typ=typ)\n",
    "do.write_data(file +'_filt', data_out)"
   ]
  },
  {
   "cell_type": "markdown",
   "metadata": {},
   "source": [
    "#### <font color=\"#FF0000\">Eingabezelle 2</font>"
   ]
  },
  {
   "cell_type": "code",
   "execution_count": null,
   "metadata": {},
   "outputs": [],
   "source": [
    "file1 = 'dsv1_frau_clean_trim_filt'"
   ]
  },
  {
   "cell_type": "code",
   "execution_count": null,
   "metadata": {
    "scrolled": true
   },
   "outputs": [],
   "source": [
    "fig = plt.figure(figsize=(16,8))\n",
    "fs, data_in =do.load_data(file1)\n",
    "fig.add_subplot(211)\n",
    "do.spektrum(fs, data_in)\n",
    "fig.add_subplot(212)\n",
    "do.spektrogramm(fs, data_in)"
   ]
  },
  {
   "cell_type": "code",
   "execution_count": null,
   "metadata": {},
   "outputs": [],
   "source": [
    "Audio(data = data_out, rate = fs)"
   ]
  },
  {
   "cell_type": "markdown",
   "metadata": {},
   "source": [
    "##### Protokoll\n",
    "#### Aufgabe 1 - Tabelle Frequenzschwerpunkte\n",
    "<table>\n",
    "    <colgroup>\n",
    "       <col span=\"1\" style=\"width: 20%;\">\n",
    "       <col span=\"1\" style=\"width: 20%;\">\n",
    "       <col span=\"1\" style=\"width: 20%;\">\n",
    "       <col span=\"1\" style=\"width: 20%;\">\n",
    "       <col span=\"1\" style=\"width: 20%;\">\n",
    "    </colgroup>\n",
    "  <tr>\n",
    "    <th>File</th>\n",
    "    <th>$f_{min1}$</th> \n",
    "    <th>$f_{max1}$</th> \n",
    "    <th>$f_{min2}$</th> \n",
    "    <th>$f_{max2}$</th> \n",
    "  </tr>\n",
    "  <tr>\n",
    "    <th>dsv1_frau_clean_trim.wav</th>\n",
    "    <th> </th> \n",
    "    <th> </th> \n",
    "    <th> </th> \n",
    "    <th> </th> \n",
    "  </tr>\n",
    "  <tr>\n",
    "    <th>dsv1_kind_trim.wav </th>\n",
    "    <th> </th> \n",
    "    <th> </th> \n",
    "    <th> </th> \n",
    "    <th> </th> \n",
    "  </tr>\n",
    "  <tr>\n",
    "    <th>dsv1_gaense_trim.wav</th>\n",
    "    <th> </th> \n",
    "    <th> </th> \n",
    "    <th> </th> \n",
    "    <th> </th> \n",
    "  </tr>\n",
    "</table>"
   ]
  },
  {
   "cell_type": "markdown",
   "metadata": {},
   "source": [
    "### <font color=\"#008000\">Aufgabe 2</font>"
   ]
  },
  {
   "cell_type": "markdown",
   "metadata": {},
   "source": [
    "Mischen Sie die Nutzsignale (1,2)  mit den unbearbeiteten Umgebungsgeräuschsignalen (3,4,5). Charakterisieren Sie den Höreindruck in der **Tabelle Mischung(unbearbeitet)**."
   ]
  },
  {
   "cell_type": "markdown",
   "metadata": {},
   "source": [
    "#### <font color=\"#FF0000\">Eingabezelle 3</font>"
   ]
  },
  {
   "cell_type": "code",
   "execution_count": null,
   "metadata": {},
   "outputs": [],
   "source": [
    "file1 = 'dsv1_kind_trim'\n",
    "file2 = 'dsv1_gaense_trim'"
   ]
  },
  {
   "cell_type": "code",
   "execution_count": null,
   "metadata": {},
   "outputs": [],
   "source": [
    "data = do.misch(file1,file2)\n",
    "Audio(data = data, rate = 44100)"
   ]
  },
  {
   "cell_type": "markdown",
   "metadata": {},
   "source": [
    "##### Protokoll\n",
    "#### Aufgabe 2 - Tabelle Mischung (unbearbeitet)\n",
    "<table>\n",
    "    <colgroup>\n",
    "       <col span=\"1\" style=\"width: 20%;\">\n",
    "       <col span=\"1\" style=\"width: 20%;\">\n",
    "       <col span=\"1\" style=\"width: 60%;\">\n",
    "    </colgroup>\n",
    "  <tr>\n",
    "    <th>File</th>\n",
    "    <th>Umgebungsgeräuschsignal</th> \n",
    "    <th>Höreindruck</th> \n",
    "  </tr>\n",
    "  <tr>\n",
    "    <th>dsv1_frau_clean_trim.wav</th>\n",
    "    <th>dsv1_gaense_trim.wav </th> \n",
    "    <th> </th> \n",
    "  </tr>\n",
    "  <tr>\n",
    "    <th>dsv1_frau_clean_trim.wav</th>\n",
    "    <th>dsv1_wasser_trim.wav </th> \n",
    "    <th> </th> \n",
    "  </tr>\n",
    "  <tr>\n",
    "    <th>dsv1_frau_clean_trim.wav</th>\n",
    "    <th>dsv1_rauschen_trim.wav </th> \n",
    "    <th> </th> \n",
    "  </tr>\n",
    "  <tr>\n",
    "    <th>dsv1_kind_trim.wav</th>\n",
    "    <th>dsv1_gaense_trim.wav </th> \n",
    "    <th> </th> \n",
    "  </tr>\n",
    "  <tr>\n",
    "    <th>dsv1_kind_trim.wav</th>\n",
    "    <th>dsv1_wasser_trim.wav </th> \n",
    "    <th> </th> \n",
    "  </tr>\n",
    "  <tr>\n",
    "    <th>dsv1_kind_trim.wav</th>\n",
    "    <th>dsv1_rauschen_trim.wav </th> \n",
    "    <th> </th> \n",
    "  </tr>\n",
    "</table>"
   ]
  },
  {
   "cell_type": "markdown",
   "metadata": {},
   "source": [
    "### <font color=\"#008000\">Aufgabe 3</font>"
   ]
  },
  {
   "cell_type": "markdown",
   "metadata": {},
   "source": [
    "Ermitteln Sie für die untersuchten Umgebungsgräusche je maximal 2 geeignete Filter, die nacheinander auf das Signal angewendet werden und tragen Sie deren Parameter in die **Tabelle Filterparameter** ein. Nutzen Sie zum Filterentwurf die folgende Zelle, ermitteln die möglichen Maximalwerte der Filterordnung (`order`)!"
   ]
  },
  {
   "cell_type": "markdown",
   "metadata": {},
   "source": [
    "#### <font color=\"#FF0000\">Eingabezelle 4</font>"
   ]
  },
  {
   "cell_type": "code",
   "execution_count": null,
   "metadata": {},
   "outputs": [],
   "source": [
    "fgu = 175\n",
    "fgo = 225\n",
    "order = 3\n",
    "typ = 'bs'"
   ]
  },
  {
   "cell_type": "markdown",
   "metadata": {},
   "source": [
    "##### Protokoll\n",
    "#### Aufgabe 3 -Tabelle Filterparameter\n",
    "<table>\n",
    "    <colgroup>\n",
    "       <col span=\"1\" style=\"width: 20%;\">\n",
    "       <col span=\"1\" style=\"width: 10%;\">\n",
    "       <col span=\"1\" style=\"width: 10%;\">\n",
    "       <col span=\"1\" style=\"width: 10%;\">\n",
    "       <col span=\"1\" style=\"width: 10%;\">\n",
    "       <col span=\"1\" style=\"width: 10%;\">\n",
    "       <col span=\"1\" style=\"width: 10%;\">\n",
    "       <col span=\"1\" style=\"width: 10%;\">\n",
    "       <col span=\"1\" style=\"width: 10%;\">\n",
    "    </colgroup>\n",
    "  <tr>\n",
    "    <th>File</th>\n",
    "    <th>Typ</th> \n",
    "    <th>$f_{gu}$</th> \n",
    "    <th>$f_{go}$</th>\n",
    "    <th>Ordnung</th>\n",
    "    <th>Typ</th> \n",
    "    <th>$f_{gu}$</th> \n",
    "    <th>$f_{go}$</th>\n",
    "    <th>Ordnung</th> \n",
    "  </tr>\n",
    "  <tr>\n",
    "    <th>dsv1_gaense_trim.wav</th>\n",
    "    <th> </th> \n",
    "    <th> </th> \n",
    "    <th> </th>\n",
    "    <th> </th>\n",
    "    <th> </th> \n",
    "    <th> </th> \n",
    "    <th> </th>\n",
    "    <th> </th> \n",
    "  </tr>\n",
    "  <tr>\n",
    "    <th>dsv1_wasser_trim.wav</th>\n",
    "    <th> </th> \n",
    "    <th> </th> \n",
    "    <th> </th>\n",
    "    <th> </th>\n",
    "    <th> </th> \n",
    "    <th> </th> \n",
    "    <th> </th>\n",
    "    <th> </th> \n",
    "  </tr>\n",
    "  <tr>\n",
    "    <th>dsv1_rauschen_trim.wav</th>\n",
    "    <th> </th> \n",
    "    <th> </th> \n",
    "    <th> </th>\n",
    "    <th> </th>\n",
    "    <th> </th> \n",
    "    <th> </th> \n",
    "    <th> </th>\n",
    "    <th> </th> \n",
    "  </tr>\n",
    "</table>"
   ]
  },
  {
   "cell_type": "markdown",
   "metadata": {},
   "source": [
    "#### Anwenden des bzw. der parametrierten Filter auf das Signal\n",
    "Wenden Sie die Filter auf das Umgebungsgeräusch an. Nach jeder Filterung wird an den Filename die Erweiterung `_filt` angehängt. Beachten Sie dies bei mehrfacher Filterung. Verändern Sie die Filterparameter  `fgu`, `fgo`, `order` und `typ` ."
   ]
  },
  {
   "cell_type": "markdown",
   "metadata": {},
   "source": [
    "#### <font color=\"#FF0000\">Eingabezelle 5</font>"
   ]
  },
  {
   "cell_type": "code",
   "execution_count": null,
   "metadata": {},
   "outputs": [],
   "source": [
    "file = 'dsv1_gaense_trim'\n",
    "fgu = 150\n",
    "fgo = 850\n",
    "order = 4\n",
    "typ = 'bs'"
   ]
  },
  {
   "cell_type": "code",
   "execution_count": null,
   "metadata": {
    "scrolled": true
   },
   "outputs": [],
   "source": [
    "fs, data_in = do.load_data(file)\n",
    "data_out = bsfilter.filter_appl(fs, data_in, fgu=fgu, fgo=fgo, order=order, typ=typ)\n",
    "do.write_data(file +'_filt', data_out)"
   ]
  },
  {
   "cell_type": "markdown",
   "metadata": {},
   "source": [
    "Vergleich gefiltertes und ungefiltertes Signal"
   ]
  },
  {
   "cell_type": "code",
   "execution_count": null,
   "metadata": {},
   "outputs": [],
   "source": [
    "fs, data_in = do.load_data(file)\n",
    "fs, data_in_filt = do.load_data(file + '_filt')\n",
    "data = np.append(data_in_filt, data_in)\n",
    "do.spektrogramm(fs, data)\n",
    "Audio(data = data, rate = fs)"
   ]
  },
  {
   "cell_type": "markdown",
   "metadata": {},
   "source": [
    "#### Mischen von Nutzsignal und gefiltertem Umgebungsgeräusch"
   ]
  },
  {
   "cell_type": "markdown",
   "metadata": {},
   "source": [
    "#### <font color=\"#FF0000\">Eingabezelle 6</font>"
   ]
  },
  {
   "cell_type": "code",
   "execution_count": null,
   "metadata": {},
   "outputs": [],
   "source": [
    "file1 = 'dsv1_kind_trim'\n",
    "file2 = 'dsv1_gaense_trim_filt'"
   ]
  },
  {
   "cell_type": "code",
   "execution_count": null,
   "metadata": {},
   "outputs": [],
   "source": [
    "data_bearbeitet = do.misch(file1,file2)\n",
    "Audio(data=data_bearbeitet, rate=44100)"
   ]
  },
  {
   "cell_type": "markdown",
   "metadata": {},
   "source": [
    "#### Vergleich ungefilterte und gefilterte Mischung\n"
   ]
  },
  {
   "cell_type": "markdown",
   "metadata": {},
   "source": [
    "### <font color=\"#008000\">Aufgabe 4</font>"
   ]
  },
  {
   "cell_type": "markdown",
   "metadata": {},
   "source": [
    "Im Folgenden können Sie die beiden Signalmischungen vergleichen. Tragen Sie in der **Tabelle Mischung (bearbeitet)** die verwendete Umgebungsgeräuschsignaldatei (durch Anhängen von `_filt...`) ein und beschreiben Sie den Höreindruck."
   ]
  },
  {
   "cell_type": "markdown",
   "metadata": {},
   "source": [
    "#### <font color=\"#FF0000\">Eingabezelle 7</font>"
   ]
  },
  {
   "cell_type": "code",
   "execution_count": null,
   "metadata": {},
   "outputs": [],
   "source": [
    "file1 = 'dsv1_frau_clean_trim'\n",
    "file2 = 'dsv1_gaense_trim'\n",
    "file3 = 'dsv1_gaense_trim_filt'"
   ]
  },
  {
   "cell_type": "code",
   "execution_count": null,
   "metadata": {},
   "outputs": [],
   "source": [
    "data_unbearbeitet = do.misch(file1,file2)\n",
    "data_bearbeitet = do.misch(file1,file3)\n",
    "data = np.append(data_unbearbeitet, data_bearbeitet)\n",
    "Audio(data = data, rate = fs)"
   ]
  },
  {
   "cell_type": "markdown",
   "metadata": {
    "collapsed": true
   },
   "source": [
    "##### Protokoll\n",
    "#### Aufgabe 4 - Tabelle Mischung (bearbeitet)\n",
    "<table>\n",
    "    <colgroup>\n",
    "       <col span=\"1\" style=\"width: 20%;\">\n",
    "       <col span=\"1\" style=\"width: 20%;\">\n",
    "       <col span=\"1\" style=\"width: 60%;\">\n",
    "    </colgroup>\n",
    "  <tr>\n",
    "    <th>Nutzsignal</th>\n",
    "    <th>Umgebungsgeräuschsignal</th> \n",
    "    <th>Höreindruck</th> \n",
    "  </tr>\n",
    "  <tr>\n",
    "    <th>dsv1_frau_clean_trim.wav</th>\n",
    "    <th> dsv1_gaense_trim<font color=\"#FF0000\"> ? </font>.wav </th> \n",
    "    <th> </th> \n",
    "  </tr>\n",
    "  <tr>\n",
    "    <th>dsv1_frau_clean_trim.wav</th>\n",
    "    <th>dsv1_wasser_trim<font color=\"#FF0000\"> ? </font>.wav </th> \n",
    "    <th> </th> \n",
    "  </tr>\n",
    "  <tr>\n",
    "    <th>dsv1_frau_clean_trim.wav </th>\n",
    "    <th> dsv1_rauschen_trim<font color=\"#FF0000\"> ? </font>.wav</th> \n",
    "    <th> </th> \n",
    "  </tr>\n",
    "  <tr>\n",
    "    <th>dsv1_kind_trim.wav </th>\n",
    "    <th> dsv1_gaense_trim<font color=\"#FF0000\"> ? </font>.wav</th> \n",
    "    <th> </th> \n",
    "  </tr>\n",
    "  <tr>\n",
    "    <th>dsv1_kind_trim.wav </th>\n",
    "    <th> dsv1_wasser_trim<font color=\"#FF0000\"> ? </font>.wav</th> \n",
    "    <th> </th> \n",
    "  </tr>\n",
    "  <tr>\n",
    "    <th>dsv1_kind_trim.wav </th>\n",
    "    <th> dsv1_rauschen_trim<font color=\"#FF0000\"> ? </font>wav</th> \n",
    "    <th> </th> \n",
    "  </tr>\n",
    "</table>"
   ]
  },
  {
   "cell_type": "markdown",
   "metadata": {},
   "source": [
    "#### Entfernen von Störungen aus einem Signal\n",
    "Wenn ein Nutzsignal Störungen enthält, können diese durch eine Filterung entfernt werden. Dies gelingt jedoch nur dann, wenn diese Anteile im Frequenzbereich trennbar sind. "
   ]
  },
  {
   "cell_type": "markdown",
   "metadata": {},
   "source": [
    "### <font color=\"#008000\">Aufgabe 5</font>\n",
    "Versuchen Sie die gestörten Signale\n",
    "- `dsv1_at_stoer.wav`\n",
    "- `dsv1_gs_stoer.wav`\n",
    "\n",
    "durch geeignete Filterung zu rekonstruieren. Testen Sie für das erste Signal 2 verschiedene Entstörfilter. Für das zweite Signal ist ein Entstörfilter zu entwerfen. Tragen Sie deren Parameter und den Höreindruck in die **Tabelle Entstörfilter** ein. "
   ]
  },
  {
   "cell_type": "markdown",
   "metadata": {},
   "source": [
    "#### <font color=\"#FF0000\">Eingabezelle 8</font>"
   ]
  },
  {
   "cell_type": "code",
   "execution_count": null,
   "metadata": {},
   "outputs": [],
   "source": [
    "file = 'dsv1_gs_stoer_filt'"
   ]
  },
  {
   "cell_type": "code",
   "execution_count": null,
   "metadata": {},
   "outputs": [],
   "source": [
    "fs, data = do.load_data(file)\n",
    "Audio(data=data, rate=fs)"
   ]
  },
  {
   "cell_type": "code",
   "execution_count": null,
   "metadata": {},
   "outputs": [],
   "source": [
    "fig = plt.figure(figsize=(16,8))\n",
    "fig.add_subplot(211)\n",
    "do.spektrum(fs, data)\n",
    "fig.add_subplot(212)\n",
    "do.spektrogramm(fs, data)"
   ]
  },
  {
   "cell_type": "markdown",
   "metadata": {},
   "source": [
    "#### <font color=\"#FF0000\">Eingabezelle 9</font>"
   ]
  },
  {
   "cell_type": "code",
   "execution_count": null,
   "metadata": {},
   "outputs": [],
   "source": [
    "fgu = 175\n",
    "fgo = 225\n",
    "order = 3\n",
    "typ = 'bs'"
   ]
  },
  {
   "cell_type": "code",
   "execution_count": null,
   "metadata": {},
   "outputs": [],
   "source": [
    "data_out = bsfilter.filter_appl(fs, data, fgu=fgu, fgo=fgo, order=order, typ=typ)\n",
    "do.write_data(file +'_filt', data_out)"
   ]
  },
  {
   "cell_type": "markdown",
   "metadata": {},
   "source": [
    "##### Protokoll\n",
    "#### Aufgabe 5 - Tabelle Entstörfilter\n",
    "<table>\n",
    "    <colgroup>\n",
    "       <col span=\"1\" style=\"width: 20%;\">\n",
    "       <col span=\"1\" style=\"width: 10%;\">\n",
    "       <col span=\"1\" style=\"width: 10%;\">\n",
    "       <col span=\"1\" style=\"width: 10%;\">\n",
    "       <col span=\"1\" style=\"width: 10%;\">\n",
    "       <col span=\"1\" style=\"width: 40%;\">\n",
    "    </colgroup>\n",
    "  <tr>\n",
    "    <th>Signal</th>\n",
    "    <th>Filtertyp</th> \n",
    "    <th>$f_{gu}$</th> \n",
    "    <th>$f_{go}$</th> \n",
    "    <th>Ordnung</th> \n",
    "    <th>Höreindruck</th> \n",
    "  </tr>\n",
    "  <tr>\n",
    "    <th>dsv1_at_stoer.wav</th>\n",
    "    <th> </th> \n",
    "    <th> </th> \n",
    "    <th> </th> \n",
    "    <th> </th> \n",
    "    <th> </th> \n",
    "  </tr>\n",
    "  <tr>\n",
    "    <th>dsv1_at_stoer.wav</th>\n",
    "    <th> </th> \n",
    "    <th> </th> \n",
    "    <th> </th> \n",
    "    <th> </th> \n",
    "    <th> </th> \n",
    "  </tr>\n",
    "  <tr>\n",
    "    <th>dsv1_gs_stoer.wav</th>\n",
    "    <th> </th> \n",
    "    <th> </th> \n",
    "    <th> </th> \n",
    "    <th> </th> \n",
    "    <th> </th> \n",
    "  </tr>\n",
    "</table>"
   ]
  },
  {
   "cell_type": "code",
   "execution_count": null,
   "metadata": {},
   "outputs": [],
   "source": [
    "nb_in = 'C:\\\\WinPython-neu\\\\notebooks\\\\DSV-MI\\\\DSM4\\\\DSVMI_part5.ipynb'\n",
    "nb_out = 'C:\\\\WinPython-neu\\\\notebooks\\\\DSV-MI\\\\DSM4\\Protokoll_p5.ipynb'\n",
    "tp.protokoll(nb_in,nb_out)"
   ]
  },
  {
   "cell_type": "code",
   "execution_count": null,
   "metadata": {},
   "outputs": [],
   "source": []
  }
 ],
 "metadata": {
  "kernelspec": {
   "display_name": "Python 3",
   "language": "python",
   "name": "python3"
  },
  "language_info": {
   "codemirror_mode": {
    "name": "ipython",
    "version": 3
   },
   "file_extension": ".py",
   "mimetype": "text/x-python",
   "name": "python",
   "nbconvert_exporter": "python",
   "pygments_lexer": "ipython3",
   "version": "3.7.1"
  }
 },
 "nbformat": 4,
 "nbformat_minor": 1
}
