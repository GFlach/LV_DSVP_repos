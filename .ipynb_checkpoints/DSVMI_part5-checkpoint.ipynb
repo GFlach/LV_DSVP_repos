{
 "cells": [
  {
   "cell_type": "code",
   "execution_count": null,
   "metadata": {},
   "outputs": [],
   "source": [
    "%pylab inline"
   ]
  },
  {
   "cell_type": "markdown",
   "metadata": {},
   "source": [
    "#### Import der notwendigen Pakete und Module"
   ]
  },
  {
   "cell_type": "code",
   "execution_count": null,
   "metadata": {},
   "outputs": [],
   "source": [
    "import matplotlib.pyplot as plt\n",
    "import numpy as np\n",
    "import scipy.constants as const\n",
    "import scipy\n",
    "from scipy.io import wavfile\n",
    "from pylab import *\n",
    "from scipy.fftpack import fft, ifft\n",
    "from IPython.display import Audio\n",
    "\n",
    "import functions.dsvorg as do\n",
    "import functions.data_resample as resample\n",
    "import functions.bsfilter as bsfilter\n",
    "import functions.classes as dc\n",
    "import functions.tproc_new as tp"
   ]
  },
  {
   "cell_type": "markdown",
   "metadata": {},
   "source": [
    "[Table of Contents](table_of_contents.ipynb)"
   ]
  },
  {
   "cell_type": "markdown",
   "metadata": {},
   "source": [
    "##### Protokoll\n",
    "## Mischen von Schall - Bearbeitung von Schall im Frequenzbereich\n",
    "\n",
    "<table align=\"left\" width=\"400\">\n",
    "    <colgroup>\n",
    "       <col span=\"1\" style=\"width: 50%;\">\n",
    "       <col span=\"1\" style=\"width: 50%;\">\n",
    "    </colgroup>\n",
    "  <tr>\n",
    "    <th>Name</th>\n",
    "    <th>Vorname</th> \n",
    "  </tr>\n",
    "  <tr>\n",
    "    <td> Mustermann</td>\n",
    "    <td> Max</td>\n",
    "  </tr>\n",
    "</table>"
   ]
  },
  {
   "cell_type": "markdown",
   "metadata": {},
   "source": [
    "Schallereignisse in Hörspielen und Filmen umfassen oft eine Mischung aus Sprachsignalen und Geräuschen, die eine Umgebungsatmosphäre vermitteln sollen. Bei der Mischung sind 2 Ziele zu erreichen:\n",
    "- möglichst hohe Sprachverständlichkeit\n",
    "- möglichst authentische Geräuschumgebung.\n",
    "\n",
    "In den folgenden Aufgaben sollen Sie aus den zur Verfügung stehenden Sprach- und Umgebungsgeräuschaufnahmen Mischungen erzeugen, die diese Ziele erfüllen."
   ]
  },
  {
   "cell_type": "markdown",
   "metadata": {},
   "source": [
    "### Bearbeitung von Schall im Frequenzbereich\n",
    "Zur Bearbeitung von Schall im Frequenzbereich werden Nutz- und Umgebungsgeräuschsignale mit gleicher Abtastfrequenz und gleicher Dauer verwendet. \n",
    "Der erste Teil der Aufgabe besteht darin, das Umgebungsgeräuschsignal in seinem Frequenzgehalt so zu verändern, dass die Signalcharakteristik erhalten bleibt und die Sprache des gemischten Signals gut verständlich ist. Dazu stehen folgende Dateien zur Verfügung:\n",
    "- `frau_p5.wav`     (1)\n",
    "- `umgebung1.wav`   (2)\n",
    "- `umgebung2.wav`   (3)\n",
    "- `umgebung3.wav`   (4)\n",
    "\n",
    "Im zweiten Teil soll versucht werden, einen im Nutzsignal enthaltenen \"Störanteil\" zu beseitigen. Dazu stehen folgende Dateien zur Verfügung:\n",
    "- `gs_stoer.wav` (5)\n",
    "- `at_stoer.wav` (6)"
   ]
  },
  {
   "cell_type": "markdown",
   "metadata": {},
   "source": [
    "Der Frequenzgehalt eines Signals kann durch Filterung verändert werden. In der Signalverarbeitung werden je nach gewünschtem Effekt die folgenden Filtertypen verwendet:\n",
    "- Tiefpass (obere Grenzfrequenz) - `typ='lp'`\n",
    "- Hochpass (untere Grenzfrequenz) - `typ='hp'`\n",
    "- Bandpass (untere und obere Grenzfrequenz) - `typ='bp'`\n",
    "- Bandsperre (untere und obere Grenzfrequenz) - `typ='bs'`\n",
    "\n",
    "Weiterhin kann für ein Filter eine Ordnung vorgegeben werden, mit der die Steilheit des Filters (Trennung von Durchlass- und Sperrbereich) gesteuert werden kann."
   ]
  },
  {
   "cell_type": "markdown",
   "metadata": {},
   "source": [
    "### <font color=\"#008000\">Aufgabe 1</font>\n",
    "Ermitteln Sie für die in der Tabelle Filterentwurf angegebenen Filtertypen die maximale Steilheit (Übertragungsfunktion hat erwartetes Aussehen)."
   ]
  },
  {
   "cell_type": "markdown",
   "metadata": {},
   "source": [
    "#### <font color=\"#FF0000\">Eingabezelle 1</font>"
   ]
  },
  {
   "cell_type": "code",
   "execution_count": null,
   "metadata": {},
   "outputs": [],
   "source": [
    "fgu = 500\n",
    "fgo = 800\n",
    "order = 4\n",
    "typ = 'bs'"
   ]
  },
  {
   "cell_type": "code",
   "execution_count": null,
   "metadata": {},
   "outputs": [],
   "source": [
    "bsfilter.filter_fgang(fgu=fgu, fgo=fgo, order=order, typ=typ)\n",
    "plt.show()"
   ]
  },
  {
   "cell_type": "markdown",
   "metadata": {},
   "source": [
    "##### Protokoll\n",
    "#### Aufgabe 1 - Filterentwurf\n",
    "<table align = 'left'>\n",
    "    <colgroup>\n",
    "       <col span=\"1\" style=\"width: 20%;\">\n",
    "       <col span=\"1\" style=\"width: 20%;\">\n",
    "       <col span=\"1\" style=\"width: 20%;\">\n",
    "       <col span=\"1\" style=\"width: 20%;\">\n",
    "       <col span=\"1\" style=\"width: 20%;\">\n",
    "    </colgroup>\n",
    "  <tr>\n",
    "    <th>Nr.</th>\n",
    "    <th>Filtertyp</th>\n",
    "    <th>$f_{gu}$</th> \n",
    "    <th>$f_{go}$ in Hz</th> \n",
    "    <th>maximale Ordnung</th> \n",
    "  </tr>\n",
    "  <tr>\n",
    "    <th>1</th>\n",
    "    <th>TP</th>\n",
    "    <th> - </th> \n",
    "    <th>1000 </th> \n",
    "    <th> </th> \n",
    "  </tr>\n",
    "  <tr>\n",
    "    <th>2</th>\n",
    "    <th>TP</th>\n",
    "    <th> - </th> \n",
    "    <th>3000 </th> \n",
    "    <th> </th> \n",
    "  </tr>\n",
    "  <tr>\n",
    "    <th>3</th>\n",
    "    <th>HP</th>\n",
    "    <th> 1000 </th> \n",
    "    <th> - </th> \n",
    "    <th> </th> \n",
    "  </tr>\n",
    "  <tr>\n",
    "    <th>4</th>\n",
    "    <th>HP</th>\n",
    "    <th> 3000 </th> \n",
    "    <th> - </th> \n",
    "    <th> </th> \n",
    "  </tr>\n",
    "  <tr>\n",
    "    <th>5</th>\n",
    "    <th>BP</th>\n",
    "    <th>500 </th> \n",
    "    <th>1500</th> \n",
    "    <th> </th> \n",
    "  </tr>\n",
    "  <tr>\n",
    "    <th>6</th>\n",
    "    <th>BP</th>\n",
    "    <th>1000 </th> \n",
    "    <th>1500</th> \n",
    "    <th> </th> \n",
    "  </tr>\n",
    "  <tr>\n",
    "    <th>7</th>\n",
    "    <th>BP</th>\n",
    "    <th>1000 </th> \n",
    "    <th>3000</th> \n",
    "    <th> </th> \n",
    "  </tr>\n",
    "  <tr>\n",
    "    <th>8</th>\n",
    "    <th>BS</th>\n",
    "    <th>500 </th> \n",
    "    <th> 1500</th> \n",
    "    <th> </th> \n",
    "  <tr>\n",
    "    <th>9</th>\n",
    "    <th>BS</th>\n",
    "    <th>1000 </th> \n",
    "    <th> 1500</th> \n",
    "    <th> </th> \n",
    "  </tr>\n",
    "  <tr>\n",
    "    <th>10</th>\n",
    "    <th>BS</th>\n",
    "    <th>1000 </th> \n",
    "    <th> 3000</th> \n",
    "    <th> </th> \n",
    "  </tr>\n",
    "</table>"
   ]
  },
  {
   "cell_type": "markdown",
   "metadata": {},
   "source": [
    "### Signalfilterung\n",
    "### <font color=\"#008000\">Aufgabe 2</font>\n",
    "\n",
    "Untersuchen Sie die Auswirkung der Filter 1 und 3 aus der **Tabelle Filterentwurf** auf die Signale 1, 3, und 4. Wählen Sie dazu in der folgenden Zelle das Filter und das Signal durch Änderung der Kommentarzeichen(#) aus. Kommentieren Sie das Ergebnis in der **Tabelle Filterwirkung**."
   ]
  },
  {
   "cell_type": "markdown",
   "metadata": {},
   "source": [
    "#### <font color=\"#FF0000\">Eingabezelle 2</font>"
   ]
  },
  {
   "cell_type": "code",
   "execution_count": null,
   "metadata": {},
   "outputs": [],
   "source": [
    "fnr = 1\n",
    "#fnr = 3\n",
    "#file = 'frau_p5'\n",
    "#file = 'umgebung2'\n",
    "file = 'umgebung3'\n",
    "fs, data_in = do.load_data(file)\n",
    "Audio(data = data_in, rate = fs, autoplay = True)"
   ]
  },
  {
   "cell_type": "code",
   "execution_count": null,
   "metadata": {},
   "outputs": [],
   "source": [
    "Audio(data = bsfilter.filtertest(file, fnr), rate = fs, autoplay = True)"
   ]
  },
  {
   "cell_type": "markdown",
   "metadata": {},
   "source": [
    "##### Protokoll\n",
    "#### Aufgabe 2 - Filterwirkung\n",
    "<table align = 'left'>\n",
    "    <colgroup>\n",
    "       <col span=\"1\" style=\"width: 10%;\">\n",
    "       <col span=\"1\" style=\"width: 10%;\">\n",
    "       <col span=\"1\" style=\"width: 80%;\">\n",
    "    </colgroup>\n",
    "  <tr>\n",
    "    <th>Filter</th>\n",
    "    <th>Signal</th>\n",
    "    <th>Beschreibung Ergebnis</th> \n",
    "  </tr>\n",
    "  <tr>\n",
    "    <th>1 (LP)</th>\n",
    "    <th>1</th>\n",
    "    <th> </th> \n",
    "  </tr>\n",
    "  <tr>\n",
    "    <th>1 (LP)</th>\n",
    "    <th>3</th>\n",
    "    <th> </th> \n",
    "  </tr>\n",
    "  <tr>\n",
    "    <th>1 (LP)</th>\n",
    "    <th>4</th>\n",
    "    <th> </th> \n",
    "  </tr>\n",
    "  <tr>\n",
    "    <th>3 (HP)</th>\n",
    "    <th>1</th>\n",
    "    <th> </th> \n",
    "  </tr>\n",
    "  <tr>\n",
    "    <th>3 (HP)</th>\n",
    "    <th>3</th>\n",
    "    <th> </th> \n",
    "  </tr>\n",
    "  <tr>\n",
    "    <th>3 (HP)</th>\n",
    "    <th>4</th>\n",
    "    <th> </th> \n",
    "  </tr>\n",
    "</table>"
   ]
  },
  {
   "cell_type": "markdown",
   "metadata": {},
   "source": [
    "Als nächstes hören Sie die Überlagerung des Nutzsignals mit je einem Umgebungsgeräusch. \n",
    "### <font color=\"#008000\">Aufgabe 3</font>\n",
    "\n",
    "Kommentieren Sie den Höreindruck  in der **Tabelle Mischung ohne Vorverarbeitung**. Ist eine spezielle Vorverarbeitung (VVA) zum besseren Verständnis der Sprache erforderlich?"
   ]
  },
  {
   "cell_type": "markdown",
   "metadata": {},
   "source": [
    "#### <font color=\"#FF0000\">Eingabezelle 3</font>"
   ]
  },
  {
   "cell_type": "code",
   "execution_count": null,
   "metadata": {},
   "outputs": [],
   "source": [
    "#fs, data_in2 = do.load_data('umgebung1')\n",
    "#fs, data_in2 = do.load_data('umgebung2')\n",
    "fs, data_in2 = do.load_data('umgebung3')"
   ]
  },
  {
   "cell_type": "code",
   "execution_count": null,
   "metadata": {},
   "outputs": [],
   "source": [
    "fs, data_in1 = do.load_data('frau_p5')\n",
    "Audio(data = data_in1 + data_in2, rate = fs, autoplay = True)"
   ]
  },
  {
   "cell_type": "markdown",
   "metadata": {},
   "source": [
    "##### Protokoll\n",
    "#### Aufgabe 3 - Mischung ohne Vorverarbeitung\n",
    "<table align = 'left'>\n",
    "    <colgroup>\n",
    "       <col span=\"1\" style=\"width: 30%;\">\n",
    "       <col span=\"1\" style=\"width: 50%;\">\n",
    "       <col span=\"1\" style=\"width: 20%;\">\n",
    "    </colgroup>\n",
    "  <tr>\n",
    "    <th>Signale</th>\n",
    "    <th>Höreindruck</th>\n",
    "    <th>VVA erforderlich</th> \n",
    "  </tr>\n",
    "  <tr>\n",
    "    <th>frau_p5 + umgebung1</th>\n",
    "    <th> </th>\n",
    "    <th> </th> \n",
    "  </tr>\n",
    "  <tr>\n",
    "    <th>frau_p5 + umgebung2</th>\n",
    "    <th> </th>\n",
    "    <th> </th> \n",
    "  </tr>\n",
    "  <tr>\n",
    "    <th>frau_p5 + umgebung3</th>\n",
    "    <th> </th>\n",
    "    <th> </th> \n",
    "  </tr>\n",
    "</table>"
   ]
  },
  {
   "cell_type": "markdown",
   "metadata": {},
   "source": [
    "Die Qualität der Signalmischung kann\n",
    "- durch Absenkung der Amplitude im Zeitbereich oder \n",
    "- Veränderung des Spektrums durch Einsatz geeigneter Filter\n",
    "verbessert werden.\n",
    "\n",
    "Um ein geeignetes Verfahren auszuwählen, wird zunächst der Zeitverlauf und der Frequenzgehalt des gesamten Signals betrachtet. Sie sehen im folgenden für die Signale\n",
    "- frau_p5\n",
    "- umgebung1\n",
    "- umgebung2\n",
    "- umgebung3\n",
    "\n",
    "in der linken Spalte den Zeitverlauf und rechts den Frequenzgehalt.\n",
    "<img src = 'images/zeit_frequenz.jpg'>"
   ]
  },
  {
   "cell_type": "markdown",
   "metadata": {},
   "source": [
    "#### Entwurf eines geeigneten Filters\n",
    "Für eine Verbesserung des Höreindruckes sollen sich Nutzsignal und Umgebungsgeräusch im Spektrum möglichst wenig überlappen. Wenn eine solche Überlappung existiert (anhand der Spektren erkennbar), sollte das Umgebungsgeräusch mit geeigneten Filtern so bearbeitet werden, dass der Signalcharakter erhalten bleibt und in der Mischung das Nutzsignal besser erkennbar ist.\n",
    "Bearbeiten Sie die Umgebungsgeräuschsignale durch Anwendung geeigneter Filter.\n",
    "\n",
    "Im vorliegenden Fall ist nur für das Signal `umgebung3` eine Filterung sinnvoll. Folgende Filter werden angewendet:\n",
    "- HP mit Grenzfrequenz 1000 Hz\n",
    "- BS mit den Grenzfrequenzen 500 Hz und 800 Hz\n",
    "\n",
    "### <font color=\"#008000\">Aufgabe 4</font>\n",
    "Hören Sie das Signal `umgebung3` im Original und nach Anwendung des HP bzw. der BS. Beschreiben Sie den Höreindruck in der **Tabelle Gefiltertes Signal**."
   ]
  },
  {
   "cell_type": "markdown",
   "metadata": {},
   "source": [
    "#### <font color=\"#FF0000\">Eingabezelle 4</font>"
   ]
  },
  {
   "cell_type": "code",
   "execution_count": null,
   "metadata": {},
   "outputs": [],
   "source": [
    "fs, data_in = do.load_data('umgebung3')\n",
    "data_out = data_in\n",
    "#data_out = bsfilter.filter_appl(fs, data_in, fgu=1000, fgo=1000, order=12, typ='hp')\n",
    "#data_out = bsfilter.filter_appl(fs, data_in, fgu=500, fgo=800, order=4, typ='bs')\n",
    "Audio(data = data_out, rate = fs)"
   ]
  },
  {
   "cell_type": "markdown",
   "metadata": {},
   "source": [
    "##### Protokoll\n",
    "#### Aufgabe 4 - Gefiltertes Signal\n",
    "<table align = 'left' width = '600'>\n",
    "    <colgroup>\n",
    "       <col span=\"1\" style=\"width: 20%;\">\n",
    "       <col span=\"1\" style=\"width: 80%;\">\n",
    "     </colgroup>\n",
    "  <tr>\n",
    "    <th>Filter</th>\n",
    "    <th>Höreindruck</th> \n",
    "  </tr>\n",
    "  <tr>\n",
    "    <th>HP</th>\n",
    "    <th> </th> \n",
    "  </tr>\n",
    "  <tr>\n",
    "    <th>BS</th>\n",
    "    <th> </th> \n",
    "  </tr>\n",
    "</table>"
   ]
  },
  {
   "cell_type": "markdown",
   "metadata": {},
   "source": [
    "#### Mischung der Signale\n",
    "Im Folgenden hören Sie die Mischung des Sprachsignals und des gefilterten Umgebungssignals.\n",
    "\n",
    "Anwendung HP"
   ]
  },
  {
   "cell_type": "code",
   "execution_count": null,
   "metadata": {},
   "outputs": [],
   "source": [
    "fs, data_in = do.load_data('umgebung3')\n",
    "data_out = bsfilter.filter_appl(fs, data_in, fgu=1000, fgo=1000, order=12, typ='hp')\n",
    "fs, data = do.load_data('frau_p5')\n",
    "Audio(data = data_out + data, rate = fs, autoplay = True)"
   ]
  },
  {
   "cell_type": "markdown",
   "metadata": {},
   "source": [
    "Anwendung BS"
   ]
  },
  {
   "cell_type": "code",
   "execution_count": null,
   "metadata": {},
   "outputs": [],
   "source": [
    "fs, data_in = do.load_data('umgebung3')\n",
    "data_out = bsfilter.filter_appl(fs, data_in, fgu=500, fgo=800, order=4, typ='bs')\n",
    "fs, data = do.load_data('frau_p5')\n",
    "Audio(data = data_out + data, rate = fs, autoplay = True)"
   ]
  },
  {
   "cell_type": "markdown",
   "metadata": {},
   "source": [
    "Anwendung BS und Dämpfungsfaktor"
   ]
  },
  {
   "cell_type": "code",
   "execution_count": null,
   "metadata": {},
   "outputs": [],
   "source": [
    "Audio(data = 0.6 * data_out + data, rate = fs, autoplay = True)"
   ]
  },
  {
   "cell_type": "markdown",
   "metadata": {},
   "source": [
    "### Entfernen von Störungen aus einem Signal\n",
    "Wenn ein Nutzsignal Störungen enthält, können diese durch eine Filterung entfernt werden. Dies gelingt jedoch nur dann, wenn diese Anteile im Frequenzbereich trennbar sind. "
   ]
  },
  {
   "cell_type": "markdown",
   "metadata": {},
   "source": [
    "### <font color=\"#008000\">Aufgabe 5</font>\n",
    "Versuchen Sie die gestörten Signale\n",
    "- `dsv1_at_stoer.wav`\n",
    "- `dsv1_gs_stoer.wav`\n",
    "\n",
    "durch geeignete Filterung zu rekonstruieren. Testen Sie für das erste Signal 2 verschiedene Entstörfilter. Für das zweite Signal ist ein Entstörfilter zu entwerfen. Ermitteln Sie die Übertragungsfunktion für die gewählten Filterparameter. Tragen Sie die Parameterwerte und den Höreindruck in die **Tabelle Entstörfilter** ein. "
   ]
  },
  {
   "cell_type": "markdown",
   "metadata": {},
   "source": [
    "#### <font color=\"#FF0000\">Eingabezelle 5</font>"
   ]
  },
  {
   "cell_type": "code",
   "execution_count": null,
   "metadata": {},
   "outputs": [],
   "source": [
    "file = 'at_stoer'\n",
    "#file = 'gs_stoer'"
   ]
  },
  {
   "cell_type": "code",
   "execution_count": null,
   "metadata": {},
   "outputs": [],
   "source": [
    "fs, data = do.load_data(file)\n",
    "Audio(data=data, rate=fs, autoplay = True)"
   ]
  },
  {
   "cell_type": "code",
   "execution_count": null,
   "metadata": {},
   "outputs": [],
   "source": [
    "fig = plt.figure(figsize=(16,8))\n",
    "fig.add_subplot(211)\n",
    "do.spektrum(fs, data)\n",
    "fig.add_subplot(212)\n",
    "do.spektrogramm(fs, data)"
   ]
  },
  {
   "cell_type": "markdown",
   "metadata": {},
   "source": [
    "#### <font color=\"#FF0000\">Eingabezelle 6</font>"
   ]
  },
  {
   "cell_type": "code",
   "execution_count": null,
   "metadata": {},
   "outputs": [],
   "source": [
    "fgu = 400\n",
    "fgo = 400\n",
    "order = 8\n",
    "typ = 'hp'"
   ]
  },
  {
   "cell_type": "code",
   "execution_count": null,
   "metadata": {},
   "outputs": [],
   "source": [
    "bsfilter.filter_fgang(fgu=fgu, fgo=fgo, order=order, typ=typ)\n",
    "plt.show()"
   ]
  },
  {
   "cell_type": "code",
   "execution_count": null,
   "metadata": {},
   "outputs": [],
   "source": [
    "data_out = bsfilter.filter_appl(fs, data, fgu=fgu, fgo=fgo, order=order, typ=typ)\n",
    "Audio(data=data_out, rate=fs, autoplay = True)"
   ]
  },
  {
   "cell_type": "code",
   "execution_count": null,
   "metadata": {},
   "outputs": [],
   "source": [
    "fig = plt.figure(figsize=(16,8))\n",
    "fig.add_subplot(211)\n",
    "do.spektrum(fs, data_out)\n",
    "fig.add_subplot(212)\n",
    "do.spektrogramm(fs, data_out)"
   ]
  },
  {
   "cell_type": "markdown",
   "metadata": {},
   "source": [
    "##### Protokoll\n",
    "#### Aufgabe 5 - Tabelle Entstörfilter\n",
    "<table align = 'left'>\n",
    "    <colgroup>\n",
    "       <col span=\"1\" style=\"width: 20%;\">\n",
    "       <col span=\"1\" style=\"width: 10%;\">\n",
    "       <col span=\"1\" style=\"width: 10%;\">\n",
    "       <col span=\"1\" style=\"width: 10%;\">\n",
    "       <col span=\"1\" style=\"width: 10%;\">\n",
    "       <col span=\"1\" style=\"width: 40%;\">\n",
    "    </colgroup>\n",
    "  <tr>\n",
    "    <th>Signal</th>\n",
    "    <th>Filtertyp</th> \n",
    "    <th>$f_{gu}$</th> \n",
    "    <th>$f_{go}$</th> \n",
    "    <th>Ordnung</th> \n",
    "    <th>Höreindruck</th> \n",
    "  </tr>\n",
    "  <tr>\n",
    "    <th>at_stoer.wav</th>\n",
    "    <th> </th> \n",
    "    <th> </th> \n",
    "    <th> </th> \n",
    "    <th> </th> \n",
    "    <th> </th> \n",
    "  </tr>\n",
    "  <tr>\n",
    "    <th>at_stoer.wav</th>\n",
    "    <th> </th> \n",
    "    <th> </th> \n",
    "    <th> </th> \n",
    "    <th> </th> \n",
    "    <th> </th> \n",
    "  </tr>\n",
    "  <tr>\n",
    "    <th>gs_stoer.wav</th>\n",
    "    <th> </th> \n",
    "    <th> </th> \n",
    "    <th> </th> \n",
    "    <th> </th> \n",
    "    <th> </th> \n",
    "  </tr>\n",
    "</table>"
   ]
  },
  {
   "cell_type": "code",
   "execution_count": null,
   "metadata": {},
   "outputs": [],
   "source": [
    "nb_in = 'DSVMI_part5.ipynb'\n",
    "nb_out = 'Protokoll_part5.ipynb'\n",
    "tp.protokoll(nb_in,nb_out)"
   ]
  }
 ],
 "metadata": {
  "kernelspec": {
   "display_name": "Python 3",
   "language": "python",
   "name": "python3"
  },
  "language_info": {
   "codemirror_mode": {
    "name": "ipython",
    "version": 3
   },
   "file_extension": ".py",
   "mimetype": "text/x-python",
   "name": "python",
   "nbconvert_exporter": "python",
   "pygments_lexer": "ipython3",
   "version": "3.6.5"
  }
 },
 "nbformat": 4,
 "nbformat_minor": 1
}
