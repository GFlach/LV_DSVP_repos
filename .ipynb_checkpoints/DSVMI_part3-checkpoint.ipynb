{
 "cells": [
  {
   "cell_type": "markdown",
   "metadata": {},
   "source": [
    "#### Festlegung für die Darstellung von interaktiven Graphiken innerhalb des Notebooks"
   ]
  },
  {
   "cell_type": "code",
   "execution_count": null,
   "metadata": {},
   "outputs": [],
   "source": [
    "%pylab inline"
   ]
  },
  {
   "cell_type": "markdown",
   "metadata": {},
   "source": [
    "#### Import der notwendigen Pakete und Module"
   ]
  },
  {
   "cell_type": "code",
   "execution_count": null,
   "metadata": {},
   "outputs": [],
   "source": [
    "import matplotlib.pyplot as plt\n",
    "import numpy as np\n",
    "import scipy.constants as const\n",
    "import scipy\n",
    "from scipy.io import wavfile\n",
    "from pylab import *\n",
    "from scipy.fftpack import fft, ifft\n",
    "from IPython.display import Audio\n",
    "\n",
    "import functions.dsvorg as do\n",
    "import functions.data_resample as resample\n",
    "import functions.bsfilter as bsfilter\n",
    "import functions.classes as dc\n",
    "import functions.tproc_new as tp\n",
    "import functions.klang as ke"
   ]
  },
  {
   "cell_type": "markdown",
   "metadata": {},
   "source": [
    "[Table of Contents](table_of_contents.ipynb)"
   ]
  },
  {
   "cell_type": "markdown",
   "metadata": {},
   "source": [
    "##### Protokoll\n",
    "## Klangsynthese\n",
    "\n",
    "<table align=\"left\" width=\"400\">\n",
    "    <colgroup>\n",
    "       <col span=\"1\" style=\"width: 50%;\">\n",
    "       <col span=\"1\" style=\"width: 50%;\">\n",
    "    </colgroup>\n",
    "  <tr>\n",
    "    <th>Name</th>\n",
    "    <th>Vorname</th> \n",
    "  </tr>\n",
    "  <tr>\n",
    "    <td> Mustermann</td>\n",
    "    <td> Max</td>\n",
    "  </tr>\n",
    "</table>"
   ]
  },
  {
   "cell_type": "markdown",
   "metadata": {},
   "source": [
    "Die folgenden Aufgaben haben die Erzeugung synthetischer Klänge zum Inhalt. Dazu kann die Grundfrequenz, der Obertongehalt und der Zeitverlauf beeinflusst werden. Anhand der Auswertung \"natürlicher\" Klänge sollen geeignete Parameterwerte ermittelt und getestet werden."
   ]
  },
  {
   "cell_type": "markdown",
   "metadata": {},
   "source": [
    "Im folgenden sehen Sie den Zeitverlauf und das Kurzzeitspektrum von je 3 Tönen einer Flöte, einer Geige und eines Klaviers. Die Auswertung des Zeitverlaufs soll für die Gestaltung der Hüllkurve und die Auswertung des Kurzzeitspektrums für die Festlegung der Anzahl Oberschwingungen genutzt werden. \n",
    "\n",
    "In der folgenden Zelle können Sie diese Töne auch hörbar machen.\n",
    "\n",
    "<img src=\"images/dsv1_instrumente.jpg\" height=\"300\" width=\"700\">"
   ]
  },
  {
   "cell_type": "code",
   "execution_count": null,
   "metadata": {},
   "outputs": [],
   "source": [
    "fs, instrumente = wavfile.read('sound\\\\instrumente.wav')\n",
    "Audio(data = instrumente, rate = fs)"
   ]
  },
  {
   "cell_type": "markdown",
   "metadata": {},
   "source": [
    "### Flötenton\n",
    "Für den Flötenton sollte der Typ ADSR (siehe Anleitung) verwendet werden. Bei Auswertung der Obertöne fällt auf, dass nur jeder zweite deutlich sichtbar ist und dass die Amplitude abnimmt. Diese Charakteristik wird durch ein Dreiecksignal als Anregung erzeugt."
   ]
  },
  {
   "cell_type": "code",
   "execution_count": null,
   "metadata": {},
   "outputs": [],
   "source": [
    "tA = 0.05\n",
    "tD = 0.05\n",
    "tS = 0.95\n",
    "ED = 1.0\n",
    "ES = 1.0"
   ]
  },
  {
   "cell_type": "code",
   "execution_count": null,
   "metadata": {},
   "outputs": [],
   "source": [
    "env = [tA, tD, tS, ED, ES]\n",
    "ke.plot_adsr(env)"
   ]
  },
  {
   "cell_type": "code",
   "execution_count": null,
   "metadata": {},
   "outputs": [],
   "source": [
    "A = 880\n",
    "pitch = np.array([A])\n",
    "duration = np.array([1])\n",
    "tempo = 0.5\n",
    "fs = 8000\n",
    "stimulus = 'triangle'\n",
    "music = ke.create_music(pitch, duration, stimulus, env, tempo, fs)\n",
    "Audio(data = music, rate = fs)"
   ]
  },
  {
   "cell_type": "markdown",
   "metadata": {},
   "source": [
    "### <font color=\"#008000\">Aufgabe 1</font>\n",
    "Erzeugen Sie einen Violinenton und einen Klavierton durch Gestaltung der Hüllkurve und des Obertongehaltes. Speichern Sie die gewählten Parameterwerte in der Tabelle Instrumentenklang ab."
   ]
  },
  {
   "cell_type": "code",
   "execution_count": null,
   "metadata": {},
   "outputs": [],
   "source": [
    "A = 440\n",
    "pitch = np.array([A])\n",
    "duration = np.array([1])\n",
    "tempo = 0.5\n",
    "fs = 8000"
   ]
  },
  {
   "cell_type": "markdown",
   "metadata": {},
   "source": [
    "#### <font color=\"#FF0000\">Eingabezelle 1 (Hüllkurve)</font>\n",
    "Parameter der Hüllkurve (ADSR)"
   ]
  },
  {
   "cell_type": "code",
   "execution_count": null,
   "metadata": {},
   "outputs": [],
   "source": [
    "tA = 0.15\n",
    "tD = 0.15\n",
    "tS = 0.85\n",
    "ED = 1.0\n",
    "ES = 1.0"
   ]
  },
  {
   "cell_type": "code",
   "execution_count": null,
   "metadata": {},
   "outputs": [],
   "source": [
    "env = [tA, tD, tS, ED, ES]\n",
    "ke.plot_adsr(env)"
   ]
  },
  {
   "cell_type": "markdown",
   "metadata": {},
   "source": [
    "Parameter der Hüllkurve (Exponent)"
   ]
  },
  {
   "cell_type": "code",
   "execution_count": null,
   "metadata": {},
   "outputs": [],
   "source": [
    "tA = 0.01\n",
    "EE = 0.1"
   ]
  },
  {
   "cell_type": "code",
   "execution_count": null,
   "metadata": {},
   "outputs": [],
   "source": [
    "env = [tA, EE]\n",
    "ke.plot_exponent(env)"
   ]
  },
  {
   "cell_type": "markdown",
   "metadata": {},
   "source": [
    "#### <font color=\"#FF0000\">Eingabezelle 2 (Oberschwingungen)</font>\n",
    "relative Amplitude jeder Oberschwingung"
   ]
  },
  {
   "cell_type": "code",
   "execution_count": null,
   "metadata": {},
   "outputs": [],
   "source": [
    "ow = [1, 0.5, 0.5, 0.5, 0.45, 0.4, 0.35, 0.3, 0.25, 0.2, 0.15, 0.1, 0.05]"
   ]
  },
  {
   "cell_type": "code",
   "execution_count": null,
   "metadata": {},
   "outputs": [],
   "source": [
    "stimulus = 'klang'\n",
    "music = ke.create_music(pitch, duration, stimulus, env, tempo, fs, ow= ow)\n",
    "Audio(data = music, rate = fs)"
   ]
  },
  {
   "cell_type": "markdown",
   "metadata": {},
   "source": [
    "#### <font color=\"#FF0000\">Eingabezelle 3 (Dreiecksignal)</font>"
   ]
  },
  {
   "cell_type": "code",
   "execution_count": null,
   "metadata": {},
   "outputs": [],
   "source": [
    "stimulus = 'triangle'\n",
    "music = ke.create_music(pitch, duration, stimulus, env, tempo, fs)\n",
    "Audio(data = music, rate = fs)"
   ]
  },
  {
   "cell_type": "markdown",
   "metadata": {},
   "source": [
    "##### Protokoll\n",
    "#### Aufgabe 1 - Instrumentenklang\n",
    "<table>\n",
    "    <colgroup>\n",
    "       <col span=\"1\" style=\"width: 15%;\">\n",
    "       <col span=\"1\" style=\"width: 15%;\">\n",
    "       <col span=\"1\" style=\"width: 40%;\">\n",
    "       <col span=\"1\" style=\"width: 30%;\">\n",
    "    </colgroup>\n",
    "  <tr>\n",
    "    <th>Instrument </th>\n",
    "    <th>Grundfrequenz/Hz</th> \n",
    "    <th>ow</th>\n",
    "    <th>env</th>\n",
    "      \n",
    "  </tr>\n",
    "  <tr>\n",
    "    <th> Flöte</th>\n",
    "    <th> 880</th>\n",
    "    <th>triangle </th> \n",
    "    <th> [0.05, 0.05, 0.95, 1.0, 1.0]</th>\n",
    "  </tr>\n",
    "  <tr>\n",
    "    <th> Geige</th>\n",
    "    <th>440 </th> \n",
    "    <th> [1, 0.5, 0.5, 0.5, 0.45, 0.4, 0.35, 0.3, 0.25, 0.2, 0.15, 0.1, 0.05] </th>\n",
    "    <th> [0.15, 0.15, 0.85, 1.0, 1.0]</th>\n",
    "  </tr>\n",
    "  <tr>\n",
    "    <th> Klavier</th>\n",
    "    <th> 440</th> \n",
    "    <th> [1, 0.5, 0.5, 0.5, 0.45]</th>\n",
    "    <th> [0.01, 0.1] </th>\n",
    "  </tr>\n",
    "</table>"
   ]
  },
  {
   "cell_type": "markdown",
   "metadata": {},
   "source": [
    "### <font color=\"#008000\">Aufgabe 2</font>\n",
    "Erzeugen Sie unter Verwendung des entworfenen Klavierklangs einen c-dur- und c-moll-Akkord. Die erforderlichen Frequenzwerte entnehmen Sie bitte Ihren Vorbereitungsaufgaben. "
   ]
  },
  {
   "cell_type": "markdown",
   "metadata": {},
   "source": [
    "#### <font color=\"#FF0000\">Eingabezelle 4</font>"
   ]
  },
  {
   "cell_type": "code",
   "execution_count": null,
   "metadata": {},
   "outputs": [],
   "source": [
    "CII = 522\n",
    "E = CII * 2**(1/3)\n",
    "G = CII * 2**(7/12)\n",
    "Dis = CII * 2**(1/4)\n",
    "CIII = 2 * CII\n",
    "pitch = np.array([CII, Dis, G, CIII])"
   ]
  },
  {
   "cell_type": "code",
   "execution_count": null,
   "metadata": {},
   "outputs": [],
   "source": [
    "duration = np.array([1, 1, 1, 1])\n",
    "tempo = 1/2\n",
    "fs = 8000\n",
    "ow = [1, 0.5, 0.5, 0.5, 0.45]\n",
    "env = [0.01, 0.1]\n",
    "stimulus = 'klang'\n",
    "music = ke.create_music(pitch, duration, stimulus, env, tempo, fs, ow=ow)\n",
    "Audio(data = music, rate = fs)"
   ]
  },
  {
   "cell_type": "markdown",
   "metadata": {},
   "source": [
    "##### Protokoll\n",
    "#### Aufgabe 2 - Tabelle Klänge\n",
    "<table>\n",
    "    <colgroup>\n",
    "       <col span=\"1\" style=\"width: 10%;\">\n",
    "       <col span=\"1\" style=\"width: 20%;\">\n",
    "    </colgroup>\n",
    "  <tr>\n",
    "    <th>Note</th>\n",
    "    <th>Frequenz/Hz</th> \n",
    "\n",
    "</tr>\n",
    "  <tr>\n",
    "    <th> C''</th>\n",
    "    <th> 522</th> \n",
    "  </tr>\n",
    "  <tr>\n",
    "    <th> E</th>\n",
    "    <th> 658</th> \n",
    "  </tr>\n",
    "  <tr>\n",
    "    <th> Dis</th>\n",
    "    <th> 621</th> \n",
    "  </tr>\n",
    "  <tr>\n",
    "    <th> G</th>\n",
    "    <th> 782</th> \n",
    "  </tr>\n",
    "    <tr>\n",
    "    <th> C'''</th>\n",
    "    <th> 1044</th> \n",
    "  </tr>\n",
    "\n",
    "</table>"
   ]
  },
  {
   "cell_type": "markdown",
   "metadata": {},
   "source": [
    "### Vertonung eines Musikstücks\n",
    "Erzeugen Sie für das Prelude von Marc-Antoine Charpentier unterschiedliche Vertonungen. Folgende Experimente sind durchzuführen:\n",
    "- Synthese mit Sinustönen ohne/mit Hüllkuvenbewertung\n",
    "- Synthese mit Klängen ohne/mit Hüllkuvenbewertung\n",
    "- Synthese mit Dreiecksignal als Anregung  ohne/mit Hüllkuvenbewertung\n",
    "\n",
    "Erzeugung der Eingangsinformationen für die Vertonung aus den Noten:"
   ]
  },
  {
   "cell_type": "code",
   "execution_count": null,
   "metadata": {},
   "outputs": [],
   "source": [
    "A = 220\n",
    "Dh = A * 2**(5/12)\n",
    "C = A * 2**(3/12)\n",
    "B = A * 2**(2/12)\n",
    "G = A * 2**(-2/12)\n",
    "Fis = A * 2**(-3/12)\n",
    "E = A * 2**(-5/12)\n",
    "D = A * 2**(-7/12)\n",
    "pitch = np.array([D, G, G, A, B, G, Dh, B, B, C, Dh, C, B, C, Dh, A, G, A, B, A])\n",
    "duration = np.array([2, 2, 1, 1, 2, 2, 4, 3, 1, 2, 1, 1, 1, 1, 2, 1, 1, 1, 1, 2])\n",
    "tempo = 1/4\n",
    "fs = 8000\n",
    "env = []"
   ]
  },
  {
   "cell_type": "markdown",
   "metadata": {},
   "source": [
    "### <font color=\"#008000\">Aufgabe 3</font>\n",
    "Nehmen Sie die jeweiligen Vertonungen vor und beschreiben Sie den Höreindruck in der Tabelle Vertonung. \n",
    "\n",
    "#### Hinweis\n",
    "Die aktuell erzeugte Vertonung können Sie in der Zelle nach `Visualisierung` im Zeit- und Frequenzbereich veranschaulichen."
   ]
  },
  {
   "cell_type": "markdown",
   "metadata": {},
   "source": [
    "#### ohne Hüllkurvenbewertung"
   ]
  },
  {
   "cell_type": "markdown",
   "metadata": {},
   "source": [
    "#### <font color=\"#FF0000\">Eingabezelle 5</font>"
   ]
  },
  {
   "cell_type": "code",
   "execution_count": null,
   "metadata": {},
   "outputs": [],
   "source": [
    "#stimulus = 'ton'         # Ton\n",
    "stimulus = 'triangle'    # Dreiecksignal"
   ]
  },
  {
   "cell_type": "code",
   "execution_count": null,
   "metadata": {},
   "outputs": [],
   "source": [
    "music = ke.create_music(pitch, duration, stimulus, env, tempo, fs)\n",
    "Audio(data = music, rate = fs)"
   ]
  },
  {
   "cell_type": "code",
   "execution_count": null,
   "metadata": {},
   "outputs": [],
   "source": [
    "ow = [1, 0.5, 0.5, 0.5, 0.45]\n",
    "stimulus = 'klang'\n",
    "music = ke.create_music(pitch, duration, stimulus, env, tempo, fs, ow = ow)\n",
    "Audio(data = music, rate = fs)"
   ]
  },
  {
   "cell_type": "markdown",
   "metadata": {},
   "source": [
    "#### mit ADSR-Hüllkurve"
   ]
  },
  {
   "cell_type": "markdown",
   "metadata": {},
   "source": [
    "#### <font color=\"#FF0000\">Eingabezelle 6</font>"
   ]
  },
  {
   "cell_type": "code",
   "execution_count": null,
   "metadata": {},
   "outputs": [],
   "source": [
    "tA = 0.15\n",
    "tD = 0.15\n",
    "tS = 0.85\n",
    "ED = 1.0\n",
    "ES = 1.0\n",
    "stimulus = 'ton'         # Ton\n",
    "#stimulus = 'triangle'    # Dreiecksignal"
   ]
  },
  {
   "cell_type": "code",
   "execution_count": null,
   "metadata": {},
   "outputs": [],
   "source": [
    "env = [tA, tD, tS, ED, ES]\n",
    "music = ke.create_music(pitch, duration, stimulus, env, tempo, fs)\n",
    "Audio(data = music, rate = fs)"
   ]
  },
  {
   "cell_type": "code",
   "execution_count": null,
   "metadata": {},
   "outputs": [],
   "source": [
    "stimulus = 'klang'\n",
    "music = ke.create_music(pitch, duration, stimulus, env, tempo, fs, ow = ow)\n",
    "Audio(data = music, rate = fs)"
   ]
  },
  {
   "cell_type": "markdown",
   "metadata": {},
   "source": [
    "#### mit Exponentbewertung"
   ]
  },
  {
   "cell_type": "markdown",
   "metadata": {},
   "source": [
    "#### <font color=\"#FF0000\">Eingabezelle 7</font>"
   ]
  },
  {
   "cell_type": "code",
   "execution_count": null,
   "metadata": {},
   "outputs": [],
   "source": [
    "tA = 0.15\n",
    "EE = 0.1\n",
    "#stimulus = 'ton'         # Ton\n",
    "stimulus = 'triangle'    # Dreiecksignal"
   ]
  },
  {
   "cell_type": "code",
   "execution_count": null,
   "metadata": {},
   "outputs": [],
   "source": [
    "env = [tA, EE]\n",
    "music = ke.create_music(pitch, duration, stimulus, env, tempo, fs)\n",
    "Audio(data = music, rate = fs)"
   ]
  },
  {
   "cell_type": "code",
   "execution_count": null,
   "metadata": {},
   "outputs": [],
   "source": [
    "stimulus = 'klang'\n",
    "music = ke.create_music(pitch, duration, stimulus, env, tempo, fs, ow = ow)\n",
    "Audio(data = music, rate = fs)"
   ]
  },
  {
   "cell_type": "markdown",
   "metadata": {},
   "source": [
    "### <font color=\"#FF00FF\">Visualisierung</font>"
   ]
  },
  {
   "cell_type": "code",
   "execution_count": null,
   "metadata": {},
   "outputs": [],
   "source": [
    "ke.plot_zf(music, fs)\n",
    "ke.plot_stspec(music, fs)"
   ]
  },
  {
   "cell_type": "markdown",
   "metadata": {},
   "source": [
    "##### Protokoll\n",
    "#### Aufgabe 3 - Vertonung\n",
    "<table>\n",
    "    <colgroup>\n",
    "       <col span=\"1\" style=\"width: 30%;\">\n",
    "       <col span=\"1\" style=\"width: 70%;\">\n",
    "    </colgroup>\n",
    "  <tr>\n",
    "    <th>Verfahren</th>\n",
    "    <th>Höreindruck</th> \n",
    "\n",
    "</tr>\n",
    "  <tr>\n",
    "    <th> Sinustöne ohne Hüllkuvenbewertung</th>\n",
    "    <th> </th> \n",
    "  </tr>\n",
    "  <tr>\n",
    "    <th>Sinustöne mit ADSR</th>\n",
    "    <th> </th> \n",
    "  </tr>\n",
    "  <tr>\n",
    "    <th> Sinustöne mit Exponentbewertung</th>\n",
    "    <th> </th> \n",
    "  </tr>\n",
    "  <tr>\n",
    "    <th> Klänge ohne/mit Hüllkuvenbewertung</th>\n",
    "    <th> </th> \n",
    "  </tr>\n",
    "  <tr>\n",
    "    <th> Klänge ohne Hüllkuvenbewertung</th>\n",
    "    <th> </th> \n",
    "  </tr>\n",
    "  <tr>\n",
    "    <th>Klänge mit ADSR</th>\n",
    "    <th> </th> \n",
    "  </tr>\n",
    "  <tr>\n",
    "    <th> Klänge mit Exponentbewertung</th>\n",
    "    <th> </th> \n",
    "  </tr>\n",
    "  <tr>\n",
    "    <th> Dreiecksignal ohne Hüllkuvenbewertung</th>\n",
    "    <th> </th> \n",
    "  </tr>\n",
    "    <tr>\n",
    "    <th> Dreiecksignal mit ADSR</th>\n",
    "    <th> </th> \n",
    "  </tr>\n",
    "    <tr>\n",
    "    <th> Dreiecksignal mit Exponentbewertung</th>\n",
    "    <th> </th> \n",
    "  </tr>\n",
    "\n",
    "</table>"
   ]
  },
  {
   "cell_type": "code",
   "execution_count": null,
   "metadata": {},
   "outputs": [],
   "source": [
    "nb_in = 'DSVMI_part3.ipynb'\n",
    "nb_out = 'Protokoll_part3.ipynb'\n",
    "tp.protokoll(nb_in,nb_out)"
   ]
  }
 ],
 "metadata": {
  "kernelspec": {
   "display_name": "Python 3",
   "language": "python",
   "name": "python3"
  },
  "language_info": {
   "codemirror_mode": {
    "name": "ipython",
    "version": 3
   },
   "file_extension": ".py",
   "mimetype": "text/x-python",
   "name": "python",
   "nbconvert_exporter": "python",
   "pygments_lexer": "ipython3",
   "version": "3.7.1"
  }
 },
 "nbformat": 4,
 "nbformat_minor": 1
}
