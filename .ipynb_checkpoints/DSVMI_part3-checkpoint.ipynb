{
 "cells": [
  {
   "cell_type": "markdown",
   "metadata": {},
   "source": [
    "#### Festlegung für die Darstellung von interaktiven Graphiken innerhalb des Notebooks"
   ]
  },
  {
   "cell_type": "code",
   "execution_count": null,
   "metadata": {},
   "outputs": [],
   "source": [
    "%pylab inline"
   ]
  },
  {
   "cell_type": "markdown",
   "metadata": {},
   "source": [
    "#### Import der notwendigen Pakete und Module"
   ]
  },
  {
   "cell_type": "code",
   "execution_count": null,
   "metadata": {},
   "outputs": [],
   "source": [
    "import matplotlib.pyplot as plt\n",
    "import numpy as np\n",
    "import scipy.constants as const\n",
    "import scipy\n",
    "from scipy.io import wavfile\n",
    "from pylab import *\n",
    "from scipy.fftpack import fft, ifft\n",
    "from IPython.display import Audio\n",
    "\n",
    "import dsv.dsvorg as do\n",
    "import dsv.data_resample as resample\n",
    "import dsv.bsfilter as bsfilter\n",
    "import dsv.classes as dc\n",
    "import dsv.tproc_new as tp\n",
    "import functions.klang as ke"
   ]
  },
  {
   "cell_type": "markdown",
   "metadata": {},
   "source": [
    "[Table of Contents](table_of_contents.ipynb)"
   ]
  },
  {
   "cell_type": "markdown",
   "metadata": {},
   "source": [
    "##### Protokoll\n",
    "## Klangsynthese\n",
    "\n",
    "<table align=\"left\" width=\"400\">\n",
    "    <colgroup>\n",
    "       <col span=\"1\" style=\"width: 50%;\">\n",
    "       <col span=\"1\" style=\"width: 50%;\">\n",
    "    </colgroup>\n",
    "  <tr>\n",
    "    <th>Name</th>\n",
    "    <th>Vorname</th> \n",
    "  </tr>\n",
    "  <tr>\n",
    "    <td> Flach</td>\n",
    "    <td> Gudrun</td>\n",
    "  </tr>\n",
    "</table>"
   ]
  },
  {
   "cell_type": "markdown",
   "metadata": {},
   "source": [
    "Die folgenden Aufgaben haben die Erzeugung synthetischer Klänge zum Inhalt. Die hier betrachteten einfachen Klänge werden durch einen Grundton (Parameter `frequency`) und eine wählbare Anzahl Oberschwingungen (Parameter `ow`) kombiniert mit einem charakteristischen Zeitverlauf erzeugt. Anhand der Auswertung \"natürlicher\" Klänge sollen geeignete Parameterwerte ermittelt und getestet werden."
   ]
  },
  {
   "cell_type": "markdown",
   "metadata": {},
   "source": [
    "### <font color=\"#008000\">Aufgabe 1</font>\n",
    "Erzeugen Sie unter Verwendung von Sinusgrundschwingungen sowie deren Harmonischen und geeigneter zeitlicher Hüllkurven Klänge, die einer Flöte, einer Geige bzw. einem Klavier ähneln.\n",
    "\n",
    "Im folgenden sehen Sie den Zeitverlauf und das Kurzzeitspektrum von je 3 Tönen dieser Instrumente. Entwerfen Sie bitte in den folgenden Schritten eine passende Hüllkurve durch Auswertung des Zeitverlaufs und bestimmen Sie eine passende Anzahl Oberschwingungen anhand des dargestellten Kurzzeitspektrums. \n",
    "\n",
    "In der folgenden Zelle können Sie diese Töne auch hörbar machen.\n",
    "\n",
    "<img src=\"image/dsv1_instrumente.jpg\" height=\"300\" width=\"800\">"
   ]
  },
  {
   "cell_type": "code",
   "execution_count": null,
   "metadata": {},
   "outputs": [],
   "source": [
    "fs, instrumente = wavfile.read('sound\\\\instrumente.wav')\n",
    "Audio(data = instrumente, rate = fs)"
   ]
  },
  {
   "cell_type": "markdown",
   "metadata": {},
   "source": [
    "#### Hüllkurventyp ADSR"
   ]
  },
  {
   "cell_type": "code",
   "execution_count": null,
   "metadata": {
    "collapsed": true
   },
   "outputs": [],
   "source": [
    "tA = 0.15\n",
    "tD = 0.25\n",
    "tS = 0.9\n",
    "ED = 0.9\n",
    "ES = 0.7"
   ]
  },
  {
   "cell_type": "code",
   "execution_count": null,
   "metadata": {},
   "outputs": [],
   "source": [
    "env = [tA, tD, tS, ED, ES]\n",
    "ke.plot_adsr(env)"
   ]
  },
  {
   "cell_type": "markdown",
   "metadata": {},
   "source": [
    "#### Hüllkurventyp Exponent"
   ]
  },
  {
   "cell_type": "code",
   "execution_count": null,
   "metadata": {
    "collapsed": true
   },
   "outputs": [],
   "source": [
    "tA = 0.15\n",
    "EE = 0.1"
   ]
  },
  {
   "cell_type": "code",
   "execution_count": null,
   "metadata": {},
   "outputs": [],
   "source": [
    "env = [tA, EE]\n",
    "ke.plot_exponent(env)"
   ]
  },
  {
   "cell_type": "code",
   "execution_count": null,
   "metadata": {
    "collapsed": true
   },
   "outputs": [],
   "source": [
    "pitch = [1]\n",
    "duration = [1]\n",
    "tempo = 0.5\n",
    "fs = 8000"
   ]
  },
  {
   "cell_type": "code",
   "execution_count": null,
   "metadata": {},
   "outputs": [],
   "source": [
    "stimulus = 'sin'\n",
    "music = ke.create_music(pitch, duration, stimulus, env, tempo, fs)"
   ]
  },
  {
   "cell_type": "code",
   "execution_count": null,
   "metadata": {},
   "outputs": [],
   "source": [
    "Audio(data = music, rate = fs)"
   ]
  },
  {
   "cell_type": "code",
   "execution_count": null,
   "metadata": {},
   "outputs": [],
   "source": [
    "plt.plot(music)\n",
    "plt.show()"
   ]
  },
  {
   "cell_type": "code",
   "execution_count": null,
   "metadata": {},
   "outputs": [],
   "source": [
    "sig = dc.sound.Sound()\n",
    "sig.show_params()\n",
    "hk = dc.huellkurve.Huellkurve(0.1,0.3,0.2,0.4,1,0.7)\n",
    "hk.show_params()"
   ]
  },
  {
   "cell_type": "markdown",
   "metadata": {},
   "source": [
    "Testen Sie unterschiedliche Parameter für die Hüllkurvenform."
   ]
  },
  {
   "cell_type": "markdown",
   "metadata": {},
   "source": [
    "#### <font color=\"#FF0000\">Eingabezelle 1</font>"
   ]
  },
  {
   "cell_type": "code",
   "execution_count": null,
   "metadata": {},
   "outputs": [],
   "source": [
    "t_a = 0.3 #Attack Time\n",
    "t_d = 0.7 #Decay Time\n",
    "t_s = 0.0 #Sustain Time\n",
    "t_r = 0.0 #Release Time\n",
    "hk_max = 1 #Maximalwert\n",
    "sl = 0 #Sustain Level\n",
    "typ = 'adsr'"
   ]
  },
  {
   "cell_type": "code",
   "execution_count": null,
   "metadata": {},
   "outputs": [],
   "source": [
    "hk.set_params(t_attack=t_a, t_decay=t_d, t_sustain=t_s, t_release=t_r, maximum=hk_max, \n",
    "                   sustain_level=sl)\n",
    "hk.generate_hk(typ=typ)\n",
    "hk.plot_hk()"
   ]
  },
  {
   "cell_type": "markdown",
   "metadata": {},
   "source": [
    "Erzeugen Sie die harmonische Schwingung und bewerten Sie diese mit der in der vorangegangenen Zelle entworfenen Hüllkurve."
   ]
  },
  {
   "cell_type": "markdown",
   "metadata": {},
   "source": [
    "#### <font color=\"#FF0000\">Eingabezelle 2</font>"
   ]
  },
  {
   "cell_type": "code",
   "execution_count": null,
   "metadata": {},
   "outputs": [],
   "source": [
    "frequency = 600\n",
    "ow = 1"
   ]
  },
  {
   "cell_type": "code",
   "execution_count": null,
   "metadata": {},
   "outputs": [],
   "source": [
    "schwingung = sig.normalize_sound(sig.generate_sound(frequency=frequency, ow=ow))\n",
    "instrument = schwingung * hk.hk\n",
    "Audio(data = instrument, rate = 16000)"
   ]
  },
  {
   "cell_type": "markdown",
   "metadata": {},
   "source": [
    "Experimentieren Sie mit unterschiedlichen Klängen (Grundfrequenz und Oberschwingungen) und Hüllkurvenformen bis die Klangcharakteristik des Instrumentes annähernd erreicht ist.\n",
    "Tragen Sie die gewählten Werte für die Grundfrequenz, die Anzahl der Obertöne und die Form des Zeitfensters in die  **Tabelle Instrumentenklang** ein."
   ]
  },
  {
   "cell_type": "markdown",
   "metadata": {},
   "source": [
    "##### Protokoll\n",
    "#### Aufgabe 1 - Tabelle Instrumentenklang\n",
    "<table>\n",
    "    <colgroup>\n",
    "       <col span=\"1\" style=\"width: 15%;\">\n",
    "       <col span=\"1\" style=\"width: 15%;\">\n",
    "       <col span=\"1\" style=\"width: 15%;\">\n",
    "       <col span=\"1\" style=\"width: 11%;\">\n",
    "       <col span=\"1\" style=\"width: 11%;\">\n",
    "       <col span=\"1\" style=\"width: 11%;\">\n",
    "       <col span=\"1\" style=\"width: 11%;\">\n",
    "       <col span=\"1\" style=\"width: 11%;\">\n",
    "    </colgroup>\n",
    "  <tr>\n",
    "    <th>Instrument </th>\n",
    "    <th>Grundfrequenz/Hz</th> \n",
    "    <th>Anz. Oberschwingungen</th>\n",
    "    <th>`typ`</th>\n",
    "    <th>`t_attack`</th>\n",
    "    <th>`t_decay`</th>\n",
    "    <th>`t_sustain`</th>\n",
    "    <th>`t_release`</th>\n",
    "  </tr>\n",
    "  <tr>\n",
    "    <th> Flöte</th>\n",
    "    <th> </th> \n",
    "    <th> </th>\n",
    "    <th> </th>\n",
    "    <th> </th>\n",
    "    <th> </th>\n",
    "    <th> </th>\n",
    "    <th> </th>\n",
    "  </tr>\n",
    "  <tr>\n",
    "    <th> Geige</th>\n",
    "    <th> </th> \n",
    "    <th> </th>\n",
    "    <th> </th>\n",
    "    <th> </th>\n",
    "    <th> </th>\n",
    "    <th> </th>\n",
    "    <th> </th>\n",
    "  </tr>\n",
    "  <tr>\n",
    "    <th> Klavier</th>\n",
    "    <th> </th> \n",
    "    <th> </th>\n",
    "    <th> </th>\n",
    "    <th> </th>\n",
    "    <th> </th>\n",
    "    <th> </th>\n",
    "    <th> </th>\n",
    "  </tr>\n",
    "</table>"
   ]
  },
  {
   "cell_type": "markdown",
   "metadata": {},
   "source": [
    "### <font color=\"#008000\">Aufgabe 2</font>\n",
    "Erzeugen Sie unter Verwendung von Sinusschwingungen und deren Harmonischen und der Klavier-Hüllkurve aus Aufgabe 5 einen c-dur- und c-moll-Akkord. Die erforderlichen Frequenzwerte entnehmen Sie bitte Ihren Vorbereitungsaufgaben. \n",
    "Es werden zunächst  die Einzelklänge unter den Namen `klang1` ... `klang4` mit den in Eingabezelle 3 eingegebenen Werten erzeugt. Tragen Sie die Parameter in die **Tabelle Klänge** ein."
   ]
  },
  {
   "cell_type": "markdown",
   "metadata": {},
   "source": [
    "#### <font color=\"#FF0000\">Eingabezelle 3</font>"
   ]
  },
  {
   "cell_type": "code",
   "execution_count": null,
   "metadata": {},
   "outputs": [],
   "source": [
    "f1 = 261\n",
    "os1 = 6\n",
    "f2 = 330\n",
    "os2 = 6\n",
    "f3 = 392\n",
    "os3 = 6\n",
    "f4 = 522\n",
    "os4 = 6"
   ]
  },
  {
   "cell_type": "code",
   "execution_count": null,
   "metadata": {},
   "outputs": [],
   "source": [
    "klang1 = sig.normalize_sound(sig.generate_sound(frequency=f1,ow=os1))\n",
    "klang2 = sig.normalize_sound(sig.generate_sound(frequency=f2,ow=os2))\n",
    "klang3 = sig.normalize_sound(sig.generate_sound(frequency=f3,ow=os3))\n",
    "klang4 = sig.normalize_sound(sig.generate_sound(frequency=f4,ow=os4))"
   ]
  },
  {
   "cell_type": "markdown",
   "metadata": {},
   "source": [
    "Probehören der Einzelklänge (unbewertet)"
   ]
  },
  {
   "cell_type": "markdown",
   "metadata": {},
   "source": [
    "#### <font color=\"#FF0000\">Eingabezelle 4</font>"
   ]
  },
  {
   "cell_type": "code",
   "execution_count": null,
   "metadata": {},
   "outputs": [],
   "source": [
    "klang = klang4"
   ]
  },
  {
   "cell_type": "code",
   "execution_count": null,
   "metadata": {},
   "outputs": [],
   "source": [
    "Audio(data = klang, rate = 16000)"
   ]
  },
  {
   "cell_type": "code",
   "execution_count": null,
   "metadata": {},
   "outputs": [],
   "source": [
    "klang1 = klang1 * hk.hk\n",
    "klang2 = klang2 * hk.hk\n",
    "klang3 = klang3 * hk.hk\n",
    "klang4 = klang4 * hk.hk"
   ]
  },
  {
   "cell_type": "markdown",
   "metadata": {},
   "source": [
    "Probehören der Einzelklänge (bewertet)"
   ]
  },
  {
   "cell_type": "markdown",
   "metadata": {},
   "source": [
    "#### <font color=\"#FF0000\">Eingabezelle 5</font>"
   ]
  },
  {
   "cell_type": "code",
   "execution_count": null,
   "metadata": {
    "collapsed": true
   },
   "outputs": [],
   "source": [
    "klang = klang4"
   ]
  },
  {
   "cell_type": "code",
   "execution_count": null,
   "metadata": {},
   "outputs": [],
   "source": [
    "Audio(data = klang, rate = 16000)"
   ]
  },
  {
   "cell_type": "markdown",
   "metadata": {},
   "source": [
    "##### Protokoll\n",
    "#### Aufgabe 2 - Tabelle Klänge\n",
    "<table>\n",
    "    <colgroup>\n",
    "       <col span=\"1\" style=\"width: 10%;\">\n",
    "       <col span=\"1\" style=\"width: 20%;\">\n",
    "       <col span=\"1\" style=\"width: 25%;\">\n",
    "       <col span=\"1\" style=\"width: 20%;\">\n",
    "       <col span=\"1\" style=\"width: 25%;\">\n",
    "    </colgroup>\n",
    "  <tr>\n",
    "    <th>Klang</th>\n",
    "    <th>$f_{0}$/Hz (dur)</th> \n",
    "    <th>Anz. Oberschwingungen (dur)</th>\n",
    "    <th>$f_{0}$/Hz (moll)</th>\n",
    "    <th>Anz. Oberschwingungen (moll)</th>\n",
    "\n",
    "</tr>\n",
    "  <tr>\n",
    "    <th> klang1</th>\n",
    "    <th> </th> \n",
    "    <th> </th>\n",
    "    <th> </th>\n",
    "    <th> </th>\n",
    "  </tr>\n",
    "  <tr>\n",
    "    <th> klang2</th>\n",
    "    <th> </th> \n",
    "    <th> </th>\n",
    "    <th> </th>\n",
    "    <th> </th>\n",
    "  </tr>\n",
    "  <tr>\n",
    "    <th> klang3</th>\n",
    "    <th> </th> \n",
    "    <th> </th>\n",
    "    <th> </th>\n",
    "    <th> </th>\n",
    "  </tr>\n",
    "  <tr>\n",
    "    <th> klang4</th>\n",
    "    <th> </th> \n",
    "    <th> </th>\n",
    "    <th> </th>\n",
    "    <th> </th>\n",
    "  </tr>\n",
    "</table>"
   ]
  },
  {
   "cell_type": "markdown",
   "metadata": {},
   "source": [
    "Kombination der Klänge"
   ]
  },
  {
   "cell_type": "code",
   "execution_count": null,
   "metadata": {},
   "outputs": [],
   "source": [
    "akkord_single = np.append(klang1, (np.append(klang2, np.append(klang3, klang4))))\n",
    "Audio(data = akkord_single, rate = 16000)"
   ]
  },
  {
   "cell_type": "code",
   "execution_count": null,
   "metadata": {},
   "outputs": [],
   "source": [
    "akkord = sig.normalize_sound(klang1 + klang2 + klang3 + klang4)\n",
    "Audio(data = akkord, rate = 16000)"
   ]
  },
  {
   "cell_type": "code",
   "execution_count": null,
   "metadata": {},
   "outputs": [],
   "source": [
    "akkord_ges = np.append(akkord_single, akkord)\n",
    "Audio(data = akkord_ges, rate = 16000)"
   ]
  },
  {
   "cell_type": "code",
   "execution_count": null,
   "metadata": {},
   "outputs": [],
   "source": [
    "plt.plot(akkord_ges)\n",
    "plt.xlabel('ATW')\n",
    "plt.title('Zeitverlauf Akkord')"
   ]
  },
  {
   "cell_type": "code",
   "execution_count": null,
   "metadata": {},
   "outputs": [],
   "source": [
    "nb_in = 'DSVMI_part3.ipynb'\n",
    "nb_out = 'Protokoll_p3.ipynb'\n",
    "tp.protokoll(nb_in,nb_out)"
   ]
  },
  {
   "cell_type": "code",
   "execution_count": null,
   "metadata": {
    "collapsed": true
   },
   "outputs": [],
   "source": []
  }
 ],
 "metadata": {
  "kernelspec": {
   "display_name": "Python 3",
   "language": "python",
   "name": "python3"
  },
  "language_info": {
   "codemirror_mode": {
    "name": "ipython",
    "version": 3
   },
   "file_extension": ".py",
   "mimetype": "text/x-python",
   "name": "python",
   "nbconvert_exporter": "python",
   "pygments_lexer": "ipython3",
   "version": "3.6.3"
  }
 },
 "nbformat": 4,
 "nbformat_minor": 1
}
