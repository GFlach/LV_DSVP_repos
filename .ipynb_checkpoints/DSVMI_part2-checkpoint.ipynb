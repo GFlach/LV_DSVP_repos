{
 "cells": [
  {
   "cell_type": "markdown",
   "metadata": {},
   "source": [
    "#### Festlegung für die Darstellung von interaktiven Graphiken innerhalb des Notebooks"
   ]
  },
  {
   "cell_type": "code",
   "execution_count": null,
   "metadata": {},
   "outputs": [],
   "source": [
    "%pylab inline"
   ]
  },
  {
   "cell_type": "markdown",
   "metadata": {},
   "source": [
    "#### Import der notwendigen Pakete und Module"
   ]
  },
  {
   "cell_type": "code",
   "execution_count": null,
   "metadata": {
    "collapsed": true
   },
   "outputs": [],
   "source": [
    "import matplotlib.pyplot as plt\n",
    "import numpy as np\n",
    "import scipy.constants as const\n",
    "import scipy\n",
    "from scipy.io import wavfile\n",
    "from pylab import *\n",
    "from scipy.fftpack import fft, ifft\n",
    "from IPython.display import Audio\n",
    "\n",
    "import functions.dsvorg as do\n",
    "import functions.data_resample as resample\n",
    "import functions.bsfilter as bsfilter\n",
    "import functions.classes as dc\n",
    "import functions.tproc_new as tp"
   ]
  },
  {
   "cell_type": "markdown",
   "metadata": {},
   "source": [
    "[Table of Contents](table_of_contents.ipynb)"
   ]
  },
  {
   "cell_type": "code",
   "execution_count": null,
   "metadata": {
    "collapsed": true
   },
   "outputs": [],
   "source": [
    "import functions.PrettyTable as pt"
   ]
  },
  {
   "cell_type": "markdown",
   "metadata": {},
   "source": [
    "##### Protokoll\n",
    "## Signale, akustische Ereignisse\n",
    "\n",
    "<table align=\"left\" width=\"400\">\n",
    "    <colgroup>\n",
    "       <col span=\"1\" style=\"width: 50%;\">\n",
    "       <col span=\"1\" style=\"width: 50%;\">\n",
    "    </colgroup>\n",
    "  <tr>\n",
    "    <th>Name</th>\n",
    "    <th>Vorname</th> \n",
    "  </tr>\n",
    "  <tr>\n",
    "    <td> Flach</td>\n",
    "    <td> Gudrun</td>\n",
    "  </tr>\n",
    "      <tr>\n",
    "    <td> Mustermann</td>\n",
    "    <td> Max</td>\n",
    "  </tr>\n",
    "\n",
    "</table>\n"
   ]
  },
  {
   "cell_type": "markdown",
   "metadata": {},
   "source": [
    "#### Hinweis:\n",
    "In dem Verzeichnis `sound` sind die für das Praktikum erforderlichen Signale enthalten. Alle im Rahmen der Experimente erstellten Signale werden unter den angegebenen Namen ebenfalls in diesem Verzeichnis abgespeichert."
   ]
  },
  {
   "cell_type": "code",
   "execution_count": null,
   "metadata": {
    "collapsed": true
   },
   "outputs": [],
   "source": [
    "info_data = []\n",
    "head = ['Dateiname', 'Abtastrate', 'Datenformat', 'Anz. ATW', 'Maximum', 'Minimum']"
   ]
  },
  {
   "cell_type": "markdown",
   "metadata": {},
   "source": [
    "### Signalinformationen\n",
    "Für die korrekte Verarbeitung digitaler Signale sind eine Reihe von Informationen erforderlich, die in dem Dateiheader gehalten werden.  \n",
    "### <font color=\"#008000\">Aufgabe 1</font>\n",
    "Untersuchen Sie die aufgeführten Signale und berechnen Sie die Signaldauer. "
   ]
  },
  {
   "cell_type": "markdown",
   "metadata": {},
   "source": [
    "#### <font color=\"#FF0000\">Eingabezelle 1</font>"
   ]
  },
  {
   "cell_type": "code",
   "execution_count": null,
   "metadata": {
    "collapsed": true
   },
   "outputs": [],
   "source": [
    "#file = 'gaense'\n",
    "#file = 'glocken'\n",
    "file = 'mann'\n",
    "#file = 'rauschen'\n",
    "#file = 'traktor_fahrt'\n",
    "#file = 'traktor_stand'\n",
    "#file = 'wasser'"
   ]
  },
  {
   "cell_type": "code",
   "execution_count": null,
   "metadata": {},
   "outputs": [],
   "source": [
    "info_data.append(do.get_info(file))\n",
    "pt.PrettyTable(info_data, head)"
   ]
  },
  {
   "cell_type": "markdown",
   "metadata": {},
   "source": [
    "##### Protokoll\n",
    "#### Aufgabe 1 Signaldauer\n",
    "\n",
    "<table align=\"left\" width=\"400\">\n",
    "    <colgroup>\n",
    "       <col span=\"1\" style=\"width: 50%;\">\n",
    "       <col span=\"1\" style=\"width: 50%;\">\n",
    "    </colgroup>\n",
    "  <tr>\n",
    "    <th>Datei</th>\n",
    "    <th>Signaldauer in ms</th> \n",
    "  </tr>\n",
    "  <tr>\n",
    "    <td> gaense</td>\n",
    "    <td> </td>\n",
    "  </tr>\n",
    "  <tr>\n",
    "    <td> glocken</td>\n",
    "    <td> </td>\n",
    "  </tr>\n",
    "  <tr>\n",
    "    <td> mann</td>\n",
    "    <td> </td>\n",
    "  </tr>\n",
    "  <tr>\n",
    "    <td> rauschen</td>\n",
    "    <td> </td>\n",
    "  </tr>\n",
    "  <tr>\n",
    "    <td> traktor_fahrt</td>\n",
    "    <td> </td>\n",
    "  </tr>\n",
    "  <tr>\n",
    "    <td> traktor_stand</td>\n",
    "    <td> </td>\n",
    "  </tr>\n",
    "  <tr>\n",
    "    <td> wasser</td>\n",
    "    <td> </td>\n",
    "  </tr>\n",
    "\n",
    "</table>\n"
   ]
  },
  {
   "cell_type": "markdown",
   "metadata": {},
   "source": [
    "### Normierung\n",
    "Die vorliegenden Daten unterscheiden sich hinsichtlich einiger Kriterien. Um Daten miteinander vergleichen zu können, sollten sie normiert werden. Zunächst soll eine Normierung auf den maximalen Betragswert des Signals vorgenommen werden."
   ]
  },
  {
   "cell_type": "markdown",
   "metadata": {},
   "source": [
    "### <font color=\"#008000\">Aufgabe 2</font>\n",
    "Sie sehen und hören ein nichtnormiertes und ein nichtnormiertes Signal. Vergleichen Sie die Darstellungen und die 3 Audioausgaben. Beschreiben und erklären Sie den beobachteten Effekt in der **Tabelle Normierung**!"
   ]
  },
  {
   "cell_type": "code",
   "execution_count": null,
   "metadata": {},
   "outputs": [],
   "source": [
    "fs, data = do.load_data_o('craco_o')\n",
    "fs, data_norm = do.load_data('craco_o')\n",
    "t = np.arange(0, len(data)/fs, 1/fs)\n",
    "plt.figure(figsize=(15,5))\n",
    "subplot(221)\n",
    "plt.plot(t, data)\n",
    "plt.title('Signal original')\n",
    "plt.xlabel('t in s')\n",
    "subplot(222)\n",
    "plt.plot(t, data_norm)\n",
    "plt.title('Signal normiert')\n",
    "plt.xlabel('t in s')\n",
    "plt.savefig('a2-2.jpg')\n",
    "plt.show()"
   ]
  },
  {
   "cell_type": "markdown",
   "metadata": {},
   "source": [
    "#### Audioausgabe 1\n",
    "Sie hören zunächst das originale und unmittelbar anschließend das normierte Signal."
   ]
  },
  {
   "cell_type": "code",
   "execution_count": null,
   "metadata": {},
   "outputs": [],
   "source": [
    "data_out = np.append(data, data_norm)\n",
    "Audio(data = data_out, rate = fs)"
   ]
  },
  {
   "cell_type": "markdown",
   "metadata": {},
   "source": [
    "#### Audioausgabe 2\n",
    "Sie hören das nicht normierte Signal. "
   ]
  },
  {
   "cell_type": "code",
   "execution_count": null,
   "metadata": {},
   "outputs": [],
   "source": [
    "Audio(data = data, rate = fs)"
   ]
  },
  {
   "cell_type": "markdown",
   "metadata": {},
   "source": [
    "#### Audioausgabe 3\n",
    "Sie hören das normierte Signal.  "
   ]
  },
  {
   "cell_type": "code",
   "execution_count": null,
   "metadata": {},
   "outputs": [],
   "source": [
    "Audio(data = data_norm, rate = fs)"
   ]
  },
  {
   "cell_type": "markdown",
   "metadata": {},
   "source": [
    "##### Protokoll\n",
    "#### Aufgabe 2  Normierung\n",
    "<table>\n",
    "    <colgroup>\n",
    "       <col span=\"1\" style=\"width: 12%;\">\n",
    "       <col span=\"1\" style=\"width: 40%;\">\n",
    "       <col span=\"1\" style=\"width: 40%;\">\n",
    "    </colgroup>\n",
    "  <tr>\n",
    "    <th>Audioausgabe</th>\n",
    "    <th>Beobachtung</th> \n",
    "    <th>Erklärung</th>\n",
    "  </tr>\n",
    "  <tr>\n",
    "    <td>nicht normiert + normiert</td>\n",
    "    <td> </td>\n",
    "    <td> </td>\n",
    "  </tr>\n",
    "  <tr>\n",
    "    <td>nicht normiert</td>\n",
    "    <td> </td>\n",
    "    <td> </td>\n",
    "  </tr>\n",
    "  <tr>\n",
    "    <td>normiert</td>\n",
    "    <td> </td>\n",
    "    <td> </td>\n",
    "  </tr>\n",
    "</table>\n",
    "<img src = 'a2-2.jpg'>"
   ]
  },
  {
   "cell_type": "markdown",
   "metadata": {},
   "source": [
    "### Veränderung der Dynamik\n",
    "Veränderungen der Dynamik akustischer Signale können z. B. zum Ausgleich von Lautstärkeunterschieden genutzt werden. Dazu wird das Signal in Zeitfenster eingeteilt, für die jeweils die maximal mögliche Verstärkung ermittelt wird. Diese kann durch Auswertung der benachbarten Zeitfenster ausgeglichen werden. Mit dem pro Zeitfenster ermittelten Faktor wird das Signal verstärkt und anschließend auf das Maximum normiert."
   ]
  },
  {
   "cell_type": "markdown",
   "metadata": {},
   "source": [
    "### <font color=\"#008000\">Aufgabe 3</font>\n",
    "Untersuchen Sie dieses Verfahren für unterschiedliche Signale, Zeitfensterlängen und Glättungsbereiche. Tragen Sie in der Tabelle **Tabelle Dynamikbearbeitung** die gewählten Parametergrößen ein und beschreiben Sie die Veränderung im Klang."
   ]
  },
  {
   "cell_type": "markdown",
   "metadata": {},
   "source": [
    "#### <font color=\"#FF0000\">Eingabezelle 3</font>"
   ]
  },
  {
   "cell_type": "code",
   "execution_count": null,
   "metadata": {
    "collapsed": true
   },
   "outputs": [],
   "source": [
    "file = 'musik_dyn'\n",
    "#file = 'instrumente_dyn'\n",
    "#file = 'frau_clean_dyn'"
   ]
  },
  {
   "cell_type": "markdown",
   "metadata": {},
   "source": [
    "#### Daten einlesen und darstellen"
   ]
  },
  {
   "cell_type": "code",
   "execution_count": null,
   "metadata": {
    "scrolled": true
   },
   "outputs": [],
   "source": [
    "data, fs = do.get_data(file)\n",
    "Audio(data = data, rate = fs)"
   ]
  },
  {
   "cell_type": "markdown",
   "metadata": {},
   "source": [
    "#### <font color=\"#FF0000\">Eingabezelle 4</font>"
   ]
  },
  {
   "cell_type": "code",
   "execution_count": null,
   "metadata": {
    "collapsed": true
   },
   "outputs": [],
   "source": [
    "zf_len = 1000     # Zeitfenster [ms]\n",
    "smooth_fac = 3   # Glättung über ... Zeitfenster"
   ]
  },
  {
   "cell_type": "code",
   "execution_count": null,
   "metadata": {},
   "outputs": [],
   "source": [
    "data_dyn = do.get_gain(zf_len, fs, data, smooth_fac)\n",
    "Audio(data = data_dyn, rate = fs)"
   ]
  },
  {
   "cell_type": "code",
   "execution_count": null,
   "metadata": {},
   "outputs": [],
   "source": [
    "do.data_comp(data_dyn, data, fs)"
   ]
  },
  {
   "cell_type": "markdown",
   "metadata": {},
   "source": [
    "##### Protokoll\n",
    "#### Aufgabe 3  Dynamikbearbeitung\n",
    "<table>\n",
    "    <colgroup>\n",
    "       <col span=\"1\" style=\"width: 20%;\">\n",
    "       <col span=\"1\" style=\"width: 10%;\">\n",
    "       <col span=\"1\" style=\"width: 10%;\">\n",
    "       <col span=\"1\" style=\"width: 60%;\">\n",
    "    </colgroup>\n",
    "  <tr>\n",
    "    <th>Signal</th>\n",
    "    <th>Zeitfensterlänge</th> \n",
    "    <th>Glättungsbereich</th>\n",
    "    <th>Veränderung im Klang</th>\n",
    "  </tr>\n",
    "  <tr>\n",
    "    <th>musik</th>\n",
    "    <th> </th> \n",
    "    <th> </th>\n",
    "    <th> </th>\n",
    "    <th> </th>\n",
    "  </tr>\n",
    "  <tr>\n",
    "    <th>musik</th>\n",
    "    <th> </th> \n",
    "    <th> </th>\n",
    "    <th> </th>\n",
    "    <th> </th>\n",
    "  </tr>\n",
    "  <tr>\n",
    "    <th>frau_clean</th>\n",
    "    <th> </th> \n",
    "    <th> </th>\n",
    "    <th> </th>\n",
    "    <th> </th>\n",
    "  </tr>\n",
    "  <tr>\n",
    "    <th>frau_clean</th>\n",
    "    <th> </th> \n",
    "    <th> </th>\n",
    "    <th> </th>\n",
    "    <th> </th>\n",
    "  </tr>\n",
    "  <tr>\n",
    "    <th>instrumente</th>\n",
    "    <th> </th> \n",
    "    <th> </th>\n",
    "    <th> </th>\n",
    "    <th> </th>\n",
    "  </tr>\n",
    "  <tr>\n",
    "    <th>instrumente</th>\n",
    "    <th> </th> \n",
    "    <th> </th>\n",
    "    <th> </th>\n",
    "    <th> </th>\n",
    "  </tr>\n",
    "</table>\n",
    "\n",
    "<img src = 'image/dynamic.jpg'>"
   ]
  },
  {
   "cell_type": "markdown",
   "metadata": {},
   "source": [
    "Vor der Generierung des Protokolls in der nächsten Zelle speichern Sie bitte den aktuellen Stand mit `File -> Save and Checkpoint`."
   ]
  },
  {
   "cell_type": "code",
   "execution_count": null,
   "metadata": {
    "collapsed": true
   },
   "outputs": [],
   "source": [
    "nb_in = 'DSVMI_part2.ipynb'\n",
    "nb_out = 'Protokoll_part2.ipynb'\n",
    "tp.protokoll(nb_in,nb_out)"
   ]
  }
 ],
 "metadata": {
  "kernelspec": {
   "display_name": "Python 3",
   "language": "python",
   "name": "python3"
  },
  "language_info": {
   "codemirror_mode": {
    "name": "ipython",
    "version": 3
   },
   "file_extension": ".py",
   "mimetype": "text/x-python",
   "name": "python",
   "nbconvert_exporter": "python",
   "pygments_lexer": "ipython3",
   "version": "3.6.3"
  }
 },
 "nbformat": 4,
 "nbformat_minor": 1
}
