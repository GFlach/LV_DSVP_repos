{

 "cells": [

  {

   "cell_type": "markdown",

   "metadata": {},

   "source": [


    "## Mischen von Schall - Bearbeitung von Schall im Zeitbereich\n",

    "\n",

    "<table align=\"left\" width=\"400\">\n",

    "    <colgroup>\n",

    "       <col span=\"1\" style=\"width: 50%;\">\n",

    "       <col span=\"1\" style=\"width: 50%;\">\n",

    "    </colgroup>\n",

    "  <tr>\n",

    "    <th>Name</th>\n",

    "    <th>Vorname</th> \n",

    "  </tr>\n",

    "  <tr>\n",

    "    <td> Mustermann</td>\n",

    "    <td> Max</td>\n",

    "  </tr>\n",

    "</table>"

   ]

  },

  {

   "cell_type": "markdown",

   "metadata": {},

   "source": [


    "#### Aufgabe 1 - Mischen 1\n",

    "<table>\n",

    "    <colgroup>\n",

    "       <col span=\"1\" style=\"width: 10%;\">\n",

    "       <col span=\"1\" style=\"width: 10%;\">\n",

    "       <col span=\"1\" style=\"width: 20%;\">\n",

    "       <col span=\"1\" style=\"width: 60%;\">\n",

    "    </colgroup>\n",

    "  <tr>\n",

    "    <th>File1</th>\n",

    "    <th>File2</th> \n",

    "    <th>Abtastfrequenz Ausgabe</th>\n",

    "    <th>Kurzbeschreibung Ergebnis</th>\n",

    "  </tr>\n",

    "  <tr>\n",

    "    <th> dsv1_mann_clean.wav</th>\n",

    "    <th> dsv1_glocken.wav</th> \n",

    "    <th> </th>\n",

    "    <th> </th>\n",

    "  </tr>\n",

    "</table>"

   ]

  },

  {

   "cell_type": "markdown",

   "metadata": {

    "collapsed": true

   },

   "source": [


    "#### Aufgabe 2 - Mischen 2\n",

    "<table>\n",

    "    <colgroup>\n",

    "       <col span=\"1\" style=\"width: 15%;\">\n",

    "       <col span=\"1\" style=\"width: 15%;\">\n",

    "       <col span=\"1\" style=\"width: 5%;\">\n",

    "       <col span=\"1\" style=\"width: 5%;\">\n",

    "       <col span=\"1\" style=\"width: 60%;\">\n",

    "    </colgroup>\n",

    "  <tr>\n",

    "    <th>File1</th>\n",

    "    <th>File2</th> \n",

    "    <th>fs1</th>\n",

    "    <th>fs2</th>    \n",

    "    <th>Kurzbeschreibung Ergebnis</th>\n",

    "  </tr>\n",

    "  <tr>\n",

    "    <th> mann.wav</th>\n",

    "    <th> glocken.wav</th> \n",

    "    <th> 44100</th>\n",

    "    <th> 44100</th>\n",

    "    <th> </th>\n",

    "  </tr>\n",

    "  <tr>\n",

    "    <th> mann.wav</th>\n",

    "    <th> glocken.wav</th> \n",

    "    <th> 16000</th>\n",

    "    <th> 16000</th>\n",

    "    <th> </th>\n",

    "  </tr>\n",

    "</table>\n",

    "\n",

    "besser geeingete Signalkombination:\n",

    "\n",

    "Begründung:"

   ]

  }

 ],

 "metadata": {

  "kernelspec": {

   "display_name": "Python 3",

   "language": "python",

   "name": "python3"

  },

  "language_info": {

   "codemirror_mode": {

    "name": "ipython",

    "version": 3

   },

   "file_extension": ".py",

   "mimetype": "text/x-python",

   "name": "python",

   "nbconvert_exporter": "python",

   "pygments_lexer": "ipython3",

   "version": "3.7.1"

  }

 },

 "nbformat": 4,

 "nbformat_minor": 1

}

