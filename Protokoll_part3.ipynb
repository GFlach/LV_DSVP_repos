{

 "cells": [

  {

   "cell_type": "markdown",

   "metadata": {},

   "source": [


    "## Klangsynthese\n",

    "\n",

    "<table align=\"left\" width=\"400\">\n",

    "    <colgroup>\n",

    "       <col span=\"1\" style=\"width: 50%;\">\n",

    "       <col span=\"1\" style=\"width: 50%;\">\n",

    "    </colgroup>\n",

    "  <tr>\n",

    "    <th>Name</th>\n",

    "    <th>Vorname</th> \n",

    "  </tr>\n",

    "  <tr>\n",

    "    <td> Mustermann</td>\n",

    "    <td> Max</td>\n",

    "  </tr>\n",

    "</table>"

   ]

  },

  {

   "cell_type": "markdown",

   "metadata": {},

   "source": [


    "#### Aufgabe 1 - Instrumentenklang\n",

    "<table>\n",

    "    <colgroup>\n",

    "       <col span=\"1\" style=\"width: 15%;\">\n",

    "       <col span=\"1\" style=\"width: 15%;\">\n",

    "       <col span=\"1\" style=\"width: 40%;\">\n",

    "       <col span=\"1\" style=\"width: 30%;\">\n",

    "    </colgroup>\n",

    "  <tr>\n",

    "    <th>Instrument </th>\n",

    "    <th>Grundfrequenz/Hz</th> \n",

    "    <th>ow</th>\n",

    "    <th>env</th>\n",

    "      \n",

    "  </tr>\n",

    "  <tr>\n",

    "    <th> Flöte</th>\n",

    "    <th> 880</th>\n",

    "    <th>triangle </th> \n",

    "    <th> [0.05, 0.05, 0.95, 1.0, 1.0]</th>\n",

    "  </tr>\n",

    "  <tr>\n",

    "    <th> Geige</th>\n",

    "    <th>440 </th> \n",

    "    <th> [1, 0.5, 0.5, 0.5, 0.45, 0.4, 0.35, 0.3, 0.25, 0.2, 0.15, 0.1, 0.05] </th>\n",

    "    <th> [0.15, 0.15, 0.85, 1.0, 1.0]</th>\n",

    "  </tr>\n",

    "  <tr>\n",

    "    <th> Klavier</th>\n",

    "    <th> 440</th> \n",

    "    <th> [1, 0.5, 0.5, 0.5, 0.45]</th>\n",

    "    <th> [0.01, 0.1] </th>\n",

    "  </tr>\n",

    "</table>"

   ]

  },

  {

   "cell_type": "markdown",

   "metadata": {},

   "source": [


    "#### Aufgabe 2 - Tabelle Klänge\n",

    "<table>\n",

    "    <colgroup>\n",

    "       <col span=\"1\" style=\"width: 10%;\">\n",

    "       <col span=\"1\" style=\"width: 20%;\">\n",

    "    </colgroup>\n",

    "  <tr>\n",

    "    <th>Note</th>\n",

    "    <th>Frequenz/Hz</th> \n",

    "\n",

    "</tr>\n",

    "  <tr>\n",

    "    <th> C''</th>\n",

    "    <th> 522</th> \n",

    "  </tr>\n",

    "  <tr>\n",

    "    <th> E</th>\n",

    "    <th> 658</th> \n",

    "  </tr>\n",

    "  <tr>\n",

    "    <th> Dis</th>\n",

    "    <th> 621</th> \n",

    "  </tr>\n",

    "  <tr>\n",

    "    <th> G</th>\n",

    "    <th> 782</th> \n",

    "  </tr>\n",

    "    <tr>\n",

    "    <th> C'''</th>\n",

    "    <th> 1044</th> \n",

    "  </tr>\n",

    "\n",

    "</table>"

   ]

  },

  {

   "cell_type": "markdown",

   "metadata": {},

   "source": [


    "#### Aufgabe 3 - Vertonung\n",

    "<table>\n",

    "    <colgroup>\n",

    "       <col span=\"1\" style=\"width: 30%;\">\n",

    "       <col span=\"1\" style=\"width: 70%;\">\n",

    "    </colgroup>\n",

    "  <tr>\n",

    "    <th>Verfahren</th>\n",

    "    <th>Höreindruck</th> \n",

    "\n",

    "</tr>\n",

    "  <tr>\n",

    "    <th> Sinustöne ohne Hüllkuvenbewertung</th>\n",

    "    <th> </th> \n",

    "  </tr>\n",

    "  <tr>\n",

    "    <th>Sinustöne mit ADSR</th>\n",

    "    <th> </th> \n",

    "  </tr>\n",

    "  <tr>\n",

    "    <th> Sinustöne mit Exponentbewertung</th>\n",

    "    <th> </th> \n",

    "  </tr>\n",

    "  <tr>\n",

    "    <th> Klängen ohne/mit Hüllkuvenbewertung</th>\n",

    "    <th> </th> \n",

    "  </tr>\n",

    "  <tr>\n",

    "    <th> Klänge ohne Hüllkuvenbewertung</th>\n",

    "    <th> </th> \n",

    "  </tr>\n",

    "  <tr>\n",

    "    <th>Klänge mit ADSR</th>\n",

    "    <th> </th> \n",

    "  </tr>\n",

    "  <tr>\n",

    "    <th> Klänge mit Exponentbewertung</th>\n",

    "    <th> </th> \n",

    "  </tr>\n",

    "  <tr>\n",

    "    <th> Dreiecksignal ohne Hüllkuvenbewertung</th>\n",

    "    <th> </th> \n",

    "  </tr>\n",

    "    <tr>\n",

    "    <th> Dreiecksignal mit ADSR</th>\n",

    "    <th> </th> \n",

    "    <tr>\n",

    "    <th> Dreiecksignal mit Exponentbewertung</th>\n",

    "    <th> </th> \n",

    "  </tr>\n",

    "\n",

    "</table>"

   ]

  }

 ],

 "metadata": {

  "kernelspec": {

   "display_name": "Python 3",

   "language": "python",

   "name": "python3"

  },

  "language_info": {

   "codemirror_mode": {

    "name": "ipython",

    "version": 3

   },

   "file_extension": ".py",

   "mimetype": "text/x-python",

   "name": "python",

   "nbconvert_exporter": "python",

   "pygments_lexer": "ipython3",

   "version": "3.7.1"

  }

 },

 "nbformat": 4,

 "nbformat_minor": 1

}

