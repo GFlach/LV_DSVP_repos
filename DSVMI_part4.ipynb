{
 "cells": [
  {
   "cell_type": "markdown",
   "metadata": {},
   "source": [
    "#### Festlegung für die Darstellung von interaktiven Graphiken innerhalb des Notebooks"
   ]
  },
  {
   "cell_type": "code",
   "execution_count": null,
   "metadata": {
    "collapsed": false
   },
   "outputs": [],
   "source": [
    "%pylab inline"
   ]
  },
  {
   "cell_type": "markdown",
   "metadata": {},
   "source": [
    "#### Import der notwendigen Pakete und Module"
   ]
  },
  {
   "cell_type": "code",
   "execution_count": null,
   "metadata": {
    "collapsed": false
   },
   "outputs": [],
   "source": [
    "import matplotlib.pyplot as plt\n",
    "import numpy as np\n",
    "import scipy.constants as const\n",
    "import scipy\n",
    "from scipy.io import wavfile\n",
    "from pylab import *\n",
    "from scipy.fftpack import fft, ifft\n",
    "from IPython.display import Audio\n",
    "\n",
    "import dsv.dsvorg as do\n",
    "import dsv.data_resample as resample\n",
    "import dsv.bsfilter as bsfilter\n",
    "import dsv.classes as dc\n",
    "import dsv.tproc_new as tp"
   ]
  },
  {
   "cell_type": "markdown",
   "metadata": {},
   "source": [
    "[Table of Contents](table_of_contents.ipynb)"
   ]
  },
  {
   "cell_type": "markdown",
   "metadata": {},
   "source": [
    "##### Protokoll\n",
    "## Mischen von Schall - Bearbeitung von Schall im Zeitbereich\n",
    "\n",
    "<table align=\"left\" width=\"400\">\n",
    "    <colgroup>\n",
    "       <col span=\"1\" style=\"width: 50%;\">\n",
    "       <col span=\"1\" style=\"width: 50%;\">\n",
    "    </colgroup>\n",
    "  <tr>\n",
    "    <th>Name</th>\n",
    "    <th>Vorname</th> \n",
    "  </tr>\n",
    "  <tr>\n",
    "    <td> Flach</td>\n",
    "    <td> Gudrun</td>\n",
    "  </tr>\n",
    "</table>"
   ]
  },
  {
   "cell_type": "markdown",
   "metadata": {},
   "source": [
    "\n",
    "Schallereignisse in Hörspielen und Filmen umfassen oft eine Mischung aus Sprachsignalen und Geräuschen, die eine Umgebungsatmosphäre vermitteln sollen. Bei der Mischung sind 2 Ziele zu erreichen:\n",
    "- möglichst hohe Sprachverständlichkeit\n",
    "- möglichst authentische Geräuschumgebung.\n",
    "\n",
    "In den folgenden Aufgaben sollen Sie aus den zur Verfügung stehenden Sprach- und Umgebungsgeräuschaufnahmen Mischungen erzeugen, die diese Ziele erfüllen."
   ]
  },
  {
   "cell_type": "markdown",
   "metadata": {},
   "source": [
    "### Bearbeitung von Schall im Zeitbereich"
   ]
  },
  {
   "cell_type": "markdown",
   "metadata": {},
   "source": [
    "### <font color=\"#008000\">Aufgabe 1</font>\n",
    "Mischen Sie die folgenden Signale:\n",
    "- `dsv1_mann_clean.wav + dsv1_gaense.wav`\n",
    "- `dsv1_mann_clean.wav + dsv1_glocken.wav`\n",
    "- `dsv1_mann_clean.wav + dsv1_traktor_fahrt.wav`\n",
    "\n",
    "Geben Sie dazu in Eingabezelle 1 die Dateinamen ein und arbeiten Sie für jede Kombination die Zellen bis **Tabelle Mischen 1** ab.\n",
    "\n",
    "Erklären Sie die entstehenden Effekte. Worin liegt die Ursache? Tragen Sie die Beobachtung in **Tabelle Mischen 1** ein."
   ]
  },
  {
   "cell_type": "markdown",
   "metadata": {},
   "source": [
    "#### <font color=\"#FF0000\">Eingabezelle 1</font>"
   ]
  },
  {
   "cell_type": "code",
   "execution_count": null,
   "metadata": {
    "collapsed": true
   },
   "outputs": [],
   "source": [
    "file1 = 'dsv1_mann_clean'\n",
    "file2 = 'dsv1_glocken'"
   ]
  },
  {
   "cell_type": "code",
   "execution_count": null,
   "metadata": {
    "collapsed": false
   },
   "outputs": [],
   "source": [
    "fs1, data_file1 = do.load_data(file1)\n",
    "fs2, data_file2 = do.load_data(file2)"
   ]
  },
  {
   "cell_type": "markdown",
   "metadata": {},
   "source": [
    "Signallängen bestimmen"
   ]
  },
  {
   "cell_type": "code",
   "execution_count": null,
   "metadata": {
    "collapsed": false
   },
   "outputs": [],
   "source": [
    "len_file1 = len(data_file1)/fs1\n",
    "len_file2 = len(data_file2)/fs2\n",
    "print ('File 1: %s ATW, Dauer: %s s, fS = %s Hz' %(len(data_file1), round(len_file1, 3), fs1))\n",
    "print ('File 2: %s ATW, Dauer: %s s, fS = %s Hz' %(len(data_file2), round(len_file2, 3), fs2))"
   ]
  },
  {
   "cell_type": "markdown",
   "metadata": {},
   "source": [
    "Signale mischen, dazu längeres Signal kürzen"
   ]
  },
  {
   "cell_type": "code",
   "execution_count": null,
   "metadata": {
    "collapsed": false
   },
   "outputs": [],
   "source": [
    "if len(data_file1) < len(data_file2):\n",
    "    data_file2 = data_file2[:len(data_file1)]\n",
    "else:\n",
    "    data_file1 = data_file1[:len(data_file2)]\n",
    "data = (data_file2 + data_file1)\n",
    "data = data/max(max(data), abs(min(data)))"
   ]
  },
  {
   "cell_type": "markdown",
   "metadata": {},
   "source": [
    "Ergebnis mit unterschiedlichen Abtastfrequenzen ausgeben"
   ]
  },
  {
   "cell_type": "code",
   "execution_count": null,
   "metadata": {
    "collapsed": false
   },
   "outputs": [],
   "source": [
    "Audio(data = data, rate = fs1)"
   ]
  },
  {
   "cell_type": "code",
   "execution_count": null,
   "metadata": {
    "collapsed": false,
    "scrolled": true
   },
   "outputs": [],
   "source": [
    "Audio(data = data, rate = fs2)"
   ]
  },
  {
   "cell_type": "markdown",
   "metadata": {},
   "source": [
    "##### Protokoll\n",
    "#### Aufgabe 1 - Tabelle Mischen 1\n",
    "<table>\n",
    "    <colgroup>\n",
    "       <col span=\"1\" style=\"width: 10%;\">\n",
    "       <col span=\"1\" style=\"width: 10%;\">\n",
    "       <col span=\"1\" style=\"width: 20%;\">\n",
    "       <col span=\"1\" style=\"width: 60%;\">\n",
    "    </colgroup>\n",
    "  <tr>\n",
    "    <th>File1</th>\n",
    "    <th>File2</th> \n",
    "    <th>Abtastfrequenz Ausgabe</th>\n",
    "    <th>Kurzbeschreibung Ergebnis</th>\n",
    "  </tr>\n",
    "  <tr>\n",
    "    <th> dsv1_mann_clean.wav </th>\n",
    "    <th> dsv1_gaense.wav</th> \n",
    "    <th> </th>\n",
    "    <th> </th>\n",
    "  </tr>\n",
    "  <tr>\n",
    "    <th> dsv1_mann_clean.wav</th>\n",
    "    <th> dsv1_glocken.wav</th> \n",
    "    <th> </th>\n",
    "    <th> </th>\n",
    "  </tr>\n",
    "  <tr>\n",
    "    <th> dsv1_mann_clean.wav </th>\n",
    "    <th> dsv1_traktor_fahrt.wav</th> \n",
    "    <th> </th>\n",
    "    <th> </th>\n",
    "  </tr>\n",
    "</table>"
   ]
  },
  {
   "cell_type": "markdown",
   "metadata": {},
   "source": [
    "### <font color=\"#008000\">Aufgabe 2</font>\n",
    "Verändern Sie für die Signalkombinationen aus Aufgabe 1, die nicht das erwartete Ergebnis hatten, die Abtastfrequenz für beide Signale jeweils auf die Werte eines der Originalsignale. Das Vorgehen zur Veränderung der Abtastfrequenz ist in der nächsten Zelle beschrieben. Führen Sie für die veränderten Signale die Schritte aus Aufgabe 1 erneut durch. Fassen Sie die Ergebnisse in der **Tabelle Mischen 2** zusammen. "
   ]
  },
  {
   "cell_type": "markdown",
   "metadata": {},
   "source": [
    "#### Abtastraten anpassen\n",
    "\n",
    "Mit der Funktion `resample` kann die Abtastfrequenz eines `.wav`-Files verändert werden. Die Parameter der Funktion sind:\n",
    "- `Name des Originalfiles`\n",
    "- `upsampling-Wert`\n",
    "- `downsampling-Wert`\n",
    "- `Resamplingfrequenz`\n",
    "- `Name des resample-Files`\n",
    "\n",
    "Der up- und downsampling-Wert wird aus dem Verhältnis Originalabtastfrequenz : Resamplingfrequenz als Rationalbruch ermittelt:\n",
    "\n",
    "Beispiel1:\n",
    "\n",
    "$\\frac{f_{resample}}{f_{original}}=\\frac{44100}{48000}=\\frac{147}{160}=\\frac{up}{down}$\n",
    "\n",
    "Beispiel2:\n",
    "\n",
    "$\\frac{f_{resample}}{f_{original}}=\\frac{44100}{11025}=\\frac{4}{1}=\\frac{up}{down}$"
   ]
  },
  {
   "cell_type": "markdown",
   "metadata": {},
   "source": [
    "#### <font color=\"#FF0000\">Eingabezelle 2</font>"
   ]
  },
  {
   "cell_type": "code",
   "execution_count": null,
   "metadata": {
    "collapsed": true
   },
   "outputs": [],
   "source": [
    "file = 'dsv1_glocken'\n",
    "file_neu = file + '_44100'       # neue Abtastfrequenz in Hz\n",
    "up = 441\n",
    "down = 160\n",
    "f_neu = 44100"
   ]
  },
  {
   "cell_type": "code",
   "execution_count": null,
   "metadata": {
    "collapsed": false
   },
   "outputs": [],
   "source": [
    "resample.resample(file, file_neu, up=up, down=down, f_neu=f_neu)"
   ]
  },
  {
   "cell_type": "markdown",
   "metadata": {},
   "source": [
    "Weiter ab Eingabezelle 1 wie in Aufgabe 1."
   ]
  },
  {
   "cell_type": "markdown",
   "metadata": {
    "collapsed": true
   },
   "source": [
    "##### Protokoll\n",
    "#### Aufgabe 2 - Tabelle Mischen 2\n",
    "<table>\n",
    "    <colgroup>\n",
    "       <col span=\"1\" style=\"width: 15%;\">\n",
    "       <col span=\"1\" style=\"width: 15%;\">\n",
    "       <col span=\"1\" style=\"width: 5%;\">\n",
    "       <col span=\"1\" style=\"width: 5%;\">\n",
    "       <col span=\"1\" style=\"width: 60%;\">\n",
    "    </colgroup>\n",
    "  <tr>\n",
    "    <th>File1</th>\n",
    "    <th>File2</th> \n",
    "    <th>fs1</th>\n",
    "    <th>fs2</th>    \n",
    "    <th>Kurzbeschreibung Ergebnis</th>\n",
    "  </tr>\n",
    "  <tr>\n",
    "    <th> dsv1_mann_clean.wav</th>\n",
    "    <th> dsv1_glocken.wav</th> \n",
    "    <th> 44100</th>\n",
    "    <th> 44100</th>\n",
    "    <th> </th>\n",
    "  </tr>\n",
    "  <tr>\n",
    "    <th> dsv1_mann_clean.wav</th>\n",
    "    <th> dsv1_glocken.wav</th> \n",
    "    <th> 16000</th>\n",
    "    <th> 16000</th>\n",
    "    <th> </th>\n",
    "  </tr>\n",
    "  <tr>\n",
    "    <th> dsv1_mann_clean.wav </th>\n",
    "    <th> dsv1_traktor_fahrt.wav</th> \n",
    "    <th> 44100 </th>\n",
    "    <th> 44100 </th>\n",
    "    <th> </th>\n",
    "  </tr>\n",
    "  <tr>\n",
    "    <th> dsv1_mann_clean.wav </th>\n",
    "    <th> dsv1_traktor_fahrt.wav</th> \n",
    "    <th> 11025 </th>\n",
    "    <th> 11025 </th>\n",
    "    <th> </th>\n",
    "  </tr>\n",
    "</table>"
   ]
  },
  {
   "cell_type": "markdown",
   "metadata": {},
   "source": [
    "### <font color=\"#008000\">Aufgabe 3</font>\n",
    "Mischen Sie die folgenden Signale mit unterschiedlichen Wichtungsfaktoren. Kommentieren Sie das Ergebnis in der **Tabelle Mischen gewichtet**.\n",
    "- `dsv1_mann_clean.wav + dsv1_gaense.wav`\n",
    "- `dsv1_mann_clean_16000.wav + dsv1_glocken.wav`\n",
    "- `dsv1_mann_clean.wav_11025 + dsv1_traktor_fahrt.wav`"
   ]
  },
  {
   "cell_type": "markdown",
   "metadata": {},
   "source": [
    "#### <font color=\"#FF0000\">Eingabezelle 3</font>"
   ]
  },
  {
   "cell_type": "code",
   "execution_count": null,
   "metadata": {
    "collapsed": false
   },
   "outputs": [],
   "source": [
    "file1 = 'dsv1_mann_clean'\n",
    "file2 = 'dsv1_gaense'\n",
    "w1 = 1\n",
    "w2 = 0.5\n",
    "fS = 44100"
   ]
  },
  {
   "cell_type": "code",
   "execution_count": null,
   "metadata": {
    "collapsed": false
   },
   "outputs": [],
   "source": [
    "data_misch = do.misch(file1, file2, w1, w2)\n",
    "Audio(data = data_misch, rate = fS)"
   ]
  },
  {
   "cell_type": "markdown",
   "metadata": {},
   "source": [
    "##### Protokoll\n",
    "#### Aufgabe 3 - Tabelle Mischen gewichtet\n",
    "<table>\n",
    "    <colgroup>\n",
    "       <col span=\"1\" style=\"width: 15%;\">\n",
    "       <col span=\"1\" style=\"width: 15%;\">\n",
    "       <col span=\"1\" style=\"width: 5%;\">\n",
    "       <col span=\"1\" style=\"width: 5%;\">\n",
    "       <col span=\"1\" style=\"width: 5%;\">\n",
    "       <col span=\"1\" style=\"width: 55%;\">\n",
    "    </colgroup>\n",
    "  <tr>\n",
    "    <th>File1</th>\n",
    "    <th>File2</th> \n",
    "    <th>fS</th>\n",
    "    <th>w1</th>    \n",
    "    <th>w2</th>\n",
    "    <th>Kurzbeschreibung Ergebnis</th>\n",
    "  </tr>\n",
    "  <tr>\n",
    "    <th>dsv1_mann_clean.wav</th>\n",
    "    <th>dsv1_gaense.wav</th> \n",
    "    <th>44100</th>\n",
    "    <th>1</th>    \n",
    "    <th>0.5 </th>\n",
    "    <th> </th>\n",
    "  </tr>\n",
    "  <tr>\n",
    "    <th>dsv1_mann_clean.wav</th>\n",
    "    <th>dsv1_gaense.wav</th> \n",
    "    <th>44100</th>\n",
    "    <th>1</th>    \n",
    "    <th>2 </th>\n",
    "    <th> </th>\n",
    "  </tr>\n",
    "  <tr>\n",
    "    <th>dsv1_mann_clean.wav</th>\n",
    "    <th>dsv1_gaense.wav</th> \n",
    "    <th>44100</th>\n",
    "    <th>1</th>    \n",
    "    <th>0.1 </th>\n",
    "    <th> </th>\n",
    "  </tr>\n",
    "  <tr>\n",
    "    <th>dsv1_mann_clean_16000.wav</th>\n",
    "    <th>dsv1_glocken.wav</th> \n",
    "    <th>16000</th>\n",
    "    <th>1</th>    \n",
    "    <th>0.5 </th>\n",
    "    <th> </th>\n",
    "  </tr>\n",
    "  <tr>\n",
    "    <th>dsv1_mann_clean_16000.wav</th>\n",
    "    <th>dsv1_glocken.wav</th> \n",
    "    <th>16000</th>\n",
    "    <th>1</th>    \n",
    "    <th>2 </th>\n",
    "    <th> </th>\n",
    "  </tr>\n",
    "  <tr>\n",
    "    <th>dsv1_mann_clean_16000.wav</th>\n",
    "    <th>dsv1_glocken.wav</th> \n",
    "    <th>16000</th>\n",
    "    <th>1</th>    \n",
    "    <th>0.1 </th>\n",
    "    <th> </th>\n",
    "  </tr>\n",
    "  <tr>\n",
    "    <th>dsv1_mann_clean_11025.wav</th>\n",
    "    <th>dsv1_traktor_fahrt.wav</th> \n",
    "    <th>11025</th>\n",
    "    <th>1</th>    \n",
    "    <th>0.5 </th>\n",
    "    <th> </th>\n",
    "  </tr>\n",
    "  <tr>\n",
    "    <th>dsv1_mann_clean_11025.wav</th>\n",
    "    <th>dsv1_traktor_fahrt.wav</th> \n",
    "    <th>11025</th>\n",
    "    <th>1</th>    \n",
    "    <th>2 </th>\n",
    "    <th> </th>\n",
    "  </tr>\n",
    "  <tr>\n",
    "    <th>dsv1_mann_clean_11025.wav</th>\n",
    "    <th>dsv1_traktor_fahrt.wav</th> \n",
    "    <th>11025</th>\n",
    "    <th>1</th>    \n",
    "    <th>0.1 </th>\n",
    "    <th> </th>\n",
    "  </tr>\n",
    "</table>"
   ]
  },
  {
   "cell_type": "code",
   "execution_count": 32,
   "metadata": {
    "collapsed": true
   },
   "outputs": [],
   "source": [
    "nb_in = 'C:\\\\WinPython-neu\\\\notebooks\\\\DSV-MI\\\\DSM4\\\\DSVMI_part4.ipynb'\n",
    "nb_out = 'C:\\\\WinPython-neu\\\\notebooks\\\\DSV-MI\\\\DSM4\\Protokoll_p4.ipynb'\n",
    "tp.protokoll(nb_in,nb_out)"
   ]
  },
  {
   "cell_type": "code",
   "execution_count": null,
   "metadata": {
    "collapsed": true
   },
   "outputs": [],
   "source": []
  }
 ],
 "metadata": {
  "kernelspec": {
   "display_name": "Python 3",
   "language": "python",
   "name": "python3"
  },
  "language_info": {
   "codemirror_mode": {
    "name": "ipython",
    "version": 3
   },
   "file_extension": ".py",
   "mimetype": "text/x-python",
   "name": "python",
   "nbconvert_exporter": "python",
   "pygments_lexer": "ipython3",
   "version": "3.6.0"
  }
 },
 "nbformat": 4,
 "nbformat_minor": 0
}
