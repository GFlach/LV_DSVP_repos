{
 "cells": [
  {
   "cell_type": "code",
   "execution_count": null,
   "metadata": {},
   "outputs": [],
   "source": [
    "%pylab inline"
   ]
  },
  {
   "cell_type": "markdown",
   "metadata": {},
   "source": [
    "#### Import der notwendigen Pakete und Module"
   ]
  },
  {
   "cell_type": "code",
   "execution_count": null,
   "metadata": {},
   "outputs": [],
   "source": [
    "import matplotlib.pyplot as plt\n",
    "import numpy as np\n",
    "import scipy.constants as const\n",
    "import scipy\n",
    "from scipy.io import wavfile\n",
    "from pylab import *\n",
    "from scipy.fftpack import fft, ifft\n",
    "from IPython.display import Audio\n",
    "\n",
    "import functions.dsvorg as do\n",
    "import functions.data_resample as resample\n",
    "import functions.bsfilter as bsfilter\n",
    "import functions.classes as dc\n",
    "import functions.tproc_new as tp"
   ]
  },
  {
   "cell_type": "markdown",
   "metadata": {},
   "source": [
    "[Table of Contents](table_of_contents.ipynb)"
   ]
  },
  {
   "cell_type": "markdown",
   "metadata": {},
   "source": [
    "##### Protokoll\n",
    "## Mischen von Schall - Bearbeitung von Schall im Zeitbereich\n",
    "\n",
    "<table align=\"left\" width=\"400\">\n",
    "    <colgroup>\n",
    "       <col span=\"1\" style=\"width: 50%;\">\n",
    "       <col span=\"1\" style=\"width: 50%;\">\n",
    "    </colgroup>\n",
    "  <tr>\n",
    "    <th>Name</th>\n",
    "    <th>Vorname</th> \n",
    "  </tr>\n",
    "  <tr>\n",
    "    <td> Mustermann</td>\n",
    "    <td> Max</td>\n",
    "  </tr>\n",
    "</table>"
   ]
  },
  {
   "cell_type": "markdown",
   "metadata": {},
   "source": [
    "\n",
    "Schallereignisse in Hörspielen und Filmen umfassen oft eine Mischung aus Sprachsignalen und Geräuschen, die eine Umgebungsatmosphäre vermitteln sollen. Bei der Mischung sind 2 Ziele zu erreichen:\n",
    "- möglichst hohe Sprachverständlichkeit\n",
    "- möglichst authentische Geräuschumgebung.\n",
    "\n",
    "In den folgenden Aufgaben sollen Sie aus den zur Verfügung stehenden Sprach- und Umgebungsgeräuschaufnahmen Mischungen erzeugen, die diese Ziele erfüllen."
   ]
  },
  {
   "cell_type": "markdown",
   "metadata": {},
   "source": [
    "### Bearbeitung von Schall im Zeitbereich"
   ]
  },
  {
   "cell_type": "markdown",
   "metadata": {},
   "source": [
    "### <font color=\"#008000\">Aufgabe 1</font>\n",
    "Im folgenden werden die Signale: `mann.wav` und `glocken.wav` zur Erzeugung eines neuen Höreindrucks gemischt.\n",
    "\n",
    "- Hören Sie zunächst die Signale einzelnen an.\n",
    "- Beachten Sie die Angaben zu Signaldauer und Abtastfrequenz.\n",
    "- Hören Sie das Mischungsergebnis mit den Abtastfrequenzen der beiden Ursprungssignale an.\n",
    "\n",
    "Erklären Sie die entstehenden Effekte. Worin liegt die Ursache? Tragen Sie die Beobachtung in **Tabelle Mischen 1** ein."
   ]
  },
  {
   "cell_type": "code",
   "execution_count": null,
   "metadata": {},
   "outputs": [],
   "source": [
    "fs1, data_file1 = do.load_data('mann')\n",
    "fs2, data_file2 = do.load_data('glocken')\n",
    "len_file1 = len(data_file1)/fs1\n",
    "len_file2 = len(data_file2)/fs2\n",
    "print ('File 1: %s ATW, Dauer: %s s, fS = %s Hz' %(len(data_file1), round(len_file1, 3), fs1))\n",
    "print ('File 2: %s ATW, Dauer: %s s, fS = %s Hz' %(len(data_file2), round(len_file2, 3), fs2))"
   ]
  },
  {
   "cell_type": "code",
   "execution_count": null,
   "metadata": {},
   "outputs": [],
   "source": [
    "Audio(data = data_file1, rate = fs1, autoplay = True)"
   ]
  },
  {
   "cell_type": "code",
   "execution_count": null,
   "metadata": {},
   "outputs": [],
   "source": [
    "Audio(data = data_file2, rate = fs2, autoplay = True)"
   ]
  },
  {
   "cell_type": "markdown",
   "metadata": {},
   "source": [
    "Signale mischen, dazu längeres Signal kürzen"
   ]
  },
  {
   "cell_type": "code",
   "execution_count": null,
   "metadata": {},
   "outputs": [],
   "source": [
    "if len(data_file1) < len(data_file2):\n",
    "    data_file2 = data_file2[:len(data_file1)]\n",
    "else:\n",
    "    data_file1 = data_file1[:len(data_file2)]\n",
    "data = (data_file2 + data_file1)\n",
    "data = data/max(max(data), abs(min(data)))"
   ]
  },
  {
   "cell_type": "markdown",
   "metadata": {},
   "source": [
    "Ergebnis mit unterschiedlichen Abtastfrequenzen ausgeben"
   ]
  },
  {
   "cell_type": "markdown",
   "metadata": {},
   "source": [
    "#### <font color=\"#FF0000\">Eingabezelle 1</font>"
   ]
  },
  {
   "cell_type": "code",
   "execution_count": null,
   "metadata": {},
   "outputs": [],
   "source": [
    "#fs = fs1\n",
    "fs = fs2"
   ]
  },
  {
   "cell_type": "code",
   "execution_count": null,
   "metadata": {},
   "outputs": [],
   "source": [
    "Audio(data = data, rate = fs, autoplay = True)"
   ]
  },
  {
   "cell_type": "markdown",
   "metadata": {},
   "source": [
    "##### Protokoll\n",
    "#### Aufgabe 1 - Mischen 1\n",
    "<table align ='left'>\n",
    "    <colgroup>\n",
    "       <col span=\"1\" style=\"width: 10%;\">\n",
    "       <col span=\"1\" style=\"width: 10%;\">\n",
    "       <col span=\"1\" style=\"width: 20%;\">\n",
    "       <col span=\"1\" style=\"width: 60%;\">\n",
    "    </colgroup>\n",
    "  <tr>\n",
    "    <th>File1</th>\n",
    "    <th>File2</th> \n",
    "    <th>Abtastfrequenz Ausgabe</th>\n",
    "    <th>Kurzbeschreibung Ergebnis</th>\n",
    "  </tr>\n",
    "  <tr>\n",
    "    <th> mann.wav</th>\n",
    "    <th> glocken.wav</th> \n",
    "    <th> 16 kHz </th>\n",
    "    <th> </th>\n",
    "  </tr>\n",
    "  <tr>\n",
    "    <th> mann.wav</th>\n",
    "    <th> glocken.wav</th> \n",
    "    <th> 44.1 kHz </th>\n",
    "    <th> </th>\n",
    "  </tr>\n",
    "</table>"
   ]
  },
  {
   "cell_type": "markdown",
   "metadata": {},
   "source": [
    "### <font color=\"#008000\">Aufgabe 2</font>\n",
    "Verändern Sie für die Signalkombination die Abtastfrequenz für beide Signale jeweils auf die Werte eines der Originalsignale. Das Vorgehen zur Veränderung der Abtastfrequenz ist in der nächsten Zelle beschrieben.\n",
    "- Hören Sie die Mischungsergebnisse für die jeweils verwendete Abtastfrequenz an.\n",
    "- Fassen Sie die Ergebnisse in der **Tabelle Mischen 2** zusammen.\n",
    "- Welches der beiden Verfahren ist besser geeignet? (Begründung)"
   ]
  },
  {
   "cell_type": "markdown",
   "metadata": {},
   "source": [
    "#### Abtastraten anpassen\n",
    "\n",
    "Mit der Funktion `resample` kann die Abtastfrequenz eines `.wav`-Files verändert werden. Die Parameter der Funktion sind:\n",
    "- `Name des Originalfiles`\n",
    "- `upsampling-Wert`\n",
    "- `downsampling-Wert`\n",
    "- `Resamplingfrequenz`\n",
    "- `Name des resample-Files`\n",
    "\n",
    "Der up- und downsampling-Wert wird aus dem Verhältnis Originalabtastfrequenz : Resamplingfrequenz als Rationalbruch ermittelt:\n",
    "\n",
    "Beispiel1:\n",
    "\n",
    "$\\frac{f_{resample}}{f_{original}}=\\frac{44100}{48000}=\\frac{147}{160}=\\frac{up}{down}$\n",
    "\n",
    "Beispiel2:\n",
    "\n",
    "$\\frac{f_{resample}}{f_{original}}=\\frac{44100}{11025}=\\frac{4}{1}=\\frac{up}{down}$"
   ]
  },
  {
   "cell_type": "markdown",
   "metadata": {},
   "source": [
    "#### <font color=\"#FF0000\">Eingabezelle 2</font>"
   ]
  },
  {
   "cell_type": "code",
   "execution_count": null,
   "metadata": {},
   "outputs": [],
   "source": [
    "file_orig = 'mann'    # unverändert\n",
    "file = 'glocken'            # umgetastet\n",
    "f_neu = 44100\n",
    "up = 441\n",
    "down = 160"
   ]
  },
  {
   "cell_type": "code",
   "execution_count": null,
   "metadata": {},
   "outputs": [],
   "source": [
    "file_neu = file + '_' + str(f_neu)\n",
    "resample.resample(file, file_neu, up=up, down=down, f_neu=f_neu)"
   ]
  },
  {
   "cell_type": "code",
   "execution_count": null,
   "metadata": {},
   "outputs": [],
   "source": [
    "fs1, data_file1 = do.load_data(file_orig)\n",
    "fs2, data_file2 = do.load_data(file_neu)\n",
    "len_file1 = len(data_file1)/fs1\n",
    "len_file2 = len(data_file2)/fs2\n",
    "print ('File 1: %s ATW, Dauer: %s s, fS = %s Hz' %(len(data_file1), round(len_file1, 3), fs1))\n",
    "print ('File 2: %s ATW, Dauer: %s s, fS = %s Hz' %(len(data_file2), round(len_file2, 3), fs2))"
   ]
  },
  {
   "cell_type": "code",
   "execution_count": null,
   "metadata": {},
   "outputs": [],
   "source": [
    "if len(data_file1) < len(data_file2):\n",
    "    data_file2 = data_file2[:len(data_file1)]\n",
    "else:\n",
    "    data_file1 = data_file1[:len(data_file2)]\n",
    "data = (data_file2 + data_file1)\n",
    "data = data/max(max(data), abs(min(data)))"
   ]
  },
  {
   "cell_type": "code",
   "execution_count": null,
   "metadata": {},
   "outputs": [],
   "source": [
    "Audio(data = data, rate = f_neu, autoplay = True)"
   ]
  },
  {
   "cell_type": "markdown",
   "metadata": {
    "collapsed": true
   },
   "source": [
    "##### Protokoll\n",
    "#### Aufgabe 2 - Mischen 2\n",
    "<table>\n",
    "    <colgroup>\n",
    "       <col span=\"1\" style=\"width: 15%;\">\n",
    "       <col span=\"1\" style=\"width: 15%;\">\n",
    "       <col span=\"1\" style=\"width: 5%;\">\n",
    "       <col span=\"1\" style=\"width: 5%;\">\n",
    "       <col span=\"1\" style=\"width: 60%;\">\n",
    "    </colgroup>\n",
    "  <tr>\n",
    "    <th>File1</th>\n",
    "    <th>File2</th> \n",
    "    <th>fs1</th>\n",
    "    <th>fs2</th>    \n",
    "    <th>Kurzbeschreibung Ergebnis</th>\n",
    "  </tr>\n",
    "  <tr>\n",
    "    <th> mann.wav</th>\n",
    "    <th> glocken.wav</th> \n",
    "    <th> 44100</th>\n",
    "    <th> 44100</th>\n",
    "    <th> </th>\n",
    "  </tr>\n",
    "  <tr>\n",
    "    <th> mann.wav</th>\n",
    "    <th> glocken.wav</th> \n",
    "    <th> 16000</th>\n",
    "    <th> 16000</th>\n",
    "    <th> </th>\n",
    "  </tr>\n",
    "</table>\n",
    "\n",
    "\n",
    "besser geeingete Signalkombination:\n",
    "\n",
    "Begründung:"
   ]
  },
  {
   "cell_type": "code",
   "execution_count": null,
   "metadata": {},
   "outputs": [],
   "source": [
    "nb_in = 'DSVMI_part4.ipynb'\n",
    "nb_out = 'Protokoll_part4.ipynb'\n",
    "tp.protokoll(nb_in,nb_out)"
   ]
  }
 ],
 "metadata": {
  "kernelspec": {
   "display_name": "Python 3",
   "language": "python",
   "name": "python3"
  },
  "language_info": {
   "codemirror_mode": {
    "name": "ipython",
    "version": 3
   },
   "file_extension": ".py",
   "mimetype": "text/x-python",
   "name": "python",
   "nbconvert_exporter": "python",
   "pygments_lexer": "ipython3",
   "version": "3.7.1"
  }
 },
 "nbformat": 4,
 "nbformat_minor": 1
}
