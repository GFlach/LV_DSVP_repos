{
 "cells": [
  {
   "cell_type": "markdown",
   "metadata": {},
   "source": [
    "#### Festlegung für die Darstellung von interaktiven Graphiken innerhalb des Notebooks"
   ]
  },
  {
   "cell_type": "code",
   "execution_count": null,
   "metadata": {},
   "outputs": [],
   "source": [
    "%pylab inline"
   ]
  },
  {
   "cell_type": "markdown",
   "metadata": {},
   "source": [
    "#### Import der notwendigen Pakete und Module"
   ]
  },
  {
   "cell_type": "code",
   "execution_count": null,
   "metadata": {},
   "outputs": [],
   "source": [
    "import matplotlib.pyplot as plt\n",
    "import numpy as np\n",
    "import scipy.constants as const\n",
    "import scipy\n",
    "from scipy.io import wavfile\n",
    "from pylab import *\n",
    "from scipy.fftpack import fft, ifft\n",
    "from IPython.display import Audio\n",
    "\n",
    "import functions.dsvorg as do\n",
    "import functions.data_resample as resample\n",
    "import functions.bsfilter as bsfilter\n",
    "import functions.classes as dc\n",
    "import functions.tproc_new as tp"
   ]
  },
  {
   "cell_type": "markdown",
   "metadata": {},
   "source": [
    "[Table of Contents](table_of_contents.ipynb)"
   ]
  },
  {
   "cell_type": "code",
   "execution_count": null,
   "metadata": {},
   "outputs": [],
   "source": [
    "import functions.PrettyTable as pt"
   ]
  },
  {
   "cell_type": "markdown",
   "metadata": {},
   "source": [
    "##### Protokoll\n",
    "## Signale, akustische Ereignisse\n",
    "\n",
    "<table align=\"left\" width=\"400\">\n",
    "    <colgroup>\n",
    "       <col span=\"1\" style=\"width: 50%;\">\n",
    "       <col span=\"1\" style=\"width: 50%;\">\n",
    "    </colgroup>\n",
    "  <tr>\n",
    "    <th>Name</th>\n",
    "    <th>Vorname</th> \n",
    "  </tr>\n",
    "  <tr>\n",
    "    <td> Flach</td>\n",
    "    <td> Gudrun</td>\n",
    "  </tr>\n",
    "      <tr>\n",
    "    <td> Mustermann</td>\n",
    "    <td> Max</td>\n",
    "  </tr>\n",
    "\n",
    "</table>\n"
   ]
  },
  {
   "cell_type": "markdown",
   "metadata": {},
   "source": [
    "#### Hinweis:\n",
    "In dem Verzeichnis `sound` sind die für das Praktikum erforderlichen Signale enthalten. Alle im Rahmen der Experimente erstellten Signale werden unter den angegebenen Namen ebenfalls in diesem Verzeichnis abgespeichert."
   ]
  },
  {
   "cell_type": "code",
   "execution_count": null,
   "metadata": {},
   "outputs": [],
   "source": [
    "info_data = []\n",
    "head = ['Dateiname', 'Abtastrate', 'Datenformat', 'Anz. ATW', 'Maximum', 'Minimum']"
   ]
  },
  {
   "cell_type": "markdown",
   "metadata": {},
   "source": [
    "### Signalinformationen\n",
    "Für die korrekte Verarbeitung digitaler Signale sind eine Reihe von Informationen erforderlich, die in dem Dateiheader gehalten werden.  \n",
    "### <font color=\"#008000\">Aufgabe 1</font>\n",
    "Untersuchen Sie die aufgeführten Signale und berechnen Sie die Signaldauer. "
   ]
  },
  {
   "cell_type": "markdown",
   "metadata": {},
   "source": [
    "#### <font color=\"#FF0000\">Eingabezelle 1</font>"
   ]
  },
  {
   "cell_type": "code",
   "execution_count": null,
   "metadata": {},
   "outputs": [],
   "source": [
    "#file = 'gaense'\n",
    "#file = 'glocken'\n",
    "file = 'mann'\n",
    "#file = 'rauschen'\n",
    "#file = 'traktor_fahrt'\n",
    "#file = 'traktor_stand'\n",
    "#file = 'wasser'"
   ]
  },
  {
   "cell_type": "code",
   "execution_count": null,
   "metadata": {},
   "outputs": [],
   "source": [
    "info_data.append(do.get_info(file))\n",
    "pt.PrettyTable(info_data, head)"
   ]
  },
  {
   "cell_type": "markdown",
   "metadata": {},
   "source": [
    "##### Protokoll\n",
    "### Signaldauer\n",
    "\n",
    "<table align=\"left\" width=\"400\">\n",
    "    <colgroup>\n",
    "       <col span=\"1\" style=\"width: 50%;\">\n",
    "       <col span=\"1\" style=\"width: 50%;\">\n",
    "    </colgroup>\n",
    "  <tr>\n",
    "    <th>Datei</th>\n",
    "    <th>Signaldauer in ms</th> \n",
    "  </tr>\n",
    "  <tr>\n",
    "    <td> gaense</td>\n",
    "    <td> </td>\n",
    "  </tr>\n",
    "  <tr>\n",
    "    <td> glocken</td>\n",
    "    <td> </td>\n",
    "  </tr>\n",
    "  <tr>\n",
    "    <td> mann</td>\n",
    "    <td> </td>\n",
    "  </tr>\n",
    "  <tr>\n",
    "    <td> rauschen</td>\n",
    "    <td> </td>\n",
    "  </tr>\n",
    "  <tr>\n",
    "    <td> traktor_fahrt</td>\n",
    "    <td> </td>\n",
    "  </tr>\n",
    "  <tr>\n",
    "    <td> traktor_stand</td>\n",
    "    <td> </td>\n",
    "  </tr>\n",
    "  <tr>\n",
    "    <td> wasser</td>\n",
    "    <td> </td>\n",
    "  </tr>\n",
    "\n",
    "</table>\n"
   ]
  },
  {
   "cell_type": "markdown",
   "metadata": {},
   "source": [
    "### Normierung\n",
    "Die vorliegenden Daten unterscheiden sich hinsichtlich einiger Kriterien. Um Daten miteinander vergleichen zu können, sollten sie normiert werden. Zunächst soll eine Normierung auf den maximalen Betragswert des Signals vorgenommen werden."
   ]
  },
  {
   "cell_type": "markdown",
   "metadata": {},
   "source": [
    "### <font color=\"#008000\">Aufgabe 2</font>\n",
    "Sie sehen und hören ein nichtnormiertes und ein nichtnormiertes Signal. Vergleichen Sie die Darstellungen und die 3 Audioausgaben. Beschreiben und erklären Sie den beobachteten Effekt in der **Tabelle Normierung**!"
   ]
  },
  {
   "cell_type": "code",
   "execution_count": null,
   "metadata": {},
   "outputs": [],
   "source": [
    "fs, data = do.load_data_o('craco_o')\n",
    "fs, data_norm = do.load_data('craco_o')\n",
    "n = np.linspace(0, len(data)-1, len(data))\n",
    "plt.figure(figsize=(15,5))\n",
    "subplot(221)\n",
    "plt.plot(n, data)\n",
    "plt.title('Signal original')\n",
    "subplot(222)\n",
    "plt.plot(n, data_norm)\n",
    "plt.title('Signal normiert')\n",
    "plt.savefig('a2-2.jpg')\n",
    "plt.show()"
   ]
  },
  {
   "cell_type": "markdown",
   "metadata": {},
   "source": [
    "#### Audioausgabe 1\n",
    "Sie hören zunächst das originale und unmittelbar anschließend das normierte Signal."
   ]
  },
  {
   "cell_type": "code",
   "execution_count": null,
   "metadata": {},
   "outputs": [],
   "source": [
    "data_out = np.append(data, data_norm)\n",
    "Audio(data = data_out, rate = fs)"
   ]
  },
  {
   "cell_type": "markdown",
   "metadata": {},
   "source": [
    "#### Audioausgabe 2\n",
    "Sie hören das nicht normierte Signal. "
   ]
  },
  {
   "cell_type": "code",
   "execution_count": null,
   "metadata": {},
   "outputs": [],
   "source": [
    "Audio(data = data, rate = fs)"
   ]
  },
  {
   "cell_type": "markdown",
   "metadata": {},
   "source": [
    "#### Audioausgabe 3\n",
    "Sie hören das normierte Signal.  "
   ]
  },
  {
   "cell_type": "code",
   "execution_count": null,
   "metadata": {},
   "outputs": [],
   "source": [
    "Audio(data = data_norm, rate = fs)"
   ]
  },
  {
   "cell_type": "markdown",
   "metadata": {},
   "source": [
    "##### Protokoll\n",
    "#### Aufgabe 2 - Tabelle Normierung\n",
    "<table>\n",
    "    <colgroup>\n",
    "       <col span=\"1\" style=\"width: 12%;\">\n",
    "       <col span=\"1\" style=\"width: 40%;\">\n",
    "       <col span=\"1\" style=\"width: 40%;\">\n",
    "    </colgroup>\n",
    "  <tr>\n",
    "    <th>Audioausgabe</th>\n",
    "    <th>Beobachtung</th> \n",
    "    <th>Erklärung</th>\n",
    "  </tr>\n",
    "  <tr>\n",
    "    <td>nicht normiert + normiert</td>\n",
    "    <td> </td>\n",
    "    <td> </td>\n",
    "  </tr>\n",
    "  <tr>\n",
    "    <td>nicht normiert</td>\n",
    "    <td> </td>\n",
    "    <td> </td>\n",
    "  </tr>\n",
    "  <tr>\n",
    "    <td>normiert</td>\n",
    "    <td> </td>\n",
    "    <td> </td>\n",
    "  </tr>\n",
    "</table>\n",
    "<img src = 'a2-2.jpg'>"
   ]
  },
  {
   "cell_type": "markdown",
   "metadata": {},
   "source": [
    "### Veränderung der Dynamik\n",
    "Zur Veränderung der Dynamik stehen 4 Verfahren zur Verfügung (`komp`, `limit`, `expand` und `gate`, - Eingabezelle 3, Variable `typ` ), die in der Versuchsanleitung erläutert sind."
   ]
  },
  {
   "cell_type": "markdown",
   "metadata": {},
   "source": [
    "### <font color=\"#008000\">Aufgabe 3</font>\n",
    "Untersuchen Sie den Einfluss dieser Verfahren zunächst anhand eines Sinustones (Dauer 1s, Frequenz 800 Hz, Abtastfrequenz 16 kHz). \n",
    "\n",
    "- Testen Sie für jedes Verfahren 2 unterschiedliche Parameterkombinationen (`threshold`, `ratio`).\n",
    "- Tragen Sie die wahrgenommenen Veränderungen in der graphischen und akustischen Wahrnehmung in der **Tabelle Dynamik** ein."
   ]
  },
  {
   "cell_type": "markdown",
   "metadata": {},
   "source": [
    "#### <font color=\"#FF0000\">Eingabezelle 3</font>"
   ]
  },
  {
   "cell_type": "code",
   "execution_count": null,
   "metadata": {},
   "outputs": [],
   "source": [
    "threshold=0.2\n",
    "ratio=0.3\n",
    "typ='komp'"
   ]
  },
  {
   "cell_type": "code",
   "execution_count": null,
   "metadata": {
    "scrolled": true
   },
   "outputs": [],
   "source": [
    "sig = dc.sound.Sound()\n",
    "testsig = sig.generate_tone(800)\n",
    "weight = dc.dynamic.Dynamic(threshold=threshold, ratio=ratio, typ=typ)\n",
    "dynsig = do.demo_komp(testsig, weight)"
   ]
  },
  {
   "cell_type": "markdown",
   "metadata": {},
   "source": [
    "Bei der Audioausgabe hören Sie zunächst das Originalsignal (blau) und im Anschluss das mit dem Kompressionsverfahren behandelte Signal (grün). "
   ]
  },
  {
   "cell_type": "code",
   "execution_count": null,
   "metadata": {},
   "outputs": [],
   "source": [
    "data = np.append(testsig, dynsig)\n",
    "Audio(data = data, rate = 16000)"
   ]
  },
  {
   "cell_type": "markdown",
   "metadata": {},
   "source": [
    "##### Protokoll\n",
    "#### Aufgabe 3 - Tabelle Dynamik\n",
    "<table>\n",
    "    <colgroup>\n",
    "       <col span=\"1\" style=\"width: 10%;\">\n",
    "       <col span=\"1\" style=\"width: 10%;\">\n",
    "       <col span=\"1\" style=\"width: 10%;\">\n",
    "       <col span=\"1\" style=\"width: 35%;\">\n",
    "       <col span=\"1\" style=\"width: 35%;\">\n",
    "    </colgroup>\n",
    "  <tr>\n",
    "    <th>Verfahren</th>\n",
    "    <th>`threshold`</th> \n",
    "    <th>`ratio`</th>\n",
    "    <th>Veränderungen in der Signalform</th>\n",
    "    <th>Veränderung im Klang</th>\n",
    "  </tr>\n",
    "  <tr>\n",
    "    <th>Expander</th>\n",
    "    <th> </th> \n",
    "    <th> </th>\n",
    "    <th> </th>\n",
    "    <th> </th>\n",
    "  </tr>\n",
    "  <tr>\n",
    "    <th>Expander</th>\n",
    "    <th> </th> \n",
    "    <th> </th>\n",
    "    <th> </th>\n",
    "    <th> </th>\n",
    "  </tr>\n",
    "  <tr>\n",
    "    <th>Kompressor</th>\n",
    "    <th> </th> \n",
    "    <th> </th>\n",
    "    <th> </th>\n",
    "    <th> </th>\n",
    "  </tr>\n",
    "  <tr>\n",
    "    <th>Kompressor</th>\n",
    "    <th> </th> \n",
    "    <th> </th>\n",
    "    <th> </th>\n",
    "    <th> </th>\n",
    "  </tr>\n",
    "  <tr>\n",
    "    <th>Limiter</th>\n",
    "    <th> </th> \n",
    "    <th> </th>\n",
    "    <th> </th>\n",
    "    <th> </th>\n",
    "  </tr>\n",
    "  <tr>\n",
    "    <th>Limiter</th>\n",
    "    <th> </th> \n",
    "    <th> </th>\n",
    "    <th> </th>\n",
    "    <th> </th>\n",
    "  </tr>\n",
    "  <tr>\n",
    "    <th>Gate</th>\n",
    "    <th> </th> \n",
    "    <th> </th>\n",
    "    <th> </th>\n",
    "    <th> </th>\n",
    "  </tr>\n",
    "  <tr>\n",
    "    <th>Gate</th>\n",
    "    <th> </th> \n",
    "    <th> </th>\n",
    "    <th> </th>\n",
    "    <th> </th>\n",
    "  </tr>\n",
    "</table>"
   ]
  },
  {
   "cell_type": "markdown",
   "metadata": {},
   "source": [
    "#### <font color=\"#008000\">Aufgabe 4</font>\n",
    "Wenden Sie die Kompressionsverfahren mit den in der **Tabelle Anwendung Dynamikkompression** enthaltenen Parametern auf die folgenden Signale an und beschreiben Sie die Veränderung im Klang.\n",
    "- `dsv1_mann.wav` (1)\n",
    "- `dsv1_kind.wav` (2)"
   ]
  },
  {
   "cell_type": "markdown",
   "metadata": {},
   "source": [
    "#### <font color=\"#FF0000\">Eingabezelle 4</font>"
   ]
  },
  {
   "cell_type": "code",
   "execution_count": null,
   "metadata": {},
   "outputs": [],
   "source": [
    "file = 'dsv1_mann'\n",
    "threshold=0.2\n",
    "ratio=2\n",
    "typ='expand'"
   ]
  },
  {
   "cell_type": "code",
   "execution_count": null,
   "metadata": {
    "scrolled": true
   },
   "outputs": [],
   "source": [
    "weight = dc.dynamic.Dynamic(threshold=threshold, ratio=ratio, typ=typ)\n",
    "o_sig, fs = do.read_sig(file)\n",
    "d_sig = do.sig_komp(o_sig, weight)\n",
    "n = np.linspace(0, (len(o_sig)-1)/fs,len(o_sig))\n",
    "plt.figure(figsize=(12,3))\n",
    "subplot(121)\n",
    "plot(n, o_sig)\n",
    "title('Originalsignal')\n",
    "subplot(122)\n",
    "plot(n, d_sig)\n",
    "title('Signal mit Dynamikkompression')\n",
    "data = np.append(o_sig, d_sig)\n",
    "Audio(data = data, rate = fs)"
   ]
  },
  {
   "cell_type": "markdown",
   "metadata": {},
   "source": [
    "##### Protokoll\n",
    "#### Aufgabe 4 - Tabelle Anwendung Dynamikkompression\n",
    "<table>\n",
    "    <colgroup>\n",
    "       <col span=\"1\" style=\"width: 10%;\">\n",
    "       <col span=\"1\" style=\"width: 10%;\">\n",
    "       <col span=\"1\" style=\"width: 10%;\">\n",
    "       <col span=\"1\" style=\"width: 35%;\">\n",
    "       <col span=\"1\" style=\"width: 35%;\">\n",
    "    </colgroup>\n",
    "  <tr>\n",
    "    <th>Verfahren</th>\n",
    "    <th>`threshold`</th> \n",
    "    <th>`ratio`</th>\n",
    "    <th>Veränderungen in der Signalform</th>\n",
    "    <th>Veränderung im Klang</th>\n",
    "  </tr>\n",
    "  <tr>\n",
    "    <th>Kompressor</th>\n",
    "    <th>0.3 </th> \n",
    "    <th>0.2 </th>\n",
    "    <th> </th>\n",
    "    <th> </th>\n",
    "  </tr>\n",
    "  <tr>\n",
    "    <th>Limiter</th>\n",
    "    <th>0.4 </th> \n",
    "    <th>- </th>\n",
    "    <th> </th>\n",
    "    <th> </th>\n",
    "  </tr>\n",
    "  <tr>\n",
    "    <th>Expander</th>\n",
    "    <th>0.2 </th> \n",
    "    <th> 2</th>\n",
    "    <th> </th>\n",
    "    <th> </th>\n",
    "  </tr>\n",
    "  <tr>\n",
    "    <th>Gate</th>\n",
    "    <th> 0.2</th> \n",
    "    <th> -</th>\n",
    "    <th> </th>\n",
    "    <th> </th>\n",
    "  </tr>\n",
    "</table>"
   ]
  },
  {
   "cell_type": "code",
   "execution_count": null,
   "metadata": {},
   "outputs": [],
   "source": [
    "nb_in = 'D:\\\\Dokumente\\\\Lehre\\\\module\\\\DSV-MI\\\\notebooks\\\\DSM4\\\\DSVMI_part2.ipynb'\n",
    "nb_out = 'D:\\\\Dokumente\\\\Lehre\\\\module\\\\DSV-MI\\\\notebooks\\\\DSM4\\\\Protokoll_part2.ipynb'\n",
    "tp.protokoll(nb_in,nb_out)"
   ]
  },
  {
   "cell_type": "code",
   "execution_count": null,
   "metadata": {},
   "outputs": [],
   "source": []
  }
 ],
 "metadata": {
  "kernelspec": {
   "display_name": "Python 3",
   "language": "python",
   "name": "python3"
  },
  "language_info": {
   "codemirror_mode": {
    "name": "ipython",
    "version": 3
   },
   "file_extension": ".py",
   "mimetype": "text/x-python",
   "name": "python",
   "nbconvert_exporter": "python",
   "pygments_lexer": "ipython3",
   "version": "3.7.1"
  }
 },
 "nbformat": 4,
 "nbformat_minor": 1
}
