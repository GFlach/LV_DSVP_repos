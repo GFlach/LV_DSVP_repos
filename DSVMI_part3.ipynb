{
 "cells": [
  {
   "cell_type": "markdown",
   "metadata": {},
   "source": [
    "#### Import der notwendigen Pakete und Module"
   ]
  },
  {
   "cell_type": "code",
   "execution_count": null,
   "metadata": {},
   "outputs": [],
   "source": [
    "%pylab inline\n",
    "import matplotlib.pyplot as plt\n",
    "import numpy as np\n",
    "import scipy.constants as const\n",
    "import scipy\n",
    "from scipy.io import wavfile\n",
    "from pylab import *\n",
    "from scipy.fftpack import fft, ifft\n",
    "from IPython.display import Audio\n",
    "\n",
    "import functions.dsvorg as do\n",
    "import functions.data_resample as resample\n",
    "import functions.bsfilter as bsfilter\n",
    "import functions.classes as dc\n",
    "import functions.tproc_new as tp\n",
    "import functions.klang as ke"
   ]
  },
  {
   "cell_type": "markdown",
   "metadata": {},
   "source": [
    "[Table of Contents](table_of_contents.ipynb)"
   ]
  },
  {
   "cell_type": "markdown",
   "metadata": {},
   "source": [
    "##### Protokoll\n",
    "## Klangsynthese\n",
    "\n",
    "<table align=\"left\" width=\"400\">\n",
    "    <colgroup>\n",
    "       <col span=\"1\" style=\"width: 50%;\">\n",
    "       <col span=\"1\" style=\"width: 50%;\">\n",
    "    </colgroup>\n",
    "  <tr>\n",
    "    <th>Name</th>\n",
    "    <th>Vorname</th> \n",
    "  </tr>\n",
    "  <tr>\n",
    "    <td> Mustermann</td>\n",
    "    <td> Max</td>\n",
    "  </tr>\n",
    "</table>"
   ]
  },
  {
   "cell_type": "markdown",
   "metadata": {},
   "source": [
    "Die folgenden Aufgaben haben die Erzeugung synthetischer Klänge zum Inhalt. Dazu kann die Grundfrequenz, der Obertongehalt und der Zeitverlauf beeinflusst werden. Anhand der Auswertung \"natürlicher\" Klänge sollen geeignete Parameterwerte ermittelt und getestet werden."
   ]
  },
  {
   "cell_type": "markdown",
   "metadata": {},
   "source": [
    "Im folgenden sehen Sie den Zeitverlauf und das Kurzzeitspektrum von je 3 Tönen einer Flöte, einer Geige und eines Klaviers. Die Auswertung des Zeitverlaufs soll für die Gestaltung der Hüllkurve und die Auswertung des Kurzzeitspektrums für die Festlegung der Anzahl Oberschwingungen genutzt werden. \n",
    "\n",
    "In der folgenden Zelle können Sie diese Töne auch hörbar machen.\n",
    "\n",
    "<img src=\"images/dsv1_instrumente.jpg\" height=\"300\" width=\"700\">"
   ]
  },
  {
   "cell_type": "code",
   "execution_count": null,
   "metadata": {},
   "outputs": [],
   "source": [
    "fs, instrumente = wavfile.read('sound\\\\instrumente.wav')\n",
    "Audio(data = instrumente, rate = fs, autoplay = True)"
   ]
  },
  {
   "cell_type": "markdown",
   "metadata": {},
   "source": [
    "### Beispiel Flötenton\n",
    "Für den Flötenton sollte der Typ ADSR (siehe Anleitung) verwendet werden. Bei Auswertung der Obertöne fällt auf, dass nur jeder zweite deutlich sichtbar ist und dass die Amplitude abnimmt. Diese Charakteristik wird durch ein Dreiecksignal als Anregung erzeugt."
   ]
  },
  {
   "cell_type": "code",
   "execution_count": null,
   "metadata": {},
   "outputs": [],
   "source": [
    "env = [0.05, 0.05, 0.95, 1.0, 1.0]\n",
    "ke.plot_adsr(env)"
   ]
  },
  {
   "cell_type": "code",
   "execution_count": null,
   "metadata": {},
   "outputs": [],
   "source": [
    "Audio(data = ke.triang(env), rate = 8000, autoplay = True)"
   ]
  },
  {
   "cell_type": "markdown",
   "metadata": {},
   "source": [
    "### <font color=\"#008000\">Aufgabe 1</font>\n",
    "Erzeugen Sie nach dem Vorbild des Flötentons einen Violinenton und einen Klavierton durch geeignete Gestaltung der Hüllkurve und des Obertongehaltes. Speichern Sie die gewählten Parameterwerte in der Tabelle Instrumentenklang ab."
   ]
  },
  {
   "cell_type": "markdown",
   "metadata": {},
   "source": [
    "### Auswahl der Hüllkurve\n",
    "\n",
    "#### <font color=\"#FF0000\">Eingabezelle (Parameter Hüllkurve ADSR)</font>\n"
   ]
  },
  {
   "cell_type": "code",
   "execution_count": null,
   "metadata": {},
   "outputs": [],
   "source": [
    "tA = 0.15\n",
    "tD = 0.15\n",
    "tS = 0.85\n",
    "ED = 1.0\n",
    "ES = 1.0"
   ]
  },
  {
   "cell_type": "code",
   "execution_count": null,
   "metadata": {},
   "outputs": [],
   "source": [
    "env = [tA, tD, tS, ED, ES]\n",
    "ke.plot_adsr(env)"
   ]
  },
  {
   "cell_type": "markdown",
   "metadata": {},
   "source": [
    "#### <font color=\"#FF0000\">Eingabezelle (Parameter Hüllkurve Exponent)</font>"
   ]
  },
  {
   "cell_type": "code",
   "execution_count": null,
   "metadata": {},
   "outputs": [],
   "source": [
    "tA = 0.01\n",
    "EE = 0.1"
   ]
  },
  {
   "cell_type": "code",
   "execution_count": null,
   "metadata": {},
   "outputs": [],
   "source": [
    "env = [tA, EE]\n",
    "ke.plot_exponent(env)"
   ]
  },
  {
   "cell_type": "markdown",
   "metadata": {},
   "source": [
    "#### <font color=\"#FF0000\">Eingabezelle (Oberschwingungen)</font>\n",
    "relative Amplitude jeder Oberschwingung"
   ]
  },
  {
   "cell_type": "code",
   "execution_count": null,
   "metadata": {},
   "outputs": [],
   "source": [
    "ow = [1, 0.5, 0.5, 0.5, 0.45]"
   ]
  },
  {
   "cell_type": "code",
   "execution_count": null,
   "metadata": {},
   "outputs": [],
   "source": [
    "Audio(data = ke.klang(env = env, ow = ow), rate = 8000, autoplay = True)"
   ]
  },
  {
   "cell_type": "markdown",
   "metadata": {},
   "source": [
    "#### <font color=\"#FF0000\">Eingabezelle (Dreiecksignal)</font>"
   ]
  },
  {
   "cell_type": "code",
   "execution_count": null,
   "metadata": {},
   "outputs": [],
   "source": [
    "Audio(data = ke.triang(env = env), rate = 8000, autoplay = True)"
   ]
  },
  {
   "cell_type": "markdown",
   "metadata": {},
   "source": [
    "##### Protokoll\n",
    "#### Aufgabe 1 - Instrumentenklang\n",
    "<table align = 'left'>\n",
    "    <colgroup>\n",
    "       <col span=\"1\" style=\"width: 15%;\">\n",
    "       <col span=\"1\" style=\"width: 15%;\">\n",
    "       <col span=\"1\" style=\"width: 40%;\">\n",
    "       <col span=\"1\" style=\"width: 30%;\">\n",
    "    </colgroup>\n",
    "  <tr>\n",
    "    <th>Instrument </th>\n",
    "    <th>Grundfrequenz/Hz</th> \n",
    "    <th>Anz. OS/Anregungstyp</th>\n",
    "    <th>Hüllkurvenparameter</th>\n",
    "      \n",
    "  </tr>\n",
    "  <tr>\n",
    "    <th> Flöte</th>\n",
    "    <th> </th>\n",
    "    <th> </th> \n",
    "    <th> </th>\n",
    "  </tr>\n",
    "  <tr>\n",
    "    <th> Geige</th>\n",
    "    <th> </th> \n",
    "    <th> </th>\n",
    "    <th> </th>\n",
    "  </tr>\n",
    "  <tr>\n",
    "    <th> Klavier</th>\n",
    "    <th> </th> \n",
    "    <th> </th>\n",
    "    <th> </th>\n",
    "  </tr>\n",
    "</table>"
   ]
  },
  {
   "cell_type": "markdown",
   "metadata": {},
   "source": [
    "### <font color=\"#008000\">Aufgabe 2</font>\n",
    "Erzeugen Sie unter Verwendung des entworfenen Klavierklangs einen c-dur- und c-moll-Akkord. Die erforderlichen Frequenzwerte entnehmen Sie bitte Ihren Vorbereitungsaufgaben. Tragen Sie die Notenbezeichnungen und die Frequenzen in die Tabelle `Akkord` ein."
   ]
  },
  {
   "cell_type": "markdown",
   "metadata": {},
   "source": [
    "#### <font color=\"#FF0000\">Eingabezelle</font>"
   ]
  },
  {
   "cell_type": "code",
   "execution_count": null,
   "metadata": {},
   "outputs": [],
   "source": [
    "CII = 261\n",
    "E = CII * 2**(1/3)\n",
    "G = CII * 2**(7/12)\n",
    "Dis = CII * 2**(1/4)\n",
    "CIII = 2 * CII\n",
    "pitch = np.array([CII, Dis, G, CIII])"
   ]
  },
  {
   "cell_type": "code",
   "execution_count": null,
   "metadata": {},
   "outputs": [],
   "source": [
    "ow = [1, 0.5, 0.5, 0.5, 0.45]\n",
    "env = [0.01, 0.1]\n",
    "Audio(data = ke.accord(pitch, env = env, ow = ow), rate = 8000, autoplay = True)"
   ]
  },
  {
   "cell_type": "markdown",
   "metadata": {},
   "source": [
    "##### Protokoll\n",
    "#### Aufgabe 2 - Tabelle Akkord\n",
    "<table align ='left'>\n",
    "    <colgroup>\n",
    "       <col span=\"1\" style=\"width: 10%;\">\n",
    "       <col span=\"1\" style=\"width: 10%;\">\n",
    "       <col span=\"1\" style=\"width: 20%;\">\n",
    "    </colgroup>\n",
    "  <tr>\n",
    "    <th>Nr.</th>\n",
    "    <th>Note</th>\n",
    "    <th>Frequenz/Hz</th> \n",
    "\n",
    "</tr>\n",
    "  <tr>\n",
    "    <th>1 </th>\n",
    "    <th> </th>\n",
    "    <th> </th> \n",
    "  </tr>\n",
    "  <tr>\n",
    "    <th>2 </th>\n",
    "    <th> </th>\n",
    "    <th> </th> \n",
    "  </tr>\n",
    "  <tr>\n",
    "    <th>3 </th>\n",
    "    <th> </th>\n",
    "    <th> </th> \n",
    "  </tr>\n",
    "  <tr>\n",
    "    <th> 4</th>\n",
    "    <th> </th>\n",
    "    <th> </th> \n",
    "  </tr>\n",
    "    <tr>\n",
    "    <th>5 </th>\n",
    "    <th> </th>\n",
    "    <th> </th> \n",
    "  </tr>\n",
    "\n",
    "</table>"
   ]
  },
  {
   "cell_type": "markdown",
   "metadata": {},
   "source": [
    "### Vertonung eines Musikstücks\n",
    "Erzeugen Sie für das Prelude von Marc-Antoine Charpentier unterschiedliche Vertonungen. Folgende Experimente sind durchzuführen:\n",
    "- Synthese mit Sinustönen ohne/mit Hüllkuvenbewertung\n",
    "- Synthese mit Klängen ohne/mit Hüllkuvenbewertung\n",
    "- Synthese mit Dreiecksignal als Anregung  ohne/mit Hüllkuvenbewertung"
   ]
  },
  {
   "cell_type": "markdown",
   "metadata": {},
   "source": [
    "### <font color=\"#008000\">Aufgabe 3</font>\n",
    "Nehmen Sie die jeweiligen Vertonungen vor und beschreiben Sie den Höreindruck in der Tabelle `Vertonung`. \n",
    "\n",
    "#### Hinweis\n",
    "Die aktuell erzeugte Vertonung können Sie in der Zelle nach `Wiedergabe` anhören und in der Zelle nach `Visualisierung`  im Zeit- und Frequenzbereich veranschaulichen."
   ]
  },
  {
   "cell_type": "markdown",
   "metadata": {},
   "source": [
    "- Sinustöne ohne Hüllkurvenbewertung"
   ]
  },
  {
   "cell_type": "code",
   "execution_count": null,
   "metadata": {},
   "outputs": [],
   "source": [
    "music = ke.ton_prelude(env = [])"
   ]
  },
  {
   "cell_type": "markdown",
   "metadata": {},
   "source": [
    "- Sinustöne mit ADSR-Hüllkurvenbewertung"
   ]
  },
  {
   "cell_type": "code",
   "execution_count": null,
   "metadata": {},
   "outputs": [],
   "source": [
    "music = ke.ton_prelude(env = [0.15, 0.15, 0.85, 1.0, 1.0])"
   ]
  },
  {
   "cell_type": "markdown",
   "metadata": {},
   "source": [
    "- Sinustöne mit Exponent-Hüllkurvenbewertung"
   ]
  },
  {
   "cell_type": "code",
   "execution_count": null,
   "metadata": {},
   "outputs": [],
   "source": [
    "music = ke.ton_prelude(env = [0.01, 0.1])"
   ]
  },
  {
   "cell_type": "markdown",
   "metadata": {},
   "source": [
    "- Klänge ohne Hüllkurvenbewertung"
   ]
  },
  {
   "cell_type": "code",
   "execution_count": null,
   "metadata": {},
   "outputs": [],
   "source": [
    "music = ke.klang_prelude(env = [])"
   ]
  },
  {
   "cell_type": "markdown",
   "metadata": {},
   "source": [
    "- Klänge mit ADSR-Hüllkurvenbewertung"
   ]
  },
  {
   "cell_type": "code",
   "execution_count": null,
   "metadata": {},
   "outputs": [],
   "source": [
    "music = ke.klang_prelude(env = [0.15, 0.15, 0.85, 1.0, 1.0])"
   ]
  },
  {
   "cell_type": "markdown",
   "metadata": {},
   "source": [
    "- Klänge mit Exponent-Hüllkurvenbewertung"
   ]
  },
  {
   "cell_type": "code",
   "execution_count": null,
   "metadata": {},
   "outputs": [],
   "source": [
    "music = ke.klang_prelude(env = [0.01, 0.1])"
   ]
  },
  {
   "cell_type": "markdown",
   "metadata": {},
   "source": [
    "- Dreiecksignal ohne Hüllkurvenbewertung"
   ]
  },
  {
   "cell_type": "code",
   "execution_count": null,
   "metadata": {},
   "outputs": [],
   "source": [
    "music = ke.triang_prelude(env = [])"
   ]
  },
  {
   "cell_type": "markdown",
   "metadata": {},
   "source": [
    "- Dreiecksignal mit ADSR-Hüllkurvenbewertung"
   ]
  },
  {
   "cell_type": "code",
   "execution_count": null,
   "metadata": {},
   "outputs": [],
   "source": [
    "music = ke.triang_prelude(env = [0.15, 0.15, 0.85, 1.0, 1.0])"
   ]
  },
  {
   "cell_type": "markdown",
   "metadata": {},
   "source": [
    "- Dreiecksignal mit Exponent-Hüllkurvenbewertung"
   ]
  },
  {
   "cell_type": "code",
   "execution_count": null,
   "metadata": {},
   "outputs": [],
   "source": [
    "music = ke.triang_prelude(env = [0.01, 0.1])"
   ]
  },
  {
   "cell_type": "markdown",
   "metadata": {},
   "source": [
    "#### Wiedergabe"
   ]
  },
  {
   "cell_type": "code",
   "execution_count": null,
   "metadata": {},
   "outputs": [],
   "source": [
    "Audio(data = music, rate = 8000, autoplay = True)"
   ]
  },
  {
   "cell_type": "markdown",
   "metadata": {},
   "source": [
    "#### Visualisierung"
   ]
  },
  {
   "cell_type": "code",
   "execution_count": null,
   "metadata": {},
   "outputs": [],
   "source": [
    "ke.plot_zf(music, 8000)\n",
    "ke.plot_stspec(music, 8000)"
   ]
  },
  {
   "cell_type": "markdown",
   "metadata": {},
   "source": [
    "##### Protokoll\n",
    "#### Aufgabe 3 - Vertonung\n",
    "<table align = 'left'>\n",
    "    <colgroup>\n",
    "       <col span=\"1\" style=\"width: 30%;\">\n",
    "       <col span=\"1\" style=\"width: 70%;\">\n",
    "    </colgroup>\n",
    "  <tr>\n",
    "    <th>Verfahren</th>\n",
    "    <th>Höreindruck</th> \n",
    "\n",
    "</tr>\n",
    "  <tr>\n",
    "    <th> Sinustöne ohne Hüllkuvenbewertung</th>\n",
    "    <th> </th> \n",
    "  </tr>\n",
    "  <tr>\n",
    "    <th>Sinustöne mit ADSR</th>\n",
    "    <th> </th> \n",
    "  </tr>\n",
    "  <tr>\n",
    "    <th> Sinustöne mit Exponentbewertung</th>\n",
    "    <th> </th> \n",
    "  </tr>\n",
    "  <tr>\n",
    "    <th> Klänge ohne Hüllkuvenbewertung</th>\n",
    "    <th> </th> \n",
    "  </tr>\n",
    "  <tr>\n",
    "    <th>Klänge mit ADSR</th>\n",
    "    <th> </th> \n",
    "  </tr>\n",
    "  <tr>\n",
    "    <th> Klänge mit Exponentbewertung</th>\n",
    "    <th> </th> \n",
    "  </tr>\n",
    "  <tr>\n",
    "    <th> Dreiecksignal ohne Hüllkuvenbewertung</th>\n",
    "    <th> </th> \n",
    "  </tr>\n",
    "    <tr>\n",
    "    <th> Dreiecksignal mit ADSR</th>\n",
    "    <th> </th> \n",
    "  </tr>\n",
    "    <tr>\n",
    "    <th> Dreiecksignal mit Exponentbewertung</th>\n",
    "    <th> </th> \n",
    "  </tr>\n",
    "\n",
    "</table>"
   ]
  },
  {
   "cell_type": "code",
   "execution_count": null,
   "metadata": {},
   "outputs": [],
   "source": [
    "nb_in = 'DSVMI_part3.ipynb'\n",
    "nb_out = 'Protokoll_part3.ipynb'\n",
    "tp.protokoll(nb_in,nb_out)"
   ]
  }
 ],
 "metadata": {
  "kernelspec": {
   "display_name": "Python 3",
   "language": "python",
   "name": "python3"
  },
  "language_info": {
   "codemirror_mode": {
    "name": "ipython",
    "version": 3
   },
   "file_extension": ".py",
   "mimetype": "text/x-python",
   "name": "python",
   "nbconvert_exporter": "python",
   "pygments_lexer": "ipython3",
   "version": "3.7.3"
  }
 },
 "nbformat": 4,
 "nbformat_minor": 1
}
