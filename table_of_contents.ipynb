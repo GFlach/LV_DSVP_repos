{
 "cells": [
  {
   "cell_type": "markdown",
   "metadata": {},
   "source": [
    "<center><h1>Praktikum DSVMI Versuch DSM4</h1></center>\n",
    "<p>\n",
    " <p>\n",
    "\n",
    "## Inhaltsverzeichnis\n",
    "\n",
    "[**Einleitung**](DSVMI_part1.ipynb)\n",
    "\n",
    "[**Signale, akustische Ereignisse**](DSVMI_part2.ipynb)\n",
    "\n",
    "[**Klangsynthese**](DSVMI_part3.ipynb)\n",
    "\n",
    "## Mischen von Schall\n",
    "\n",
    "[**Bearbeitung im Zeitbereich**](DSVMI_part4.ipynb)\n",
    "\n",
    "[**Bearbeitung im Frequenzbereich**](DSVMI_part5.ipynb)"
   ]
  }
 ],
 "metadata": {
  "kernelspec": {
   "display_name": "Python 3",
   "language": "python",
   "name": "python3"
  },
  "language_info": {
   "codemirror_mode": {
    "name": "ipython",
    "version": 3
   },
   "file_extension": ".py",
   "mimetype": "text/x-python",
   "name": "python",
   "nbconvert_exporter": "python",
   "pygments_lexer": "ipython3",
   "version": "3.7.1"
  }
 },
 "nbformat": 4,
 "nbformat_minor": 1
}
