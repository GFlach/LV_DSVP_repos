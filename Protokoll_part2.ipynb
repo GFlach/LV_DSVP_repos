{

 "cells": [

  {

   "cell_type": "markdown",

   "metadata": {},

   "source": [


    "## Signale, akustische Ereignisse\n",

    "\n",

    "<table align=\"left\" width=\"400\">\n",

    "    <colgroup>\n",

    "       <col span=\"1\" style=\"width: 50%;\">\n",

    "       <col span=\"1\" style=\"width: 50%;\">\n",

    "    </colgroup>\n",

    "  <tr>\n",

    "    <th>Name</th>\n",

    "    <th>Vorname</th> \n",

    "  </tr>\n",

    "  <tr>\n",

    "    <td> Flach</td>\n",

    "    <td> Gudrun</td>\n",

    "  </tr>\n",

    "      <tr>\n",

    "    <td> Mustermann</td>\n",

    "    <td> Max</td>\n",

    "  </tr>\n",

    "\n",

    "</table>\n"

   ]

  },

  {

   "cell_type": "markdown",

   "metadata": {},

   "source": [


    "### Signaldauer\n",

    "\n",

    "<table align=\"left\" width=\"400\">\n",

    "    <colgroup>\n",

    "       <col span=\"1\" style=\"width: 50%;\">\n",

    "       <col span=\"1\" style=\"width: 50%;\">\n",

    "    </colgroup>\n",

    "  <tr>\n",

    "    <th>Datei</th>\n",

    "    <th>Signaldauer in ms</th> \n",

    "  </tr>\n",

    "  <tr>\n",

    "    <td> gaense</td>\n",

    "    <td> </td>\n",

    "  </tr>\n",

    "  <tr>\n",

    "    <td> glocken</td>\n",

    "    <td> </td>\n",

    "  </tr>\n",

    "  <tr>\n",

    "    <td> mann</td>\n",

    "    <td> </td>\n",

    "  </tr>\n",

    "  <tr>\n",

    "    <td> rauschen</td>\n",

    "    <td> </td>\n",

    "  </tr>\n",

    "  <tr>\n",

    "    <td> traktor_fahrt</td>\n",

    "    <td> </td>\n",

    "  </tr>\n",

    "  <tr>\n",

    "    <td> traktor_stand</td>\n",

    "    <td> </td>\n",

    "  </tr>\n",

    "  <tr>\n",

    "    <td> wasser</td>\n",

    "    <td> </td>\n",

    "  </tr>\n",

    "\n",

    "</table>\n"

   ]

  },

  {

   "cell_type": "markdown",

   "metadata": {},

   "source": [


    "#### Aufgabe 2 - Tabelle Normierung\n",

    "<table>\n",

    "    <colgroup>\n",

    "       <col span=\"1\" style=\"width: 12%;\">\n",

    "       <col span=\"1\" style=\"width: 40%;\">\n",

    "       <col span=\"1\" style=\"width: 40%;\">\n",

    "    </colgroup>\n",

    "  <tr>\n",

    "    <th>Audioausgabe</th>\n",

    "    <th>Beobachtung</th> \n",

    "    <th>Erklärung</th>\n",

    "  </tr>\n",

    "  <tr>\n",

    "    <td>nicht normiert + normiert</td>\n",

    "    <td> </td>\n",

    "    <td> </td>\n",

    "  </tr>\n",

    "  <tr>\n",

    "    <td>nicht normiert</td>\n",

    "    <td> </td>\n",

    "    <td> </td>\n",

    "  </tr>\n",

    "  <tr>\n",

    "    <td>normiert</td>\n",

    "    <td> </td>\n",

    "    <td> </td>\n",

    "  </tr>\n",

    "</table>\n",

    "<img src = 'a2-2.jpg'>"

   ]

  },

  {

   "cell_type": "markdown",

   "metadata": {},

   "source": [


    "#### Aufgabe 3 - Tabelle Dynamikbearbeitung\n",

    "<table>\n",

    "    <colgroup>\n",

    "       <col span=\"1\" style=\"width: 20%;\">\n",

    "       <col span=\"1\" style=\"width: 10%;\">\n",

    "       <col span=\"1\" style=\"width: 10%;\">\n",

    "       <col span=\"1\" style=\"width: 60%;\">\n",

    "    </colgroup>\n",

    "  <tr>\n",

    "    <th>Signal</th>\n",

    "    <th>Zeitfensterlänge</th> \n",

    "    <th>Glättungsbereich</th>\n",

    "    <th>Veränderung im Klang</th>\n",

    "  </tr>\n",

    "  <tr>\n",

    "    <th>musik</th>\n",

    "    <th> </th> \n",

    "    <th> </th>\n",

    "    <th> </th>\n",

    "    <th> </th>\n",

    "  </tr>\n",

    "  <tr>\n",

    "    <th>musik</th>\n",

    "    <th> </th> \n",

    "    <th> </th>\n",

    "    <th> </th>\n",

    "    <th> </th>\n",

    "  </tr>\n",

    "  <tr>\n",

    "    <th>frau_clean</th>\n",

    "    <th> </th> \n",

    "    <th> </th>\n",

    "    <th> </th>\n",

    "    <th> </th>\n",

    "  </tr>\n",

    "  <tr>\n",

    "    <th>frau_clean</th>\n",

    "    <th> </th> \n",

    "    <th> </th>\n",

    "    <th> </th>\n",

    "    <th> </th>\n",

    "  </tr>\n",

    "  <tr>\n",

    "    <th>instrumente</th>\n",

    "    <th> </th> \n",

    "    <th> </th>\n",

    "    <th> </th>\n",

    "    <th> </th>\n",

    "  </tr>\n",

    "  <tr>\n",

    "    <th>instrumente</th>\n",

    "    <th> </th> \n",

    "    <th> </th>\n",

    "    <th> </th>\n",

    "    <th> </th>\n",

    "  </tr>\n",

    "</table>\n",

    "\n",

    "<img src = 'image/dynamic.jpg'>"

   ]

  }

 ],

 "metadata": {

  "kernelspec": {

   "display_name": "Python 3",

   "language": "python",

   "name": "python3"

  },

  "language_info": {

   "codemirror_mode": {

    "name": "ipython",

    "version": 3

   },

   "file_extension": ".py",

   "mimetype": "text/x-python",

   "name": "python",

   "nbconvert_exporter": "python",

   "pygments_lexer": "ipython3",

   "version": "3.6.3"

  }

 },

 "nbformat": 4,

 "nbformat_minor": 1

}

